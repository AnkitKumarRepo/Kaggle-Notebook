{
 "cells": [
  {
   "cell_type": "code",
   "execution_count": 1,
   "id": "dd1cf7fe",
   "metadata": {
    "_cell_guid": "b1076dfc-b9ad-4769-8c92-a6c4dae69d19",
    "_uuid": "8f2839f25d086af736a60e9eeb907d3b93b6e0e5",
    "execution": {
     "iopub.execute_input": "2024-01-14T18:54:08.313676Z",
     "iopub.status.busy": "2024-01-14T18:54:08.313361Z",
     "iopub.status.idle": "2024-01-14T18:54:08.642189Z",
     "shell.execute_reply": "2024-01-14T18:54:08.640445Z"
    },
    "papermill": {
     "duration": 0.342015,
     "end_time": "2024-01-14T18:54:08.644905",
     "exception": false,
     "start_time": "2024-01-14T18:54:08.302890",
     "status": "completed"
    },
    "tags": []
   },
   "outputs": [],
   "source": [
    "# This Python 3 environment comes with many helpful analytics libraries installed\n",
    "# It is defined by the kaggle/python Docker image: https://github.com/kaggle/docker-python\n",
    "# For example, here's several helpful packages to load\n",
    "\n",
    "import numpy as np # linear algebra\n",
    "import pandas as pd # data processing, CSV file I/O (e.g. pd.read_csv)\n",
    "\n",
    "# Input data files are available in the read-only \"../input/\" directory\n",
    "# For example, running this (by clicking run or pressing Shift+Enter) will list all files under the input directory\n",
    "\n",
    "import os\n",
    "for dirname, _, filenames in os.walk('/kaggle/input'):\n",
    "    for filename in filenames:\n",
    "        print(os.path.join(dirname, filename))\n",
    "\n",
    "# You can write up to 20GB to the current directory (/kaggle/working/) that gets preserved as output when you create a version using \"Save & Run All\" \n",
    "# You can also write temporary files to /kaggle/temp/, but they won't be saved outside of the current session"
   ]
  },
  {
   "cell_type": "markdown",
   "id": "1d560a15",
   "metadata": {
    "papermill": {
     "duration": 0.007654,
     "end_time": "2024-01-14T18:54:08.661182",
     "exception": false,
     "start_time": "2024-01-14T18:54:08.653528",
     "status": "completed"
    },
    "tags": []
   },
   "source": [
    "NumPy - Numerical Python\n",
    "\n",
    "Advantages of Numpy Arrays:\n",
    "\n",
    "Allows several Mathematical Operations\n",
    "Faster operations"
   ]
  },
  {
   "cell_type": "code",
   "execution_count": 2,
   "id": "bcdd1f19",
   "metadata": {
    "execution": {
     "iopub.execute_input": "2024-01-14T18:54:08.678621Z",
     "iopub.status.busy": "2024-01-14T18:54:08.678192Z",
     "iopub.status.idle": "2024-01-14T18:54:08.683323Z",
     "shell.execute_reply": "2024-01-14T18:54:08.681957Z"
    },
    "papermill": {
     "duration": 0.01681,
     "end_time": "2024-01-14T18:54:08.685813",
     "exception": false,
     "start_time": "2024-01-14T18:54:08.669003",
     "status": "completed"
    },
    "tags": []
   },
   "outputs": [],
   "source": [
    "\n",
    "import numpy as np"
   ]
  },
  {
   "cell_type": "markdown",
   "id": "45491c0d",
   "metadata": {
    "papermill": {
     "duration": 0.00805,
     "end_time": "2024-01-14T18:54:08.702441",
     "exception": false,
     "start_time": "2024-01-14T18:54:08.694391",
     "status": "completed"
    },
    "tags": []
   },
   "source": [
    "List vs Numpy - Time Taken"
   ]
  },
  {
   "cell_type": "code",
   "execution_count": 3,
   "id": "42c4507f",
   "metadata": {
    "execution": {
     "iopub.execute_input": "2024-01-14T18:54:08.721248Z",
     "iopub.status.busy": "2024-01-14T18:54:08.720885Z",
     "iopub.status.idle": "2024-01-14T18:54:08.726252Z",
     "shell.execute_reply": "2024-01-14T18:54:08.724786Z"
    },
    "papermill": {
     "duration": 0.01818,
     "end_time": "2024-01-14T18:54:08.728900",
     "exception": false,
     "start_time": "2024-01-14T18:54:08.710720",
     "status": "completed"
    },
    "tags": []
   },
   "outputs": [],
   "source": [
    "\n",
    "from time import process_time"
   ]
  },
  {
   "cell_type": "code",
   "execution_count": 4,
   "id": "2227a2f8",
   "metadata": {
    "execution": {
     "iopub.execute_input": "2024-01-14T18:54:08.748535Z",
     "iopub.status.busy": "2024-01-14T18:54:08.748206Z",
     "iopub.status.idle": "2024-01-14T18:54:08.756272Z",
     "shell.execute_reply": "2024-01-14T18:54:08.754878Z"
    },
    "papermill": {
     "duration": 0.020863,
     "end_time": "2024-01-14T18:54:08.758564",
     "exception": false,
     "start_time": "2024-01-14T18:54:08.737701",
     "status": "completed"
    },
    "tags": []
   },
   "outputs": [
    {
     "name": "stdout",
     "output_type": "stream",
     "text": [
      "0.0009392500000000581\n"
     ]
    }
   ],
   "source": [
    "python_list = [i for i in range(10000)]\n",
    "\n",
    "start_time = process_time()\n",
    "\n",
    "python_list = [i+5 for i in python_list]\n",
    "\n",
    "end_time = process_time()\n",
    "\n",
    "print(end_time - start_time)"
   ]
  },
  {
   "cell_type": "code",
   "execution_count": 5,
   "id": "5de42116",
   "metadata": {
    "execution": {
     "iopub.execute_input": "2024-01-14T18:54:08.777321Z",
     "iopub.status.busy": "2024-01-14T18:54:08.777008Z",
     "iopub.status.idle": "2024-01-14T18:54:08.784344Z",
     "shell.execute_reply": "2024-01-14T18:54:08.783102Z"
    },
    "papermill": {
     "duration": 0.019336,
     "end_time": "2024-01-14T18:54:08.786483",
     "exception": false,
     "start_time": "2024-01-14T18:54:08.767147",
     "status": "completed"
    },
    "tags": []
   },
   "outputs": [
    {
     "name": "stdout",
     "output_type": "stream",
     "text": [
      "0.0006702309999999656\n"
     ]
    }
   ],
   "source": [
    "np_array = np.array([i for i in range(10000)])\n",
    "\n",
    "start_time = process_time()\n",
    "\n",
    "np_array += 5  \n",
    "\n",
    "end_time = process_time()\n",
    "\n",
    "print(end_time - start_time)"
   ]
  },
  {
   "cell_type": "code",
   "execution_count": 6,
   "id": "4267fc9d",
   "metadata": {
    "execution": {
     "iopub.execute_input": "2024-01-14T18:54:08.805386Z",
     "iopub.status.busy": "2024-01-14T18:54:08.805050Z",
     "iopub.status.idle": "2024-01-14T18:54:08.813455Z",
     "shell.execute_reply": "2024-01-14T18:54:08.811860Z"
    },
    "papermill": {
     "duration": 0.020203,
     "end_time": "2024-01-14T18:54:08.815471",
     "exception": false,
     "start_time": "2024-01-14T18:54:08.795268",
     "status": "completed"
    },
    "tags": []
   },
   "outputs": [
    {
     "name": "stdout",
     "output_type": "stream",
     "text": [
      "[1, 2, 3, 4, 5]\n"
     ]
    },
    {
     "data": {
      "text/plain": [
       "list"
      ]
     },
     "execution_count": 6,
     "metadata": {},
     "output_type": "execute_result"
    }
   ],
   "source": [
    "list1 = [1,2,3,4,5]\n",
    "print(list1)\n",
    "type(list1)"
   ]
  },
  {
   "cell_type": "code",
   "execution_count": 7,
   "id": "8a232eb8",
   "metadata": {
    "execution": {
     "iopub.execute_input": "2024-01-14T18:54:08.835361Z",
     "iopub.status.busy": "2024-01-14T18:54:08.835036Z",
     "iopub.status.idle": "2024-01-14T18:54:08.844222Z",
     "shell.execute_reply": "2024-01-14T18:54:08.842713Z"
    },
    "papermill": {
     "duration": 0.021851,
     "end_time": "2024-01-14T18:54:08.846056",
     "exception": false,
     "start_time": "2024-01-14T18:54:08.824205",
     "status": "completed"
    },
    "tags": []
   },
   "outputs": [
    {
     "name": "stdout",
     "output_type": "stream",
     "text": [
      "[1 2 3 4 5]\n"
     ]
    },
    {
     "data": {
      "text/plain": [
       "numpy.ndarray"
      ]
     },
     "execution_count": 7,
     "metadata": {},
     "output_type": "execute_result"
    }
   ],
   "source": [
    "np_array = np.array([1,2,3,4,5])\n",
    "print(np_array)\n",
    "type(np_array)"
   ]
  },
  {
   "cell_type": "code",
   "execution_count": 8,
   "id": "40f83257",
   "metadata": {
    "execution": {
     "iopub.execute_input": "2024-01-14T18:54:08.865368Z",
     "iopub.status.busy": "2024-01-14T18:54:08.865052Z",
     "iopub.status.idle": "2024-01-14T18:54:08.869516Z",
     "shell.execute_reply": "2024-01-14T18:54:08.868434Z"
    },
    "papermill": {
     "duration": 0.016442,
     "end_time": "2024-01-14T18:54:08.871330",
     "exception": false,
     "start_time": "2024-01-14T18:54:08.854888",
     "status": "completed"
    },
    "tags": []
   },
   "outputs": [
    {
     "name": "stdout",
     "output_type": "stream",
     "text": [
      "[1 2 3 4]\n"
     ]
    }
   ],
   "source": [
    "# creating a 1 dim array\n",
    "a = np.array([1,2,3,4])\n",
    "print(a)\n",
    "     "
   ]
  },
  {
   "cell_type": "code",
   "execution_count": 9,
   "id": "69d671a9",
   "metadata": {
    "execution": {
     "iopub.execute_input": "2024-01-14T18:54:08.891263Z",
     "iopub.status.busy": "2024-01-14T18:54:08.890652Z",
     "iopub.status.idle": "2024-01-14T18:54:08.896463Z",
     "shell.execute_reply": "2024-01-14T18:54:08.895496Z"
    },
    "papermill": {
     "duration": 0.018065,
     "end_time": "2024-01-14T18:54:08.898406",
     "exception": false,
     "start_time": "2024-01-14T18:54:08.880341",
     "status": "completed"
    },
    "tags": []
   },
   "outputs": [
    {
     "data": {
      "text/plain": [
       "(4,)"
      ]
     },
     "execution_count": 9,
     "metadata": {},
     "output_type": "execute_result"
    }
   ],
   "source": [
    "a.shape"
   ]
  },
  {
   "cell_type": "code",
   "execution_count": 10,
   "id": "1d13106b",
   "metadata": {
    "execution": {
     "iopub.execute_input": "2024-01-14T18:54:08.918056Z",
     "iopub.status.busy": "2024-01-14T18:54:08.917652Z",
     "iopub.status.idle": "2024-01-14T18:54:08.923265Z",
     "shell.execute_reply": "2024-01-14T18:54:08.922102Z"
    },
    "papermill": {
     "duration": 0.017284,
     "end_time": "2024-01-14T18:54:08.924905",
     "exception": false,
     "start_time": "2024-01-14T18:54:08.907621",
     "status": "completed"
    },
    "tags": []
   },
   "outputs": [
    {
     "name": "stdout",
     "output_type": "stream",
     "text": [
      "[[1 2 3 4]\n",
      " [5 6 7 8]]\n"
     ]
    }
   ],
   "source": [
    "b = np.array([(1,2,3,4),(5,6,7,8)])\n",
    "print(b)"
   ]
  },
  {
   "cell_type": "code",
   "execution_count": 11,
   "id": "61ce6943",
   "metadata": {
    "execution": {
     "iopub.execute_input": "2024-01-14T18:54:08.944129Z",
     "iopub.status.busy": "2024-01-14T18:54:08.943828Z",
     "iopub.status.idle": "2024-01-14T18:54:08.950244Z",
     "shell.execute_reply": "2024-01-14T18:54:08.948739Z"
    },
    "papermill": {
     "duration": 0.018402,
     "end_time": "2024-01-14T18:54:08.952261",
     "exception": false,
     "start_time": "2024-01-14T18:54:08.933859",
     "status": "completed"
    },
    "tags": []
   },
   "outputs": [
    {
     "data": {
      "text/plain": [
       "(2, 4)"
      ]
     },
     "execution_count": 11,
     "metadata": {},
     "output_type": "execute_result"
    }
   ],
   "source": [
    "b.shape"
   ]
  },
  {
   "cell_type": "code",
   "execution_count": 12,
   "id": "7860d74c",
   "metadata": {
    "execution": {
     "iopub.execute_input": "2024-01-14T18:54:08.976882Z",
     "iopub.status.busy": "2024-01-14T18:54:08.976521Z",
     "iopub.status.idle": "2024-01-14T18:54:08.982101Z",
     "shell.execute_reply": "2024-01-14T18:54:08.980845Z"
    },
    "papermill": {
     "duration": 0.02005,
     "end_time": "2024-01-14T18:54:08.984101",
     "exception": false,
     "start_time": "2024-01-14T18:54:08.964051",
     "status": "completed"
    },
    "tags": []
   },
   "outputs": [
    {
     "name": "stdout",
     "output_type": "stream",
     "text": [
      "[[1. 2. 3. 4.]\n",
      " [5. 6. 7. 8.]]\n"
     ]
    }
   ],
   "source": [
    "c = np.array([(1,2,3,4),(5,6,7,8)],dtype=float)\n",
    "print(c)"
   ]
  },
  {
   "cell_type": "code",
   "execution_count": 13,
   "id": "28d9f156",
   "metadata": {
    "execution": {
     "iopub.execute_input": "2024-01-14T18:54:09.004354Z",
     "iopub.status.busy": "2024-01-14T18:54:09.004028Z",
     "iopub.status.idle": "2024-01-14T18:54:09.008389Z",
     "shell.execute_reply": "2024-01-14T18:54:09.007786Z"
    },
    "papermill": {
     "duration": 0.016989,
     "end_time": "2024-01-14T18:54:09.010559",
     "exception": false,
     "start_time": "2024-01-14T18:54:08.993570",
     "status": "completed"
    },
    "tags": []
   },
   "outputs": [
    {
     "name": "stdout",
     "output_type": "stream",
     "text": [
      "[[0. 0. 0. 0. 0.]\n",
      " [0. 0. 0. 0. 0.]\n",
      " [0. 0. 0. 0. 0.]\n",
      " [0. 0. 0. 0. 0.]]\n"
     ]
    }
   ],
   "source": [
    "# create a numpy array of Zeros\n",
    "x = np.zeros((4,5))\n",
    "print(x)"
   ]
  },
  {
   "cell_type": "code",
   "execution_count": 14,
   "id": "8c543834",
   "metadata": {
    "execution": {
     "iopub.execute_input": "2024-01-14T18:54:09.091661Z",
     "iopub.status.busy": "2024-01-14T18:54:09.091318Z",
     "iopub.status.idle": "2024-01-14T18:54:09.096924Z",
     "shell.execute_reply": "2024-01-14T18:54:09.095391Z"
    },
    "papermill": {
     "duration": 0.018906,
     "end_time": "2024-01-14T18:54:09.099222",
     "exception": false,
     "start_time": "2024-01-14T18:54:09.080316",
     "status": "completed"
    },
    "tags": []
   },
   "outputs": [
    {
     "name": "stdout",
     "output_type": "stream",
     "text": [
      "[[1. 1. 1.]\n",
      " [1. 1. 1.]\n",
      " [1. 1. 1.]]\n"
     ]
    }
   ],
   "source": [
    "# create a numpy array of ones\n",
    "y = np.ones((3,3))\n",
    "print(y)\n",
    "     "
   ]
  },
  {
   "cell_type": "code",
   "execution_count": 15,
   "id": "f51f5940",
   "metadata": {
    "execution": {
     "iopub.execute_input": "2024-01-14T18:54:09.121470Z",
     "iopub.status.busy": "2024-01-14T18:54:09.121108Z",
     "iopub.status.idle": "2024-01-14T18:54:09.125792Z",
     "shell.execute_reply": "2024-01-14T18:54:09.125081Z"
    },
    "papermill": {
     "duration": 0.019039,
     "end_time": "2024-01-14T18:54:09.127927",
     "exception": false,
     "start_time": "2024-01-14T18:54:09.108888",
     "status": "completed"
    },
    "tags": []
   },
   "outputs": [
    {
     "name": "stdout",
     "output_type": "stream",
     "text": [
      "[[5 5 5 5]\n",
      " [5 5 5 5]\n",
      " [5 5 5 5]\n",
      " [5 5 5 5]\n",
      " [5 5 5 5]]\n"
     ]
    }
   ],
   "source": [
    "# array of a particular value\n",
    "z = np.full((5,4),5)\n",
    "print(z)\n",
    "     "
   ]
  },
  {
   "cell_type": "code",
   "execution_count": 16,
   "id": "236549ba",
   "metadata": {
    "execution": {
     "iopub.execute_input": "2024-01-14T18:54:09.148707Z",
     "iopub.status.busy": "2024-01-14T18:54:09.148343Z",
     "iopub.status.idle": "2024-01-14T18:54:09.153505Z",
     "shell.execute_reply": "2024-01-14T18:54:09.152371Z"
    },
    "papermill": {
     "duration": 0.018833,
     "end_time": "2024-01-14T18:54:09.156475",
     "exception": false,
     "start_time": "2024-01-14T18:54:09.137642",
     "status": "completed"
    },
    "tags": []
   },
   "outputs": [
    {
     "name": "stdout",
     "output_type": "stream",
     "text": [
      "[[1. 0. 0. 0. 0.]\n",
      " [0. 1. 0. 0. 0.]\n",
      " [0. 0. 1. 0. 0.]\n",
      " [0. 0. 0. 1. 0.]\n",
      " [0. 0. 0. 0. 1.]]\n"
     ]
    }
   ],
   "source": [
    "# create an identity matrix\n",
    "a = np.eye(5)\n",
    "print(a)"
   ]
  },
  {
   "cell_type": "code",
   "execution_count": 17,
   "id": "7591a024",
   "metadata": {
    "execution": {
     "iopub.execute_input": "2024-01-14T18:54:09.177941Z",
     "iopub.status.busy": "2024-01-14T18:54:09.177547Z",
     "iopub.status.idle": "2024-01-14T18:54:09.183034Z",
     "shell.execute_reply": "2024-01-14T18:54:09.181882Z"
    },
    "papermill": {
     "duration": 0.018941,
     "end_time": "2024-01-14T18:54:09.185431",
     "exception": false,
     "start_time": "2024-01-14T18:54:09.166490",
     "status": "completed"
    },
    "tags": []
   },
   "outputs": [
    {
     "name": "stdout",
     "output_type": "stream",
     "text": [
      "[[0.6769491  0.20130523 0.49323599 0.19131178]\n",
      " [0.24694393 0.58622752 0.95398173 0.79788727]\n",
      " [0.57219068 0.52613197 0.68398464 0.02878265]]\n"
     ]
    }
   ],
   "source": [
    "# create a numpy array with random values\n",
    "b = np.random.random((3,4))\n",
    "print(b)"
   ]
  },
  {
   "cell_type": "code",
   "execution_count": 18,
   "id": "210e1fe5",
   "metadata": {
    "execution": {
     "iopub.execute_input": "2024-01-14T18:54:09.206497Z",
     "iopub.status.busy": "2024-01-14T18:54:09.206148Z",
     "iopub.status.idle": "2024-01-14T18:54:09.211636Z",
     "shell.execute_reply": "2024-01-14T18:54:09.210823Z"
    },
    "papermill": {
     "duration": 0.018313,
     "end_time": "2024-01-14T18:54:09.213655",
     "exception": false,
     "start_time": "2024-01-14T18:54:09.195342",
     "status": "completed"
    },
    "tags": []
   },
   "outputs": [
    {
     "name": "stdout",
     "output_type": "stream",
     "text": [
      "[[96 57 77 92 88]\n",
      " [42 91 14 50 77]\n",
      " [69 66 71 84 85]]\n"
     ]
    }
   ],
   "source": [
    "# random integer values array within a specific range\n",
    "c = np.random.randint(10,100,(3,5))\n",
    "print(c)\n",
    "     "
   ]
  },
  {
   "cell_type": "code",
   "execution_count": 19,
   "id": "7ffd0416",
   "metadata": {
    "execution": {
     "iopub.execute_input": "2024-01-14T18:54:09.234627Z",
     "iopub.status.busy": "2024-01-14T18:54:09.234259Z",
     "iopub.status.idle": "2024-01-14T18:54:09.240140Z",
     "shell.execute_reply": "2024-01-14T18:54:09.238915Z"
    },
    "papermill": {
     "duration": 0.018852,
     "end_time": "2024-01-14T18:54:09.242082",
     "exception": false,
     "start_time": "2024-01-14T18:54:09.223230",
     "status": "completed"
    },
    "tags": []
   },
   "outputs": [
    {
     "name": "stdout",
     "output_type": "stream",
     "text": [
      "[10. 15. 20. 25. 30.]\n"
     ]
    }
   ],
   "source": [
    "# array of evenly spaced values --> specifying the number of values required\n",
    "d = np.linspace(10,30,5)\n",
    "print(d)"
   ]
  },
  {
   "cell_type": "code",
   "execution_count": 20,
   "id": "3250c99d",
   "metadata": {
    "execution": {
     "iopub.execute_input": "2024-01-14T18:54:09.263403Z",
     "iopub.status.busy": "2024-01-14T18:54:09.263055Z",
     "iopub.status.idle": "2024-01-14T18:54:09.269012Z",
     "shell.execute_reply": "2024-01-14T18:54:09.267836Z"
    },
    "papermill": {
     "duration": 0.019857,
     "end_time": "2024-01-14T18:54:09.271857",
     "exception": false,
     "start_time": "2024-01-14T18:54:09.252000",
     "status": "completed"
    },
    "tags": []
   },
   "outputs": [
    {
     "name": "stdout",
     "output_type": "stream",
     "text": [
      "[10 15 20 25]\n"
     ]
    }
   ],
   "source": [
    "# array of evenly spaced values --> specifying the step\n",
    "e = np.arange(10,30,5)\n",
    "print(e)"
   ]
  },
  {
   "cell_type": "code",
   "execution_count": 21,
   "id": "4fa28d13",
   "metadata": {
    "execution": {
     "iopub.execute_input": "2024-01-14T18:54:09.294325Z",
     "iopub.status.busy": "2024-01-14T18:54:09.294011Z",
     "iopub.status.idle": "2024-01-14T18:54:09.302112Z",
     "shell.execute_reply": "2024-01-14T18:54:09.300841Z"
    },
    "papermill": {
     "duration": 0.021749,
     "end_time": "2024-01-14T18:54:09.304206",
     "exception": false,
     "start_time": "2024-01-14T18:54:09.282457",
     "status": "completed"
    },
    "tags": []
   },
   "outputs": [
    {
     "name": "stdout",
     "output_type": "stream",
     "text": [
      "[10 20 20 20 50]\n"
     ]
    },
    {
     "data": {
      "text/plain": [
       "numpy.ndarray"
      ]
     },
     "execution_count": 21,
     "metadata": {},
     "output_type": "execute_result"
    }
   ],
   "source": [
    "# convert a list to a numpy array\n",
    "list2 = [10,20,20,20,50]\n",
    "\n",
    "np_array = np.asarray(list2)\n",
    "print(np_array)\n",
    "type(np_array)\n",
    "     "
   ]
  },
  {
   "cell_type": "code",
   "execution_count": 22,
   "id": "c59b2adb",
   "metadata": {
    "execution": {
     "iopub.execute_input": "2024-01-14T18:54:09.328144Z",
     "iopub.status.busy": "2024-01-14T18:54:09.327748Z",
     "iopub.status.idle": "2024-01-14T18:54:09.334393Z",
     "shell.execute_reply": "2024-01-14T18:54:09.332892Z"
    },
    "papermill": {
     "duration": 0.020758,
     "end_time": "2024-01-14T18:54:09.336237",
     "exception": false,
     "start_time": "2024-01-14T18:54:09.315479",
     "status": "completed"
    },
    "tags": []
   },
   "outputs": [
    {
     "name": "stdout",
     "output_type": "stream",
     "text": [
      "[[64 41 74 75 11]\n",
      " [29 44 69 63 40]\n",
      " [25 44 67 22 41]\n",
      " [18 67 78 61 40]\n",
      " [10 59 44 26 64]]\n"
     ]
    }
   ],
   "source": [
    "c = np.random.randint(10,90,(5,5))\n",
    "print(c)\n",
    "     "
   ]
  },
  {
   "cell_type": "code",
   "execution_count": 23,
   "id": "9487319f",
   "metadata": {
    "execution": {
     "iopub.execute_input": "2024-01-14T18:54:09.358512Z",
     "iopub.status.busy": "2024-01-14T18:54:09.358124Z",
     "iopub.status.idle": "2024-01-14T18:54:09.363877Z",
     "shell.execute_reply": "2024-01-14T18:54:09.362100Z"
    },
    "papermill": {
     "duration": 0.019381,
     "end_time": "2024-01-14T18:54:09.365989",
     "exception": false,
     "start_time": "2024-01-14T18:54:09.346608",
     "status": "completed"
    },
    "tags": []
   },
   "outputs": [
    {
     "name": "stdout",
     "output_type": "stream",
     "text": [
      "(5, 5)\n"
     ]
    }
   ],
   "source": [
    "# array dimension\n",
    "print(c.shape)"
   ]
  },
  {
   "cell_type": "code",
   "execution_count": 24,
   "id": "9214039e",
   "metadata": {
    "execution": {
     "iopub.execute_input": "2024-01-14T18:54:09.389384Z",
     "iopub.status.busy": "2024-01-14T18:54:09.389004Z",
     "iopub.status.idle": "2024-01-14T18:54:09.393277Z",
     "shell.execute_reply": "2024-01-14T18:54:09.392342Z"
    },
    "papermill": {
     "duration": 0.018724,
     "end_time": "2024-01-14T18:54:09.395255",
     "exception": false,
     "start_time": "2024-01-14T18:54:09.376531",
     "status": "completed"
    },
    "tags": []
   },
   "outputs": [
    {
     "name": "stdout",
     "output_type": "stream",
     "text": [
      "2\n"
     ]
    }
   ],
   "source": [
    "# number of dimensions\n",
    "print(c.ndim)\n",
    "     "
   ]
  },
  {
   "cell_type": "code",
   "execution_count": 25,
   "id": "883addd8",
   "metadata": {
    "execution": {
     "iopub.execute_input": "2024-01-14T18:54:09.417509Z",
     "iopub.status.busy": "2024-01-14T18:54:09.417200Z",
     "iopub.status.idle": "2024-01-14T18:54:09.421920Z",
     "shell.execute_reply": "2024-01-14T18:54:09.420673Z"
    },
    "papermill": {
     "duration": 0.018201,
     "end_time": "2024-01-14T18:54:09.423863",
     "exception": false,
     "start_time": "2024-01-14T18:54:09.405662",
     "status": "completed"
    },
    "tags": []
   },
   "outputs": [
    {
     "name": "stdout",
     "output_type": "stream",
     "text": [
      "25\n"
     ]
    }
   ],
   "source": [
    "# number of elements in an array\n",
    "print(c.size)\n",
    "     "
   ]
  },
  {
   "cell_type": "code",
   "execution_count": 26,
   "id": "ca206727",
   "metadata": {
    "execution": {
     "iopub.execute_input": "2024-01-14T18:54:09.445924Z",
     "iopub.status.busy": "2024-01-14T18:54:09.445592Z",
     "iopub.status.idle": "2024-01-14T18:54:09.451476Z",
     "shell.execute_reply": "2024-01-14T18:54:09.450215Z"
    },
    "papermill": {
     "duration": 0.019168,
     "end_time": "2024-01-14T18:54:09.453314",
     "exception": false,
     "start_time": "2024-01-14T18:54:09.434146",
     "status": "completed"
    },
    "tags": []
   },
   "outputs": [
    {
     "name": "stdout",
     "output_type": "stream",
     "text": [
      "int64\n"
     ]
    }
   ],
   "source": [
    "# checking the data type of the values in the array\n",
    "print(c.dtype)\n",
    "     "
   ]
  },
  {
   "cell_type": "markdown",
   "id": "64eaf336",
   "metadata": {
    "papermill": {
     "duration": 0.011224,
     "end_time": "2024-01-14T18:54:09.474820",
     "exception": false,
     "start_time": "2024-01-14T18:54:09.463596",
     "status": "completed"
    },
    "tags": []
   },
   "source": [
    "Mathematical operations on a np array"
   ]
  },
  {
   "cell_type": "code",
   "execution_count": 27,
   "id": "48c593b1",
   "metadata": {
    "execution": {
     "iopub.execute_input": "2024-01-14T18:54:09.499181Z",
     "iopub.status.busy": "2024-01-14T18:54:09.498702Z",
     "iopub.status.idle": "2024-01-14T18:54:09.505124Z",
     "shell.execute_reply": "2024-01-14T18:54:09.503736Z"
    },
    "papermill": {
     "duration": 0.021359,
     "end_time": "2024-01-14T18:54:09.507299",
     "exception": false,
     "start_time": "2024-01-14T18:54:09.485940",
     "status": "completed"
    },
    "tags": []
   },
   "outputs": [
    {
     "name": "stdout",
     "output_type": "stream",
     "text": [
      "[1, 2, 3, 4, 5, 6, 7, 8, 9, 10]\n"
     ]
    }
   ],
   "source": [
    "list1 = [1,2,3,4,5]\n",
    "list2 = [6,7,8,9,10]\n",
    "\n",
    "print(list1 + list2)    # concatenate or joins two list\n",
    "     "
   ]
  },
  {
   "cell_type": "code",
   "execution_count": 28,
   "id": "48586131",
   "metadata": {
    "execution": {
     "iopub.execute_input": "2024-01-14T18:54:09.529434Z",
     "iopub.status.busy": "2024-01-14T18:54:09.529068Z",
     "iopub.status.idle": "2024-01-14T18:54:09.535240Z",
     "shell.execute_reply": "2024-01-14T18:54:09.533987Z"
    },
    "papermill": {
     "duration": 0.019316,
     "end_time": "2024-01-14T18:54:09.537097",
     "exception": false,
     "start_time": "2024-01-14T18:54:09.517781",
     "status": "completed"
    },
    "tags": []
   },
   "outputs": [],
   "source": [
    "a = np.random.randint(0,10,(3,3))\n",
    "b = np.random.randint(10,20,(3,3))"
   ]
  },
  {
   "cell_type": "code",
   "execution_count": 29,
   "id": "bf4292d9",
   "metadata": {
    "execution": {
     "iopub.execute_input": "2024-01-14T18:54:09.558550Z",
     "iopub.status.busy": "2024-01-14T18:54:09.558192Z",
     "iopub.status.idle": "2024-01-14T18:54:09.564405Z",
     "shell.execute_reply": "2024-01-14T18:54:09.563208Z"
    },
    "papermill": {
     "duration": 0.019523,
     "end_time": "2024-01-14T18:54:09.566719",
     "exception": false,
     "start_time": "2024-01-14T18:54:09.547196",
     "status": "completed"
    },
    "tags": []
   },
   "outputs": [
    {
     "name": "stdout",
     "output_type": "stream",
     "text": [
      "[[3 1 1]\n",
      " [6 1 1]\n",
      " [4 2 2]]\n",
      "[[12 16 15]\n",
      " [14 18 14]\n",
      " [10 10 11]]\n"
     ]
    }
   ],
   "source": [
    "print(a)\n",
    "print(b)"
   ]
  },
  {
   "cell_type": "code",
   "execution_count": 30,
   "id": "45e9d1a7",
   "metadata": {
    "execution": {
     "iopub.execute_input": "2024-01-14T18:54:09.589627Z",
     "iopub.status.busy": "2024-01-14T18:54:09.589282Z",
     "iopub.status.idle": "2024-01-14T18:54:09.595339Z",
     "shell.execute_reply": "2024-01-14T18:54:09.594482Z"
    },
    "papermill": {
     "duration": 0.019619,
     "end_time": "2024-01-14T18:54:09.597325",
     "exception": false,
     "start_time": "2024-01-14T18:54:09.577706",
     "status": "completed"
    },
    "tags": []
   },
   "outputs": [
    {
     "name": "stdout",
     "output_type": "stream",
     "text": [
      "[[15 17 16]\n",
      " [20 19 15]\n",
      " [14 12 13]]\n",
      "[[ -9 -15 -14]\n",
      " [ -8 -17 -13]\n",
      " [ -6  -8  -9]]\n",
      "[[36 16 15]\n",
      " [84 18 14]\n",
      " [40 20 22]]\n",
      "[[0.25       0.0625     0.06666667]\n",
      " [0.42857143 0.05555556 0.07142857]\n",
      " [0.4        0.2        0.18181818]]\n"
     ]
    }
   ],
   "source": [
    "print(a+b)\n",
    "print(a-b)\n",
    "print(a*b)\n",
    "print(a/b)\n",
    "     "
   ]
  },
  {
   "cell_type": "code",
   "execution_count": 31,
   "id": "9764fe05",
   "metadata": {
    "execution": {
     "iopub.execute_input": "2024-01-14T18:54:09.619820Z",
     "iopub.status.busy": "2024-01-14T18:54:09.619472Z",
     "iopub.status.idle": "2024-01-14T18:54:09.624255Z",
     "shell.execute_reply": "2024-01-14T18:54:09.623305Z"
    },
    "papermill": {
     "duration": 0.018264,
     "end_time": "2024-01-14T18:54:09.626313",
     "exception": false,
     "start_time": "2024-01-14T18:54:09.608049",
     "status": "completed"
    },
    "tags": []
   },
   "outputs": [],
   "source": [
    "a = np.random.randint(0,10,(3,3))\n",
    "b = np.random.randint(10,20,(3,3))\n",
    "     "
   ]
  },
  {
   "cell_type": "code",
   "execution_count": 32,
   "id": "1b4fcc06",
   "metadata": {
    "execution": {
     "iopub.execute_input": "2024-01-14T18:54:09.648871Z",
     "iopub.status.busy": "2024-01-14T18:54:09.648478Z",
     "iopub.status.idle": "2024-01-14T18:54:09.654388Z",
     "shell.execute_reply": "2024-01-14T18:54:09.653123Z"
    },
    "papermill": {
     "duration": 0.0197,
     "end_time": "2024-01-14T18:54:09.656414",
     "exception": false,
     "start_time": "2024-01-14T18:54:09.636714",
     "status": "completed"
    },
    "tags": []
   },
   "outputs": [
    {
     "name": "stdout",
     "output_type": "stream",
     "text": [
      "[[8 8 5]\n",
      " [6 8 8]\n",
      " [1 4 3]]\n",
      "[[19 19 18]\n",
      " [12 19 15]\n",
      " [13 19 18]]\n"
     ]
    }
   ],
   "source": [
    "print(a)\n",
    "print(b)"
   ]
  },
  {
   "cell_type": "code",
   "execution_count": 33,
   "id": "603af2f1",
   "metadata": {
    "execution": {
     "iopub.execute_input": "2024-01-14T18:54:09.678564Z",
     "iopub.status.busy": "2024-01-14T18:54:09.678238Z",
     "iopub.status.idle": "2024-01-14T18:54:09.685013Z",
     "shell.execute_reply": "2024-01-14T18:54:09.683368Z"
    },
    "papermill": {
     "duration": 0.020033,
     "end_time": "2024-01-14T18:54:09.686937",
     "exception": false,
     "start_time": "2024-01-14T18:54:09.666904",
     "status": "completed"
    },
    "tags": []
   },
   "outputs": [
    {
     "name": "stdout",
     "output_type": "stream",
     "text": [
      "[[27 27 23]\n",
      " [18 27 23]\n",
      " [14 23 21]]\n",
      "[[-11 -11 -13]\n",
      " [ -6 -11  -7]\n",
      " [-12 -15 -15]]\n",
      "[[152 152  90]\n",
      " [ 72 152 120]\n",
      " [ 13  76  54]]\n",
      "[[0.42105263 0.42105263 0.27777778]\n",
      " [0.5        0.42105263 0.53333333]\n",
      " [0.07692308 0.21052632 0.16666667]]\n"
     ]
    }
   ],
   "source": [
    "print(np.add(a,b))\n",
    "print(np.subtract(a,b))\n",
    "print(np.multiply(a,b))\n",
    "print(np.divide(a,b))\n",
    "     "
   ]
  },
  {
   "cell_type": "markdown",
   "id": "44d27272",
   "metadata": {
    "papermill": {
     "duration": 0.010286,
     "end_time": "2024-01-14T18:54:09.707652",
     "exception": false,
     "start_time": "2024-01-14T18:54:09.697366",
     "status": "completed"
    },
    "tags": []
   },
   "source": [
    "Array Manipulation"
   ]
  },
  {
   "cell_type": "code",
   "execution_count": 34,
   "id": "22b4b6a1",
   "metadata": {
    "execution": {
     "iopub.execute_input": "2024-01-14T18:54:09.731132Z",
     "iopub.status.busy": "2024-01-14T18:54:09.730777Z",
     "iopub.status.idle": "2024-01-14T18:54:09.736916Z",
     "shell.execute_reply": "2024-01-14T18:54:09.735610Z"
    },
    "papermill": {
     "duration": 0.02106,
     "end_time": "2024-01-14T18:54:09.739160",
     "exception": false,
     "start_time": "2024-01-14T18:54:09.718100",
     "status": "completed"
    },
    "tags": []
   },
   "outputs": [
    {
     "name": "stdout",
     "output_type": "stream",
     "text": [
      "[[1 5 8]\n",
      " [7 9 8]]\n",
      "(2, 3)\n"
     ]
    }
   ],
   "source": [
    "array = np.random.randint(0,10,(2,3))\n",
    "print(array)\n",
    "print(array.shape)"
   ]
  },
  {
   "cell_type": "code",
   "execution_count": 35,
   "id": "32b047cd",
   "metadata": {
    "execution": {
     "iopub.execute_input": "2024-01-14T18:54:09.763239Z",
     "iopub.status.busy": "2024-01-14T18:54:09.762834Z",
     "iopub.status.idle": "2024-01-14T18:54:09.768648Z",
     "shell.execute_reply": "2024-01-14T18:54:09.767372Z"
    },
    "papermill": {
     "duration": 0.020365,
     "end_time": "2024-01-14T18:54:09.770537",
     "exception": false,
     "start_time": "2024-01-14T18:54:09.750172",
     "status": "completed"
    },
    "tags": []
   },
   "outputs": [
    {
     "name": "stdout",
     "output_type": "stream",
     "text": [
      "[[1 7]\n",
      " [5 9]\n",
      " [8 8]]\n",
      "(3, 2)\n"
     ]
    }
   ],
   "source": [
    "# transpose\n",
    "trans = np.transpose(array)\n",
    "print(trans)\n",
    "print(trans.shape)"
   ]
  },
  {
   "cell_type": "code",
   "execution_count": 36,
   "id": "12031f03",
   "metadata": {
    "execution": {
     "iopub.execute_input": "2024-01-14T18:54:09.795544Z",
     "iopub.status.busy": "2024-01-14T18:54:09.795229Z",
     "iopub.status.idle": "2024-01-14T18:54:09.801458Z",
     "shell.execute_reply": "2024-01-14T18:54:09.799716Z"
    },
    "papermill": {
     "duration": 0.022054,
     "end_time": "2024-01-14T18:54:09.804162",
     "exception": false,
     "start_time": "2024-01-14T18:54:09.782108",
     "status": "completed"
    },
    "tags": []
   },
   "outputs": [
    {
     "name": "stdout",
     "output_type": "stream",
     "text": [
      "[[5 9 2]\n",
      " [8 0 8]]\n",
      "(2, 3)\n"
     ]
    }
   ],
   "source": [
    "array = np.random.randint(0,10,(2,3))\n",
    "print(array)\n",
    "print(array.shape)\n",
    "     "
   ]
  },
  {
   "cell_type": "code",
   "execution_count": 37,
   "id": "06a6ff03",
   "metadata": {
    "execution": {
     "iopub.execute_input": "2024-01-14T18:54:09.828623Z",
     "iopub.status.busy": "2024-01-14T18:54:09.828271Z",
     "iopub.status.idle": "2024-01-14T18:54:09.833440Z",
     "shell.execute_reply": "2024-01-14T18:54:09.832610Z"
    },
    "papermill": {
     "duration": 0.019895,
     "end_time": "2024-01-14T18:54:09.835396",
     "exception": false,
     "start_time": "2024-01-14T18:54:09.815501",
     "status": "completed"
    },
    "tags": []
   },
   "outputs": [
    {
     "name": "stdout",
     "output_type": "stream",
     "text": [
      "[[5 8]\n",
      " [9 0]\n",
      " [2 8]]\n",
      "(3, 2)\n"
     ]
    }
   ],
   "source": [
    "trans2 = array.T\n",
    "print(trans2)\n",
    "print(trans2.shape)"
   ]
  },
  {
   "cell_type": "code",
   "execution_count": 38,
   "id": "73034421",
   "metadata": {
    "execution": {
     "iopub.execute_input": "2024-01-14T18:54:09.858627Z",
     "iopub.status.busy": "2024-01-14T18:54:09.858323Z",
     "iopub.status.idle": "2024-01-14T18:54:09.864483Z",
     "shell.execute_reply": "2024-01-14T18:54:09.863312Z"
    },
    "papermill": {
     "duration": 0.02072,
     "end_time": "2024-01-14T18:54:09.866961",
     "exception": false,
     "start_time": "2024-01-14T18:54:09.846241",
     "status": "completed"
    },
    "tags": []
   },
   "outputs": [
    {
     "name": "stdout",
     "output_type": "stream",
     "text": [
      "[[1 5 0]\n",
      " [7 9 1]]\n",
      "(2, 3)\n"
     ]
    }
   ],
   "source": [
    "# reshaping a array\n",
    "a = np.random.randint(0,10,(2,3))\n",
    "print(a)\n",
    "print(a.shape)"
   ]
  },
  {
   "cell_type": "code",
   "execution_count": 39,
   "id": "afa59643",
   "metadata": {
    "execution": {
     "iopub.execute_input": "2024-01-14T18:54:09.891570Z",
     "iopub.status.busy": "2024-01-14T18:54:09.891198Z",
     "iopub.status.idle": "2024-01-14T18:54:09.897207Z",
     "shell.execute_reply": "2024-01-14T18:54:09.895726Z"
    },
    "papermill": {
     "duration": 0.021055,
     "end_time": "2024-01-14T18:54:09.899965",
     "exception": false,
     "start_time": "2024-01-14T18:54:09.878910",
     "status": "completed"
    },
    "tags": []
   },
   "outputs": [
    {
     "name": "stdout",
     "output_type": "stream",
     "text": [
      "[[1 5]\n",
      " [0 7]\n",
      " [9 1]]\n",
      "(3, 2)\n"
     ]
    }
   ],
   "source": [
    "b = a.reshape(3,2)\n",
    "print(b)\n",
    "print(b.shape)"
   ]
  },
  {
   "cell_type": "code",
   "execution_count": null,
   "id": "bc7f570a",
   "metadata": {
    "papermill": {
     "duration": 0.011539,
     "end_time": "2024-01-14T18:54:09.922660",
     "exception": false,
     "start_time": "2024-01-14T18:54:09.911121",
     "status": "completed"
    },
    "tags": []
   },
   "outputs": [],
   "source": []
  }
 ],
 "metadata": {
  "kaggle": {
   "accelerator": "none",
   "dataSources": [],
   "dockerImageVersionId": 30635,
   "isGpuEnabled": false,
   "isInternetEnabled": true,
   "language": "python",
   "sourceType": "notebook"
  },
  "kernelspec": {
   "display_name": "Python 3",
   "language": "python",
   "name": "python3"
  },
  "language_info": {
   "codemirror_mode": {
    "name": "ipython",
    "version": 3
   },
   "file_extension": ".py",
   "mimetype": "text/x-python",
   "name": "python",
   "nbconvert_exporter": "python",
   "pygments_lexer": "ipython3",
   "version": "3.10.12"
  },
  "papermill": {
   "default_parameters": {},
   "duration": 4.761368,
   "end_time": "2024-01-14T18:54:10.354590",
   "environment_variables": {},
   "exception": null,
   "input_path": "__notebook__.ipynb",
   "output_path": "__notebook__.ipynb",
   "parameters": {},
   "start_time": "2024-01-14T18:54:05.593222",
   "version": "2.4.0"
  }
 },
 "nbformat": 4,
 "nbformat_minor": 5
}
