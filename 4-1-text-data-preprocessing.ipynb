{
 "cells": [
  {
   "cell_type": "code",
   "execution_count": 1,
   "id": "d3be5309",
   "metadata": {
    "_cell_guid": "b1076dfc-b9ad-4769-8c92-a6c4dae69d19",
    "_uuid": "8f2839f25d086af736a60e9eeb907d3b93b6e0e5",
    "execution": {
     "iopub.execute_input": "2024-01-15T18:59:35.853659Z",
     "iopub.status.busy": "2024-01-15T18:59:35.853248Z",
     "iopub.status.idle": "2024-01-15T18:59:36.230197Z",
     "shell.execute_reply": "2024-01-15T18:59:36.228757Z"
    },
    "papermill": {
     "duration": 0.388256,
     "end_time": "2024-01-15T18:59:36.232744",
     "exception": false,
     "start_time": "2024-01-15T18:59:35.844488",
     "status": "completed"
    },
    "tags": []
   },
   "outputs": [
    {
     "name": "stdout",
     "output_type": "stream",
     "text": [
      "/kaggle/input/fake-news-dataset/fake_news_dataset.csv\n"
     ]
    }
   ],
   "source": [
    "# This Python 3 environment comes with many helpful analytics libraries installed\n",
    "# It is defined by the kaggle/python Docker image: https://github.com/kaggle/docker-python\n",
    "# For example, here's several helpful packages to load\n",
    "\n",
    "import numpy as np # linear algebra\n",
    "import pandas as pd # data processing, CSV file I/O (e.g. pd.read_csv)\n",
    "\n",
    "# Input data files are available in the read-only \"../input/\" directory\n",
    "# For example, running this (by clicking run or pressing Shift+Enter) will list all files under the input directory\n",
    "\n",
    "import os\n",
    "for dirname, _, filenames in os.walk('/kaggle/input'):\n",
    "    for filename in filenames:\n",
    "        print(os.path.join(dirname, filename))\n",
    "\n",
    "# You can write up to 20GB to the current directory (/kaggle/working/) that gets preserved as output when you create a version using \"Save & Run All\" \n",
    "# You can also write temporary files to /kaggle/temp/, but they won't be saved outside of the current session"
   ]
  },
  {
   "cell_type": "markdown",
   "id": "e19263a4",
   "metadata": {
    "papermill": {
     "duration": 0.006108,
     "end_time": "2024-01-15T18:59:36.245282",
     "exception": false,
     "start_time": "2024-01-15T18:59:36.239174",
     "status": "completed"
    },
    "tags": []
   },
   "source": [
    "Importing the Dependencies"
   ]
  },
  {
   "cell_type": "code",
   "execution_count": 2,
   "id": "4182c758",
   "metadata": {
    "execution": {
     "iopub.execute_input": "2024-01-15T18:59:36.260102Z",
     "iopub.status.busy": "2024-01-15T18:59:36.258817Z",
     "iopub.status.idle": "2024-01-15T18:59:37.969188Z",
     "shell.execute_reply": "2024-01-15T18:59:37.968180Z"
    },
    "papermill": {
     "duration": 1.720495,
     "end_time": "2024-01-15T18:59:37.971901",
     "exception": false,
     "start_time": "2024-01-15T18:59:36.251406",
     "status": "completed"
    },
    "tags": []
   },
   "outputs": [],
   "source": [
    "import numpy as np\n",
    "import pandas as pd\n",
    "import re\n",
    "import nltk \n",
    "from nltk.corpus import stopwords\n",
    "from nltk.stem.porter import PorterStemmer\n",
    "from sklearn.feature_extraction.text import TfidfVectorizer\n",
    "from sklearn.model_selection import train_test_split"
   ]
  },
  {
   "cell_type": "code",
   "execution_count": 3,
   "id": "9835b26d",
   "metadata": {
    "execution": {
     "iopub.execute_input": "2024-01-15T18:59:37.986493Z",
     "iopub.status.busy": "2024-01-15T18:59:37.985571Z",
     "iopub.status.idle": "2024-01-15T18:59:38.053018Z",
     "shell.execute_reply": "2024-01-15T18:59:38.052043Z"
    },
    "papermill": {
     "duration": 0.076997,
     "end_time": "2024-01-15T18:59:38.055322",
     "exception": false,
     "start_time": "2024-01-15T18:59:37.978325",
     "status": "completed"
    },
    "tags": []
   },
   "outputs": [
    {
     "name": "stdout",
     "output_type": "stream",
     "text": [
      "[nltk_data] Downloading package stopwords to /usr/share/nltk_data...\n",
      "[nltk_data]   Package stopwords is already up-to-date!\n"
     ]
    },
    {
     "data": {
      "text/plain": [
       "True"
      ]
     },
     "execution_count": 3,
     "metadata": {},
     "output_type": "execute_result"
    }
   ],
   "source": [
    "nltk.download('stopwords')\n",
    "     "
   ]
  },
  {
   "cell_type": "code",
   "execution_count": 4,
   "id": "0cfafd92",
   "metadata": {
    "execution": {
     "iopub.execute_input": "2024-01-15T18:59:38.069830Z",
     "iopub.status.busy": "2024-01-15T18:59:38.069459Z",
     "iopub.status.idle": "2024-01-15T18:59:38.077942Z",
     "shell.execute_reply": "2024-01-15T18:59:38.076643Z"
    },
    "papermill": {
     "duration": 0.018091,
     "end_time": "2024-01-15T18:59:38.079957",
     "exception": false,
     "start_time": "2024-01-15T18:59:38.061866",
     "status": "completed"
    },
    "tags": []
   },
   "outputs": [
    {
     "name": "stdout",
     "output_type": "stream",
     "text": [
      "['i', 'me', 'my', 'myself', 'we', 'our', 'ours', 'ourselves', 'you', \"you're\", \"you've\", \"you'll\", \"you'd\", 'your', 'yours', 'yourself', 'yourselves', 'he', 'him', 'his', 'himself', 'she', \"she's\", 'her', 'hers', 'herself', 'it', \"it's\", 'its', 'itself', 'they', 'them', 'their', 'theirs', 'themselves', 'what', 'which', 'who', 'whom', 'this', 'that', \"that'll\", 'these', 'those', 'am', 'is', 'are', 'was', 'were', 'be', 'been', 'being', 'have', 'has', 'had', 'having', 'do', 'does', 'did', 'doing', 'a', 'an', 'the', 'and', 'but', 'if', 'or', 'because', 'as', 'until', 'while', 'of', 'at', 'by', 'for', 'with', 'about', 'against', 'between', 'into', 'through', 'during', 'before', 'after', 'above', 'below', 'to', 'from', 'up', 'down', 'in', 'out', 'on', 'off', 'over', 'under', 'again', 'further', 'then', 'once', 'here', 'there', 'when', 'where', 'why', 'how', 'all', 'any', 'both', 'each', 'few', 'more', 'most', 'other', 'some', 'such', 'no', 'nor', 'not', 'only', 'own', 'same', 'so', 'than', 'too', 'very', 's', 't', 'can', 'will', 'just', 'don', \"don't\", 'should', \"should've\", 'now', 'd', 'll', 'm', 'o', 're', 've', 'y', 'ain', 'aren', \"aren't\", 'couldn', \"couldn't\", 'didn', \"didn't\", 'doesn', \"doesn't\", 'hadn', \"hadn't\", 'hasn', \"hasn't\", 'haven', \"haven't\", 'isn', \"isn't\", 'ma', 'mightn', \"mightn't\", 'mustn', \"mustn't\", 'needn', \"needn't\", 'shan', \"shan't\", 'shouldn', \"shouldn't\", 'wasn', \"wasn't\", 'weren', \"weren't\", 'won', \"won't\", 'wouldn', \"wouldn't\"]\n"
     ]
    }
   ],
   "source": [
    "# printing the stopwords\n",
    "print(stopwords.words('english'))"
   ]
  },
  {
   "cell_type": "markdown",
   "id": "29a0a3f7",
   "metadata": {
    "papermill": {
     "duration": 0.006245,
     "end_time": "2024-01-15T18:59:38.092859",
     "exception": false,
     "start_time": "2024-01-15T18:59:38.086614",
     "status": "completed"
    },
    "tags": []
   },
   "source": [
    "Data Pre-Processing"
   ]
  },
  {
   "cell_type": "code",
   "execution_count": 5,
   "id": "94d61e17",
   "metadata": {
    "execution": {
     "iopub.execute_input": "2024-01-15T18:59:38.107685Z",
     "iopub.status.busy": "2024-01-15T18:59:38.107024Z",
     "iopub.status.idle": "2024-01-15T18:59:40.771517Z",
     "shell.execute_reply": "2024-01-15T18:59:40.770434Z"
    },
    "papermill": {
     "duration": 2.6749,
     "end_time": "2024-01-15T18:59:40.774196",
     "exception": false,
     "start_time": "2024-01-15T18:59:38.099296",
     "status": "completed"
    },
    "tags": []
   },
   "outputs": [],
   "source": [
    "# load the data to a pandas dataframe\n",
    "news_data = pd.read_csv('/kaggle/input/fake-news-dataset/fake_news_dataset.csv')\n",
    "     "
   ]
  },
  {
   "cell_type": "code",
   "execution_count": 6,
   "id": "e75485d0",
   "metadata": {
    "execution": {
     "iopub.execute_input": "2024-01-15T18:59:40.789892Z",
     "iopub.status.busy": "2024-01-15T18:59:40.789440Z",
     "iopub.status.idle": "2024-01-15T18:59:40.812048Z",
     "shell.execute_reply": "2024-01-15T18:59:40.810775Z"
    },
    "papermill": {
     "duration": 0.033387,
     "end_time": "2024-01-15T18:59:40.814598",
     "exception": false,
     "start_time": "2024-01-15T18:59:40.781211",
     "status": "completed"
    },
    "tags": []
   },
   "outputs": [
    {
     "data": {
      "text/html": [
       "<div>\n",
       "<style scoped>\n",
       "    .dataframe tbody tr th:only-of-type {\n",
       "        vertical-align: middle;\n",
       "    }\n",
       "\n",
       "    .dataframe tbody tr th {\n",
       "        vertical-align: top;\n",
       "    }\n",
       "\n",
       "    .dataframe thead th {\n",
       "        text-align: right;\n",
       "    }\n",
       "</style>\n",
       "<table border=\"1\" class=\"dataframe\">\n",
       "  <thead>\n",
       "    <tr style=\"text-align: right;\">\n",
       "      <th></th>\n",
       "      <th>id</th>\n",
       "      <th>title</th>\n",
       "      <th>author</th>\n",
       "      <th>text</th>\n",
       "      <th>label</th>\n",
       "    </tr>\n",
       "  </thead>\n",
       "  <tbody>\n",
       "    <tr>\n",
       "      <th>0</th>\n",
       "      <td>0</td>\n",
       "      <td>House Dem Aide: We Didn’t Even See Comey’s Let...</td>\n",
       "      <td>Darrell Lucus</td>\n",
       "      <td>House Dem Aide: We Didn’t Even See Comey’s Let...</td>\n",
       "      <td>1</td>\n",
       "    </tr>\n",
       "    <tr>\n",
       "      <th>1</th>\n",
       "      <td>1</td>\n",
       "      <td>FLYNN: Hillary Clinton, Big Woman on Campus - ...</td>\n",
       "      <td>Daniel J. Flynn</td>\n",
       "      <td>Ever get the feeling your life circles the rou...</td>\n",
       "      <td>0</td>\n",
       "    </tr>\n",
       "    <tr>\n",
       "      <th>2</th>\n",
       "      <td>2</td>\n",
       "      <td>Why the Truth Might Get You Fired</td>\n",
       "      <td>Consortiumnews.com</td>\n",
       "      <td>Why the Truth Might Get You Fired October 29, ...</td>\n",
       "      <td>1</td>\n",
       "    </tr>\n",
       "    <tr>\n",
       "      <th>3</th>\n",
       "      <td>3</td>\n",
       "      <td>15 Civilians Killed In Single US Airstrike Hav...</td>\n",
       "      <td>Jessica Purkiss</td>\n",
       "      <td>Videos 15 Civilians Killed In Single US Airstr...</td>\n",
       "      <td>1</td>\n",
       "    </tr>\n",
       "    <tr>\n",
       "      <th>4</th>\n",
       "      <td>4</td>\n",
       "      <td>Iranian woman jailed for fictional unpublished...</td>\n",
       "      <td>Howard Portnoy</td>\n",
       "      <td>Print \\nAn Iranian woman has been sentenced to...</td>\n",
       "      <td>1</td>\n",
       "    </tr>\n",
       "  </tbody>\n",
       "</table>\n",
       "</div>"
      ],
      "text/plain": [
       "   id                                              title              author  \\\n",
       "0   0  House Dem Aide: We Didn’t Even See Comey’s Let...       Darrell Lucus   \n",
       "1   1  FLYNN: Hillary Clinton, Big Woman on Campus - ...     Daniel J. Flynn   \n",
       "2   2                  Why the Truth Might Get You Fired  Consortiumnews.com   \n",
       "3   3  15 Civilians Killed In Single US Airstrike Hav...     Jessica Purkiss   \n",
       "4   4  Iranian woman jailed for fictional unpublished...      Howard Portnoy   \n",
       "\n",
       "                                                text  label  \n",
       "0  House Dem Aide: We Didn’t Even See Comey’s Let...      1  \n",
       "1  Ever get the feeling your life circles the rou...      0  \n",
       "2  Why the Truth Might Get You Fired October 29, ...      1  \n",
       "3  Videos 15 Civilians Killed In Single US Airstr...      1  \n",
       "4  Print \\nAn Iranian woman has been sentenced to...      1  "
      ]
     },
     "execution_count": 6,
     "metadata": {},
     "output_type": "execute_result"
    }
   ],
   "source": [
    "news_data.head()"
   ]
  },
  {
   "cell_type": "code",
   "execution_count": 7,
   "id": "7e77ec97",
   "metadata": {
    "execution": {
     "iopub.execute_input": "2024-01-15T18:59:40.830309Z",
     "iopub.status.busy": "2024-01-15T18:59:40.829930Z",
     "iopub.status.idle": "2024-01-15T18:59:40.836747Z",
     "shell.execute_reply": "2024-01-15T18:59:40.835677Z"
    },
    "papermill": {
     "duration": 0.017081,
     "end_time": "2024-01-15T18:59:40.838787",
     "exception": false,
     "start_time": "2024-01-15T18:59:40.821706",
     "status": "completed"
    },
    "tags": []
   },
   "outputs": [
    {
     "data": {
      "text/plain": [
       "(20800, 5)"
      ]
     },
     "execution_count": 7,
     "metadata": {},
     "output_type": "execute_result"
    }
   ],
   "source": [
    "news_data.shape"
   ]
  },
  {
   "cell_type": "code",
   "execution_count": 8,
   "id": "0732dc79",
   "metadata": {
    "execution": {
     "iopub.execute_input": "2024-01-15T18:59:40.855511Z",
     "iopub.status.busy": "2024-01-15T18:59:40.854693Z",
     "iopub.status.idle": "2024-01-15T18:59:40.869693Z",
     "shell.execute_reply": "2024-01-15T18:59:40.868907Z"
    },
    "papermill": {
     "duration": 0.025539,
     "end_time": "2024-01-15T18:59:40.871659",
     "exception": false,
     "start_time": "2024-01-15T18:59:40.846120",
     "status": "completed"
    },
    "tags": []
   },
   "outputs": [
    {
     "data": {
      "text/plain": [
       "id           0\n",
       "title      558\n",
       "author    1957\n",
       "text        39\n",
       "label        0\n",
       "dtype: int64"
      ]
     },
     "execution_count": 8,
     "metadata": {},
     "output_type": "execute_result"
    }
   ],
   "source": [
    "news_data.isnull().sum()"
   ]
  },
  {
   "cell_type": "code",
   "execution_count": 9,
   "id": "5b858ae5",
   "metadata": {
    "execution": {
     "iopub.execute_input": "2024-01-15T18:59:40.889177Z",
     "iopub.status.busy": "2024-01-15T18:59:40.888003Z",
     "iopub.status.idle": "2024-01-15T18:59:40.902925Z",
     "shell.execute_reply": "2024-01-15T18:59:40.901918Z"
    },
    "papermill": {
     "duration": 0.025847,
     "end_time": "2024-01-15T18:59:40.905426",
     "exception": false,
     "start_time": "2024-01-15T18:59:40.879579",
     "status": "completed"
    },
    "tags": []
   },
   "outputs": [],
   "source": [
    "# replacing the missing values with null string\n",
    "news_data=news_data.fillna('')"
   ]
  },
  {
   "cell_type": "code",
   "execution_count": 10,
   "id": "40dd99ec",
   "metadata": {
    "execution": {
     "iopub.execute_input": "2024-01-15T18:59:40.922333Z",
     "iopub.status.busy": "2024-01-15T18:59:40.921920Z",
     "iopub.status.idle": "2024-01-15T18:59:40.937597Z",
     "shell.execute_reply": "2024-01-15T18:59:40.936389Z"
    },
    "papermill": {
     "duration": 0.027328,
     "end_time": "2024-01-15T18:59:40.940277",
     "exception": false,
     "start_time": "2024-01-15T18:59:40.912949",
     "status": "completed"
    },
    "tags": []
   },
   "outputs": [],
   "source": [
    "#merging the author name and news title\n",
    "news_data['content']=news_data['author']+' '+news_data['title']"
   ]
  },
  {
   "cell_type": "code",
   "execution_count": 11,
   "id": "20d9afa8",
   "metadata": {
    "execution": {
     "iopub.execute_input": "2024-01-15T18:59:40.957917Z",
     "iopub.status.busy": "2024-01-15T18:59:40.957485Z",
     "iopub.status.idle": "2024-01-15T18:59:40.970308Z",
     "shell.execute_reply": "2024-01-15T18:59:40.969176Z"
    },
    "papermill": {
     "duration": 0.023974,
     "end_time": "2024-01-15T18:59:40.972674",
     "exception": false,
     "start_time": "2024-01-15T18:59:40.948700",
     "status": "completed"
    },
    "tags": []
   },
   "outputs": [
    {
     "data": {
      "text/html": [
       "<div>\n",
       "<style scoped>\n",
       "    .dataframe tbody tr th:only-of-type {\n",
       "        vertical-align: middle;\n",
       "    }\n",
       "\n",
       "    .dataframe tbody tr th {\n",
       "        vertical-align: top;\n",
       "    }\n",
       "\n",
       "    .dataframe thead th {\n",
       "        text-align: right;\n",
       "    }\n",
       "</style>\n",
       "<table border=\"1\" class=\"dataframe\">\n",
       "  <thead>\n",
       "    <tr style=\"text-align: right;\">\n",
       "      <th></th>\n",
       "      <th>id</th>\n",
       "      <th>title</th>\n",
       "      <th>author</th>\n",
       "      <th>text</th>\n",
       "      <th>label</th>\n",
       "      <th>content</th>\n",
       "    </tr>\n",
       "  </thead>\n",
       "  <tbody>\n",
       "    <tr>\n",
       "      <th>0</th>\n",
       "      <td>0</td>\n",
       "      <td>House Dem Aide: We Didn’t Even See Comey’s Let...</td>\n",
       "      <td>Darrell Lucus</td>\n",
       "      <td>House Dem Aide: We Didn’t Even See Comey’s Let...</td>\n",
       "      <td>1</td>\n",
       "      <td>Darrell Lucus House Dem Aide: We Didn’t Even S...</td>\n",
       "    </tr>\n",
       "    <tr>\n",
       "      <th>1</th>\n",
       "      <td>1</td>\n",
       "      <td>FLYNN: Hillary Clinton, Big Woman on Campus - ...</td>\n",
       "      <td>Daniel J. Flynn</td>\n",
       "      <td>Ever get the feeling your life circles the rou...</td>\n",
       "      <td>0</td>\n",
       "      <td>Daniel J. Flynn FLYNN: Hillary Clinton, Big Wo...</td>\n",
       "    </tr>\n",
       "    <tr>\n",
       "      <th>2</th>\n",
       "      <td>2</td>\n",
       "      <td>Why the Truth Might Get You Fired</td>\n",
       "      <td>Consortiumnews.com</td>\n",
       "      <td>Why the Truth Might Get You Fired October 29, ...</td>\n",
       "      <td>1</td>\n",
       "      <td>Consortiumnews.com Why the Truth Might Get You...</td>\n",
       "    </tr>\n",
       "    <tr>\n",
       "      <th>3</th>\n",
       "      <td>3</td>\n",
       "      <td>15 Civilians Killed In Single US Airstrike Hav...</td>\n",
       "      <td>Jessica Purkiss</td>\n",
       "      <td>Videos 15 Civilians Killed In Single US Airstr...</td>\n",
       "      <td>1</td>\n",
       "      <td>Jessica Purkiss 15 Civilians Killed In Single ...</td>\n",
       "    </tr>\n",
       "    <tr>\n",
       "      <th>4</th>\n",
       "      <td>4</td>\n",
       "      <td>Iranian woman jailed for fictional unpublished...</td>\n",
       "      <td>Howard Portnoy</td>\n",
       "      <td>Print \\nAn Iranian woman has been sentenced to...</td>\n",
       "      <td>1</td>\n",
       "      <td>Howard Portnoy Iranian woman jailed for fictio...</td>\n",
       "    </tr>\n",
       "  </tbody>\n",
       "</table>\n",
       "</div>"
      ],
      "text/plain": [
       "   id                                              title              author  \\\n",
       "0   0  House Dem Aide: We Didn’t Even See Comey’s Let...       Darrell Lucus   \n",
       "1   1  FLYNN: Hillary Clinton, Big Woman on Campus - ...     Daniel J. Flynn   \n",
       "2   2                  Why the Truth Might Get You Fired  Consortiumnews.com   \n",
       "3   3  15 Civilians Killed In Single US Airstrike Hav...     Jessica Purkiss   \n",
       "4   4  Iranian woman jailed for fictional unpublished...      Howard Portnoy   \n",
       "\n",
       "                                                text  label  \\\n",
       "0  House Dem Aide: We Didn’t Even See Comey’s Let...      1   \n",
       "1  Ever get the feeling your life circles the rou...      0   \n",
       "2  Why the Truth Might Get You Fired October 29, ...      1   \n",
       "3  Videos 15 Civilians Killed In Single US Airstr...      1   \n",
       "4  Print \\nAn Iranian woman has been sentenced to...      1   \n",
       "\n",
       "                                             content  \n",
       "0  Darrell Lucus House Dem Aide: We Didn’t Even S...  \n",
       "1  Daniel J. Flynn FLYNN: Hillary Clinton, Big Wo...  \n",
       "2  Consortiumnews.com Why the Truth Might Get You...  \n",
       "3  Jessica Purkiss 15 Civilians Killed In Single ...  \n",
       "4  Howard Portnoy Iranian woman jailed for fictio...  "
      ]
     },
     "execution_count": 11,
     "metadata": {},
     "output_type": "execute_result"
    }
   ],
   "source": [
    "news_data.head()"
   ]
  },
  {
   "cell_type": "code",
   "execution_count": 12,
   "id": "c2f2b67f",
   "metadata": {
    "execution": {
     "iopub.execute_input": "2024-01-15T18:59:40.990515Z",
     "iopub.status.busy": "2024-01-15T18:59:40.989681Z",
     "iopub.status.idle": "2024-01-15T18:59:41.005985Z",
     "shell.execute_reply": "2024-01-15T18:59:41.004941Z"
    },
    "papermill": {
     "duration": 0.028105,
     "end_time": "2024-01-15T18:59:41.008547",
     "exception": false,
     "start_time": "2024-01-15T18:59:40.980442",
     "status": "completed"
    },
    "tags": []
   },
   "outputs": [],
   "source": [
    "X = news_data.drop(columns='label', axis =1)\n",
    "Y = news_data['label']"
   ]
  },
  {
   "cell_type": "code",
   "execution_count": 13,
   "id": "faa6c167",
   "metadata": {
    "execution": {
     "iopub.execute_input": "2024-01-15T18:59:41.025880Z",
     "iopub.status.busy": "2024-01-15T18:59:41.025231Z",
     "iopub.status.idle": "2024-01-15T18:59:41.035113Z",
     "shell.execute_reply": "2024-01-15T18:59:41.033920Z"
    },
    "papermill": {
     "duration": 0.021146,
     "end_time": "2024-01-15T18:59:41.037491",
     "exception": false,
     "start_time": "2024-01-15T18:59:41.016345",
     "status": "completed"
    },
    "tags": []
   },
   "outputs": [
    {
     "name": "stdout",
     "output_type": "stream",
     "text": [
      "          id                                              title  \\\n",
      "0          0  House Dem Aide: We Didn’t Even See Comey’s Let...   \n",
      "1          1  FLYNN: Hillary Clinton, Big Woman on Campus - ...   \n",
      "2          2                  Why the Truth Might Get You Fired   \n",
      "3          3  15 Civilians Killed In Single US Airstrike Hav...   \n",
      "4          4  Iranian woman jailed for fictional unpublished...   \n",
      "...      ...                                                ...   \n",
      "20795  20795  Rapper T.I.: Trump a ’Poster Child For White S...   \n",
      "20796  20796  N.F.L. Playoffs: Schedule, Matchups and Odds -...   \n",
      "20797  20797  Macy’s Is Said to Receive Takeover Approach by...   \n",
      "20798  20798  NATO, Russia To Hold Parallel Exercises In Bal...   \n",
      "20799  20799                          What Keeps the F-35 Alive   \n",
      "\n",
      "                                          author  \\\n",
      "0                                  Darrell Lucus   \n",
      "1                                Daniel J. Flynn   \n",
      "2                             Consortiumnews.com   \n",
      "3                                Jessica Purkiss   \n",
      "4                                 Howard Portnoy   \n",
      "...                                          ...   \n",
      "20795                              Jerome Hudson   \n",
      "20796                           Benjamin Hoffman   \n",
      "20797  Michael J. de la Merced and Rachel Abrams   \n",
      "20798                                Alex Ansary   \n",
      "20799                              David Swanson   \n",
      "\n",
      "                                                    text  \\\n",
      "0      House Dem Aide: We Didn’t Even See Comey’s Let...   \n",
      "1      Ever get the feeling your life circles the rou...   \n",
      "2      Why the Truth Might Get You Fired October 29, ...   \n",
      "3      Videos 15 Civilians Killed In Single US Airstr...   \n",
      "4      Print \\nAn Iranian woman has been sentenced to...   \n",
      "...                                                  ...   \n",
      "20795  Rapper T. I. unloaded on black celebrities who...   \n",
      "20796  When the Green Bay Packers lost to the Washing...   \n",
      "20797  The Macy’s of today grew from the union of sev...   \n",
      "20798  NATO, Russia To Hold Parallel Exercises In Bal...   \n",
      "20799    David Swanson is an author, activist, journa...   \n",
      "\n",
      "                                                 content  \n",
      "0      Darrell Lucus House Dem Aide: We Didn’t Even S...  \n",
      "1      Daniel J. Flynn FLYNN: Hillary Clinton, Big Wo...  \n",
      "2      Consortiumnews.com Why the Truth Might Get You...  \n",
      "3      Jessica Purkiss 15 Civilians Killed In Single ...  \n",
      "4      Howard Portnoy Iranian woman jailed for fictio...  \n",
      "...                                                  ...  \n",
      "20795  Jerome Hudson Rapper T.I.: Trump a ’Poster Chi...  \n",
      "20796  Benjamin Hoffman N.F.L. Playoffs: Schedule, Ma...  \n",
      "20797  Michael J. de la Merced and Rachel Abrams Macy...  \n",
      "20798  Alex Ansary NATO, Russia To Hold Parallel Exer...  \n",
      "20799            David Swanson What Keeps the F-35 Alive  \n",
      "\n",
      "[20800 rows x 5 columns]\n"
     ]
    }
   ],
   "source": [
    "print(X)"
   ]
  },
  {
   "cell_type": "code",
   "execution_count": 14,
   "id": "6115a395",
   "metadata": {
    "execution": {
     "iopub.execute_input": "2024-01-15T18:59:41.054721Z",
     "iopub.status.busy": "2024-01-15T18:59:41.054312Z",
     "iopub.status.idle": "2024-01-15T18:59:41.061313Z",
     "shell.execute_reply": "2024-01-15T18:59:41.059901Z"
    },
    "papermill": {
     "duration": 0.018711,
     "end_time": "2024-01-15T18:59:41.063968",
     "exception": false,
     "start_time": "2024-01-15T18:59:41.045257",
     "status": "completed"
    },
    "tags": []
   },
   "outputs": [
    {
     "name": "stdout",
     "output_type": "stream",
     "text": [
      "0        1\n",
      "1        0\n",
      "2        1\n",
      "3        1\n",
      "4        1\n",
      "        ..\n",
      "20795    0\n",
      "20796    0\n",
      "20797    0\n",
      "20798    1\n",
      "20799    1\n",
      "Name: label, Length: 20800, dtype: int64\n"
     ]
    }
   ],
   "source": [
    "print(Y)"
   ]
  },
  {
   "cell_type": "markdown",
   "id": "7cd7016f",
   "metadata": {
    "papermill": {
     "duration": 0.007464,
     "end_time": "2024-01-15T18:59:41.079403",
     "exception": false,
     "start_time": "2024-01-15T18:59:41.071939",
     "status": "completed"
    },
    "tags": []
   },
   "source": [
    "Stemming:\n",
    "\n",
    "Stemming is the process of reducing a word to its Root Word"
   ]
  },
  {
   "cell_type": "code",
   "execution_count": 15,
   "id": "cca558f5",
   "metadata": {
    "execution": {
     "iopub.execute_input": "2024-01-15T18:59:41.097123Z",
     "iopub.status.busy": "2024-01-15T18:59:41.096441Z",
     "iopub.status.idle": "2024-01-15T18:59:41.101214Z",
     "shell.execute_reply": "2024-01-15T18:59:41.099990Z"
    },
    "papermill": {
     "duration": 0.01664,
     "end_time": "2024-01-15T18:59:41.103636",
     "exception": false,
     "start_time": "2024-01-15T18:59:41.086996",
     "status": "completed"
    },
    "tags": []
   },
   "outputs": [],
   "source": [
    "port_stem = PorterStemmer()"
   ]
  },
  {
   "cell_type": "code",
   "execution_count": 16,
   "id": "7db32f1a",
   "metadata": {
    "execution": {
     "iopub.execute_input": "2024-01-15T18:59:41.121825Z",
     "iopub.status.busy": "2024-01-15T18:59:41.120982Z",
     "iopub.status.idle": "2024-01-15T18:59:41.127111Z",
     "shell.execute_reply": "2024-01-15T18:59:41.126272Z"
    },
    "papermill": {
     "duration": 0.017564,
     "end_time": "2024-01-15T18:59:41.129218",
     "exception": false,
     "start_time": "2024-01-15T18:59:41.111654",
     "status": "completed"
    },
    "tags": []
   },
   "outputs": [],
   "source": [
    "def stemming(content):\n",
    "  stemmed_content = re.sub('[^a-zA-Z]',' ',content)\n",
    "  stemmed_content = stemmed_content.lower()\n",
    "  stemmed_content = stemmed_content.split()\n",
    "  stemmed_content = [port_stem.stem(word) for word in stemmed_content if not word in stopwords.words('english')]\n",
    "  stemmed_content = ' '.join(stemmed_content)\n",
    "  return stemmed_content"
   ]
  },
  {
   "cell_type": "code",
   "execution_count": 17,
   "id": "410cc403",
   "metadata": {
    "execution": {
     "iopub.execute_input": "2024-01-15T18:59:41.147545Z",
     "iopub.status.busy": "2024-01-15T18:59:41.146486Z",
     "iopub.status.idle": "2024-01-15T19:00:23.481870Z",
     "shell.execute_reply": "2024-01-15T19:00:23.480505Z"
    },
    "papermill": {
     "duration": 42.34795,
     "end_time": "2024-01-15T19:00:23.484944",
     "exception": false,
     "start_time": "2024-01-15T18:59:41.136994",
     "status": "completed"
    },
    "tags": []
   },
   "outputs": [],
   "source": [
    "news_data['content'] = news_data['content'].apply(stemming)"
   ]
  },
  {
   "cell_type": "code",
   "execution_count": 18,
   "id": "34e95f2e",
   "metadata": {
    "execution": {
     "iopub.execute_input": "2024-01-15T19:00:23.502616Z",
     "iopub.status.busy": "2024-01-15T19:00:23.502209Z",
     "iopub.status.idle": "2024-01-15T19:00:23.509272Z",
     "shell.execute_reply": "2024-01-15T19:00:23.508178Z"
    },
    "papermill": {
     "duration": 0.018613,
     "end_time": "2024-01-15T19:00:23.511585",
     "exception": false,
     "start_time": "2024-01-15T19:00:23.492972",
     "status": "completed"
    },
    "tags": []
   },
   "outputs": [
    {
     "name": "stdout",
     "output_type": "stream",
     "text": [
      "0        darrel lucu hous dem aid even see comey letter...\n",
      "1        daniel j flynn flynn hillari clinton big woman...\n",
      "2                   consortiumnew com truth might get fire\n",
      "3        jessica purkiss civilian kill singl us airstri...\n",
      "4        howard portnoy iranian woman jail fiction unpu...\n",
      "                               ...                        \n",
      "20795    jerom hudson rapper trump poster child white s...\n",
      "20796    benjamin hoffman n f l playoff schedul matchup...\n",
      "20797    michael j de la merc rachel abram maci said re...\n",
      "20798    alex ansari nato russia hold parallel exercis ...\n",
      "20799                            david swanson keep f aliv\n",
      "Name: content, Length: 20800, dtype: object\n"
     ]
    }
   ],
   "source": [
    "print(news_data['content'])"
   ]
  },
  {
   "cell_type": "code",
   "execution_count": 19,
   "id": "96c57e0a",
   "metadata": {
    "execution": {
     "iopub.execute_input": "2024-01-15T19:00:23.529438Z",
     "iopub.status.busy": "2024-01-15T19:00:23.529031Z",
     "iopub.status.idle": "2024-01-15T19:00:23.536536Z",
     "shell.execute_reply": "2024-01-15T19:00:23.535390Z"
    },
    "papermill": {
     "duration": 0.019387,
     "end_time": "2024-01-15T19:00:23.538964",
     "exception": false,
     "start_time": "2024-01-15T19:00:23.519577",
     "status": "completed"
    },
    "tags": []
   },
   "outputs": [],
   "source": [
    "X = news_data['content'].values\n",
    "Y = news_data['label'].values"
   ]
  },
  {
   "cell_type": "code",
   "execution_count": 20,
   "id": "23c731fe",
   "metadata": {
    "execution": {
     "iopub.execute_input": "2024-01-15T19:00:23.557611Z",
     "iopub.status.busy": "2024-01-15T19:00:23.557010Z",
     "iopub.status.idle": "2024-01-15T19:00:23.563163Z",
     "shell.execute_reply": "2024-01-15T19:00:23.561886Z"
    },
    "papermill": {
     "duration": 0.018464,
     "end_time": "2024-01-15T19:00:23.565547",
     "exception": false,
     "start_time": "2024-01-15T19:00:23.547083",
     "status": "completed"
    },
    "tags": []
   },
   "outputs": [
    {
     "name": "stdout",
     "output_type": "stream",
     "text": [
      "['darrel lucu hous dem aid even see comey letter jason chaffetz tweet'\n",
      " 'daniel j flynn flynn hillari clinton big woman campu breitbart'\n",
      " 'consortiumnew com truth might get fire' ...\n",
      " 'michael j de la merc rachel abram maci said receiv takeov approach hudson bay new york time'\n",
      " 'alex ansari nato russia hold parallel exercis balkan'\n",
      " 'david swanson keep f aliv']\n"
     ]
    }
   ],
   "source": [
    "print(X)"
   ]
  },
  {
   "cell_type": "code",
   "execution_count": 21,
   "id": "1c5e169a",
   "metadata": {
    "execution": {
     "iopub.execute_input": "2024-01-15T19:00:23.583390Z",
     "iopub.status.busy": "2024-01-15T19:00:23.582919Z",
     "iopub.status.idle": "2024-01-15T19:00:23.589251Z",
     "shell.execute_reply": "2024-01-15T19:00:23.587775Z"
    },
    "papermill": {
     "duration": 0.018074,
     "end_time": "2024-01-15T19:00:23.591635",
     "exception": false,
     "start_time": "2024-01-15T19:00:23.573561",
     "status": "completed"
    },
    "tags": []
   },
   "outputs": [
    {
     "name": "stdout",
     "output_type": "stream",
     "text": [
      "[1 0 1 ... 0 1 1]\n"
     ]
    }
   ],
   "source": [
    "print(Y)"
   ]
  },
  {
   "cell_type": "code",
   "execution_count": 22,
   "id": "bfed3f7f",
   "metadata": {
    "execution": {
     "iopub.execute_input": "2024-01-15T19:00:23.610102Z",
     "iopub.status.busy": "2024-01-15T19:00:23.609654Z",
     "iopub.status.idle": "2024-01-15T19:00:23.616654Z",
     "shell.execute_reply": "2024-01-15T19:00:23.615450Z"
    },
    "papermill": {
     "duration": 0.018775,
     "end_time": "2024-01-15T19:00:23.618992",
     "exception": false,
     "start_time": "2024-01-15T19:00:23.600217",
     "status": "completed"
    },
    "tags": []
   },
   "outputs": [
    {
     "data": {
      "text/plain": [
       "(20800,)"
      ]
     },
     "execution_count": 22,
     "metadata": {},
     "output_type": "execute_result"
    }
   ],
   "source": [
    "Y.shape"
   ]
  },
  {
   "cell_type": "code",
   "execution_count": 23,
   "id": "3c3fa306",
   "metadata": {
    "execution": {
     "iopub.execute_input": "2024-01-15T19:00:23.638011Z",
     "iopub.status.busy": "2024-01-15T19:00:23.637533Z",
     "iopub.status.idle": "2024-01-15T19:00:24.184157Z",
     "shell.execute_reply": "2024-01-15T19:00:24.182883Z"
    },
    "papermill": {
     "duration": 0.55945,
     "end_time": "2024-01-15T19:00:24.186934",
     "exception": false,
     "start_time": "2024-01-15T19:00:23.627484",
     "status": "completed"
    },
    "tags": []
   },
   "outputs": [],
   "source": [
    "# converting the textual data to feature vectors\n",
    "vectorizer = TfidfVectorizer()\n",
    "vectorizer.fit(X)\n",
    "\n",
    "X = vectorizer.transform(X)\n",
    "     "
   ]
  },
  {
   "cell_type": "code",
   "execution_count": 24,
   "id": "fe81335b",
   "metadata": {
    "execution": {
     "iopub.execute_input": "2024-01-15T19:00:24.205674Z",
     "iopub.status.busy": "2024-01-15T19:00:24.205294Z",
     "iopub.status.idle": "2024-01-15T19:00:24.214570Z",
     "shell.execute_reply": "2024-01-15T19:00:24.212990Z"
    },
    "papermill": {
     "duration": 0.021962,
     "end_time": "2024-01-15T19:00:24.217252",
     "exception": false,
     "start_time": "2024-01-15T19:00:24.195290",
     "status": "completed"
    },
    "tags": []
   },
   "outputs": [
    {
     "name": "stdout",
     "output_type": "stream",
     "text": [
      "  (0, 15686)\t0.28485063562728646\n",
      "  (0, 13473)\t0.2565896679337957\n",
      "  (0, 8909)\t0.3635963806326075\n",
      "  (0, 8630)\t0.29212514087043684\n",
      "  (0, 7692)\t0.24785219520671603\n",
      "  (0, 7005)\t0.21874169089359144\n",
      "  (0, 4973)\t0.233316966909351\n",
      "  (0, 3792)\t0.2705332480845492\n",
      "  (0, 3600)\t0.3598939188262559\n",
      "  (0, 2959)\t0.2468450128533713\n",
      "  (0, 2483)\t0.3676519686797209\n",
      "  (0, 267)\t0.27010124977708766\n",
      "  (1, 16799)\t0.30071745655510157\n",
      "  (1, 6816)\t0.1904660198296849\n",
      "  (1, 5503)\t0.7143299355715573\n",
      "  (1, 3568)\t0.26373768806048464\n",
      "  (1, 2813)\t0.19094574062359204\n",
      "  (1, 2223)\t0.3827320386859759\n",
      "  (1, 1894)\t0.15521974226349364\n",
      "  (1, 1497)\t0.2939891562094648\n",
      "  (2, 15611)\t0.41544962664721613\n",
      "  (2, 9620)\t0.49351492943649944\n",
      "  (2, 5968)\t0.3474613386728292\n",
      "  (2, 5389)\t0.3866530551182615\n",
      "  (2, 3103)\t0.46097489583229645\n",
      "  :\t:\n",
      "  (20797, 13122)\t0.2482526352197606\n",
      "  (20797, 12344)\t0.27263457663336677\n",
      "  (20797, 12138)\t0.24778257724396507\n",
      "  (20797, 10306)\t0.08038079000566466\n",
      "  (20797, 9588)\t0.174553480255222\n",
      "  (20797, 9518)\t0.2954204003420313\n",
      "  (20797, 8988)\t0.36160868928090795\n",
      "  (20797, 8364)\t0.22322585870464118\n",
      "  (20797, 7042)\t0.21799048897828688\n",
      "  (20797, 3643)\t0.21155500613623743\n",
      "  (20797, 1287)\t0.33538056804139865\n",
      "  (20797, 699)\t0.30685846079762347\n",
      "  (20797, 43)\t0.29710241860700626\n",
      "  (20798, 13046)\t0.22363267488270608\n",
      "  (20798, 11052)\t0.4460515589182236\n",
      "  (20798, 10177)\t0.3192496370187028\n",
      "  (20798, 6889)\t0.32496285694299426\n",
      "  (20798, 5032)\t0.4083701450239529\n",
      "  (20798, 1125)\t0.4460515589182236\n",
      "  (20798, 588)\t0.3112141524638974\n",
      "  (20798, 350)\t0.28446937819072576\n",
      "  (20799, 14852)\t0.5677577267055112\n",
      "  (20799, 8036)\t0.45983893273780013\n",
      "  (20799, 3623)\t0.37927626273066584\n",
      "  (20799, 377)\t0.5677577267055112\n"
     ]
    }
   ],
   "source": [
    "print(X)"
   ]
  },
  {
   "cell_type": "code",
   "execution_count": null,
   "id": "941cd6c1",
   "metadata": {
    "papermill": {
     "duration": 0.008547,
     "end_time": "2024-01-15T19:00:24.234228",
     "exception": false,
     "start_time": "2024-01-15T19:00:24.225681",
     "status": "completed"
    },
    "tags": []
   },
   "outputs": [],
   "source": []
  }
 ],
 "metadata": {
  "kaggle": {
   "accelerator": "none",
   "dataSources": [
    {
     "datasetId": 4309082,
     "sourceId": 7408842,
     "sourceType": "datasetVersion"
    }
   ],
   "dockerImageVersionId": 30635,
   "isGpuEnabled": false,
   "isInternetEnabled": true,
   "language": "python",
   "sourceType": "notebook"
  },
  "kernelspec": {
   "display_name": "Python 3",
   "language": "python",
   "name": "python3"
  },
  "language_info": {
   "codemirror_mode": {
    "name": "ipython",
    "version": 3
   },
   "file_extension": ".py",
   "mimetype": "text/x-python",
   "name": "python",
   "nbconvert_exporter": "python",
   "pygments_lexer": "ipython3",
   "version": "3.10.12"
  },
  "papermill": {
   "default_parameters": {},
   "duration": 52.064851,
   "end_time": "2024-01-15T19:00:24.965355",
   "environment_variables": {},
   "exception": null,
   "input_path": "__notebook__.ipynb",
   "output_path": "__notebook__.ipynb",
   "parameters": {},
   "start_time": "2024-01-15T18:59:32.900504",
   "version": "2.4.0"
  }
 },
 "nbformat": 4,
 "nbformat_minor": 5
}
