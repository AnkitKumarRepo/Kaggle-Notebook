{
 "cells": [
  {
   "cell_type": "code",
   "execution_count": 1,
   "id": "08e20ed7",
   "metadata": {
    "_cell_guid": "b1076dfc-b9ad-4769-8c92-a6c4dae69d19",
    "_uuid": "8f2839f25d086af736a60e9eeb907d3b93b6e0e5",
    "execution": {
     "iopub.execute_input": "2024-01-16T10:52:25.161896Z",
     "iopub.status.busy": "2024-01-16T10:52:25.161421Z",
     "iopub.status.idle": "2024-01-16T10:52:25.734992Z",
     "shell.execute_reply": "2024-01-16T10:52:25.733122Z"
    },
    "papermill": {
     "duration": 0.589424,
     "end_time": "2024-01-16T10:52:25.738088",
     "exception": false,
     "start_time": "2024-01-16T10:52:25.148664",
     "status": "completed"
    },
    "tags": []
   },
   "outputs": [
    {
     "name": "stdout",
     "output_type": "stream",
     "text": [
      "/kaggle/input/fake-news-dataset/fake_news_dataset.csv\n"
     ]
    }
   ],
   "source": [
    "# This Python 3 environment comes with many helpful analytics libraries installed\n",
    "# It is defined by the kaggle/python Docker image: https://github.com/kaggle/docker-python\n",
    "# For example, here's several helpful packages to load\n",
    "\n",
    "import numpy as np # linear algebra\n",
    "import pandas as pd # data processing, CSV file I/O (e.g. pd.read_csv)\n",
    "\n",
    "# Input data files are available in the read-only \"../input/\" directory\n",
    "# For example, running this (by clicking run or pressing Shift+Enter) will list all files under the input directory\n",
    "\n",
    "import os\n",
    "for dirname, _, filenames in os.walk('/kaggle/input'):\n",
    "    for filename in filenames:\n",
    "        print(os.path.join(dirname, filename))\n",
    "\n",
    "# You can write up to 20GB to the current directory (/kaggle/working/) that gets preserved as output when you create a version using \"Save & Run All\" \n",
    "# You can also write temporary files to /kaggle/temp/, but they won't be saved outside of the current session"
   ]
  },
  {
   "cell_type": "markdown",
   "id": "dcca9462",
   "metadata": {
    "papermill": {
     "duration": 0.010587,
     "end_time": "2024-01-16T10:52:25.759613",
     "exception": false,
     "start_time": "2024-01-16T10:52:25.749026",
     "status": "completed"
    },
    "tags": []
   },
   "source": [
    "# Feature_Extraction_of_Text_Data_Using_Tf_idf_Vectorizer"
   ]
  },
  {
   "cell_type": "markdown",
   "id": "d7d5deda",
   "metadata": {
    "papermill": {
     "duration": 0.009632,
     "end_time": "2024-01-16T10:52:25.779523",
     "exception": false,
     "start_time": "2024-01-16T10:52:25.769891",
     "status": "completed"
    },
    "tags": []
   },
   "source": [
    "About the Dataset:\n",
    "\n",
    "id: unique id for a news article\n",
    "title: the title of a news article\n",
    "author: author of the news article\n",
    "text: the text of the article; could be incomplete\n",
    "label: a label that marks whether the news article is real or fake: 1: Fake news 0: real News"
   ]
  },
  {
   "cell_type": "code",
   "execution_count": 2,
   "id": "c5635fbf",
   "metadata": {
    "execution": {
     "iopub.execute_input": "2024-01-16T10:52:25.802077Z",
     "iopub.status.busy": "2024-01-16T10:52:25.801390Z",
     "iopub.status.idle": "2024-01-16T10:52:28.119348Z",
     "shell.execute_reply": "2024-01-16T10:52:28.117749Z"
    },
    "papermill": {
     "duration": 2.333221,
     "end_time": "2024-01-16T10:52:28.122703",
     "exception": false,
     "start_time": "2024-01-16T10:52:25.789482",
     "status": "completed"
    },
    "tags": []
   },
   "outputs": [],
   "source": [
    "import numpy as np\n",
    "import pandas as pd\n",
    "import re\n",
    "from nltk.corpus import stopwords\n",
    "from nltk.stem.porter import PorterStemmer\n",
    "from sklearn.feature_extraction.text import TfidfVectorizer"
   ]
  },
  {
   "cell_type": "code",
   "execution_count": 3,
   "id": "6e49a249",
   "metadata": {
    "execution": {
     "iopub.execute_input": "2024-01-16T10:52:28.144643Z",
     "iopub.status.busy": "2024-01-16T10:52:28.144220Z",
     "iopub.status.idle": "2024-01-16T10:52:28.223016Z",
     "shell.execute_reply": "2024-01-16T10:52:28.221593Z"
    },
    "papermill": {
     "duration": 0.093341,
     "end_time": "2024-01-16T10:52:28.226092",
     "exception": false,
     "start_time": "2024-01-16T10:52:28.132751",
     "status": "completed"
    },
    "tags": []
   },
   "outputs": [
    {
     "name": "stdout",
     "output_type": "stream",
     "text": [
      "[nltk_data] Downloading package stopwords to /usr/share/nltk_data...\n",
      "[nltk_data]   Package stopwords is already up-to-date!\n"
     ]
    },
    {
     "data": {
      "text/plain": [
       "True"
      ]
     },
     "execution_count": 3,
     "metadata": {},
     "output_type": "execute_result"
    }
   ],
   "source": [
    "import nltk\n",
    "nltk.download('stopwords')"
   ]
  },
  {
   "cell_type": "code",
   "execution_count": 4,
   "id": "45cc161d",
   "metadata": {
    "execution": {
     "iopub.execute_input": "2024-01-16T10:52:28.250691Z",
     "iopub.status.busy": "2024-01-16T10:52:28.249527Z",
     "iopub.status.idle": "2024-01-16T10:52:28.258417Z",
     "shell.execute_reply": "2024-01-16T10:52:28.257305Z"
    },
    "papermill": {
     "duration": 0.023916,
     "end_time": "2024-01-16T10:52:28.261197",
     "exception": false,
     "start_time": "2024-01-16T10:52:28.237281",
     "status": "completed"
    },
    "tags": []
   },
   "outputs": [
    {
     "name": "stdout",
     "output_type": "stream",
     "text": [
      "['i', 'me', 'my', 'myself', 'we', 'our', 'ours', 'ourselves', 'you', \"you're\", \"you've\", \"you'll\", \"you'd\", 'your', 'yours', 'yourself', 'yourselves', 'he', 'him', 'his', 'himself', 'she', \"she's\", 'her', 'hers', 'herself', 'it', \"it's\", 'its', 'itself', 'they', 'them', 'their', 'theirs', 'themselves', 'what', 'which', 'who', 'whom', 'this', 'that', \"that'll\", 'these', 'those', 'am', 'is', 'are', 'was', 'were', 'be', 'been', 'being', 'have', 'has', 'had', 'having', 'do', 'does', 'did', 'doing', 'a', 'an', 'the', 'and', 'but', 'if', 'or', 'because', 'as', 'until', 'while', 'of', 'at', 'by', 'for', 'with', 'about', 'against', 'between', 'into', 'through', 'during', 'before', 'after', 'above', 'below', 'to', 'from', 'up', 'down', 'in', 'out', 'on', 'off', 'over', 'under', 'again', 'further', 'then', 'once', 'here', 'there', 'when', 'where', 'why', 'how', 'all', 'any', 'both', 'each', 'few', 'more', 'most', 'other', 'some', 'such', 'no', 'nor', 'not', 'only', 'own', 'same', 'so', 'than', 'too', 'very', 's', 't', 'can', 'will', 'just', 'don', \"don't\", 'should', \"should've\", 'now', 'd', 'll', 'm', 'o', 're', 've', 'y', 'ain', 'aren', \"aren't\", 'couldn', \"couldn't\", 'didn', \"didn't\", 'doesn', \"doesn't\", 'hadn', \"hadn't\", 'hasn', \"hasn't\", 'haven', \"haven't\", 'isn', \"isn't\", 'ma', 'mightn', \"mightn't\", 'mustn', \"mustn't\", 'needn', \"needn't\", 'shan', \"shan't\", 'shouldn', \"shouldn't\", 'wasn', \"wasn't\", 'weren', \"weren't\", 'won', \"won't\", 'wouldn', \"wouldn't\"]\n"
     ]
    }
   ],
   "source": [
    "# printing the stopwords in English\n",
    "print(stopwords.words('english'))"
   ]
  },
  {
   "cell_type": "code",
   "execution_count": 5,
   "id": "66b5fff8",
   "metadata": {
    "execution": {
     "iopub.execute_input": "2024-01-16T10:52:28.287669Z",
     "iopub.status.busy": "2024-01-16T10:52:28.286930Z",
     "iopub.status.idle": "2024-01-16T10:52:31.432936Z",
     "shell.execute_reply": "2024-01-16T10:52:31.431571Z"
    },
    "papermill": {
     "duration": 3.162179,
     "end_time": "2024-01-16T10:52:31.436370",
     "exception": false,
     "start_time": "2024-01-16T10:52:28.274191",
     "status": "completed"
    },
    "tags": []
   },
   "outputs": [],
   "source": [
    "# loading the dataset to a pandas DataFrame\n",
    "news_dataset = pd.read_csv('/kaggle/input/fake-news-dataset/fake_news_dataset.csv')\n",
    "     "
   ]
  },
  {
   "cell_type": "code",
   "execution_count": 6,
   "id": "b2ce7ff8",
   "metadata": {
    "execution": {
     "iopub.execute_input": "2024-01-16T10:52:31.460188Z",
     "iopub.status.busy": "2024-01-16T10:52:31.459658Z",
     "iopub.status.idle": "2024-01-16T10:52:31.469529Z",
     "shell.execute_reply": "2024-01-16T10:52:31.467975Z"
    },
    "papermill": {
     "duration": 0.025194,
     "end_time": "2024-01-16T10:52:31.472776",
     "exception": false,
     "start_time": "2024-01-16T10:52:31.447582",
     "status": "completed"
    },
    "tags": []
   },
   "outputs": [
    {
     "data": {
      "text/plain": [
       "(20800, 5)"
      ]
     },
     "execution_count": 6,
     "metadata": {},
     "output_type": "execute_result"
    }
   ],
   "source": [
    "news_dataset.shape"
   ]
  },
  {
   "cell_type": "code",
   "execution_count": 7,
   "id": "c7a9b0b1",
   "metadata": {
    "execution": {
     "iopub.execute_input": "2024-01-16T10:52:31.495904Z",
     "iopub.status.busy": "2024-01-16T10:52:31.495481Z",
     "iopub.status.idle": "2024-01-16T10:52:31.532956Z",
     "shell.execute_reply": "2024-01-16T10:52:31.531767Z"
    },
    "papermill": {
     "duration": 0.051981,
     "end_time": "2024-01-16T10:52:31.535519",
     "exception": false,
     "start_time": "2024-01-16T10:52:31.483538",
     "status": "completed"
    },
    "tags": []
   },
   "outputs": [
    {
     "data": {
      "text/html": [
       "<div>\n",
       "<style scoped>\n",
       "    .dataframe tbody tr th:only-of-type {\n",
       "        vertical-align: middle;\n",
       "    }\n",
       "\n",
       "    .dataframe tbody tr th {\n",
       "        vertical-align: top;\n",
       "    }\n",
       "\n",
       "    .dataframe thead th {\n",
       "        text-align: right;\n",
       "    }\n",
       "</style>\n",
       "<table border=\"1\" class=\"dataframe\">\n",
       "  <thead>\n",
       "    <tr style=\"text-align: right;\">\n",
       "      <th></th>\n",
       "      <th>id</th>\n",
       "      <th>title</th>\n",
       "      <th>author</th>\n",
       "      <th>text</th>\n",
       "      <th>label</th>\n",
       "    </tr>\n",
       "  </thead>\n",
       "  <tbody>\n",
       "    <tr>\n",
       "      <th>13115</th>\n",
       "      <td>13115</td>\n",
       "      <td>Neil Armstrong: Their Ships Were Far Superior ...</td>\n",
       "      <td>Arnold Monteverde (noreply@blogger.com)</td>\n",
       "      <td>Everyone is familiar with the broadcast images...</td>\n",
       "      <td>1</td>\n",
       "    </tr>\n",
       "    <tr>\n",
       "      <th>17635</th>\n",
       "      <td>17635</td>\n",
       "      <td>Obama Ban: Religious Foreign Aid</td>\n",
       "      <td>NaN</td>\n",
       "      <td>Obama Ban: Religious Foreign Aid November 01, ...</td>\n",
       "      <td>1</td>\n",
       "    </tr>\n",
       "    <tr>\n",
       "      <th>14106</th>\n",
       "      <td>14106</td>\n",
       "      <td>Russia to beef up western defenses with S-400'...</td>\n",
       "      <td>Jafe Arnoldski (noreply@blogger.com)</td>\n",
       "      <td>November 21, 2016 - Fort Russ News -  RIANovos...</td>\n",
       "      <td>1</td>\n",
       "    </tr>\n",
       "    <tr>\n",
       "      <th>16913</th>\n",
       "      <td>16913</td>\n",
       "      <td>Coming Ice Age/ Consciousness &amp; Afterlife</td>\n",
       "      <td>NaN</td>\n",
       "      <td>Coming Ice Age/ Consciousness &amp; Afterlife Co...</td>\n",
       "      <td>1</td>\n",
       "    </tr>\n",
       "    <tr>\n",
       "      <th>19735</th>\n",
       "      <td>19735</td>\n",
       "      <td>National Data | October Jobs— Immigrant Workin...</td>\n",
       "      <td>Edwin S. Rubenstein</td>\n",
       "      <td>- &lt; National Data | October Jobs— Immigrant Wo...</td>\n",
       "      <td>1</td>\n",
       "    </tr>\n",
       "    <tr>\n",
       "      <th>14325</th>\n",
       "      <td>14325</td>\n",
       "      <td>Along the Autism Spectrum, a Path Through Camp...</td>\n",
       "      <td>Jan Hoffman</td>\n",
       "      <td>BOWLING GREEN, Ky.  —   Crosby J. Gardner has ...</td>\n",
       "      <td>0</td>\n",
       "    </tr>\n",
       "    <tr>\n",
       "      <th>19127</th>\n",
       "      <td>19127</td>\n",
       "      <td>Ferrero zu Kinderarbeitsvorwürfen: \"Aber das s...</td>\n",
       "      <td>noreply@blogger.com (Der Postillon)</td>\n",
       "      <td>— The Sun (@TheSun) 23. November 2016 Laut Fer...</td>\n",
       "      <td>1</td>\n",
       "    </tr>\n",
       "    <tr>\n",
       "      <th>18177</th>\n",
       "      <td>18177</td>\n",
       "      <td>Trump: Presidents Obama, Clinton Were ’Outplay...</td>\n",
       "      <td>Pam Key</td>\n",
       "      <td>In a preview clip of an interview set to air o...</td>\n",
       "      <td>0</td>\n",
       "    </tr>\n",
       "    <tr>\n",
       "      <th>19987</th>\n",
       "      <td>19987</td>\n",
       "      <td>BREAKING! — New shattering Wikileaks info impl...</td>\n",
       "      <td>Admin</td>\n",
       "      <td>November 7, 2016 at 6:55 pm \\nFlopot, \\nYes, I...</td>\n",
       "      <td>1</td>\n",
       "    </tr>\n",
       "    <tr>\n",
       "      <th>10208</th>\n",
       "      <td>10208</td>\n",
       "      <td>Comment on Robert De Niro to Produce Documenta...</td>\n",
       "      <td>quietsch</td>\n",
       "      <td>Home / #Solutions / Robert De Niro to Produce ...</td>\n",
       "      <td>1</td>\n",
       "    </tr>\n",
       "  </tbody>\n",
       "</table>\n",
       "</div>"
      ],
      "text/plain": [
       "          id                                              title  \\\n",
       "13115  13115  Neil Armstrong: Their Ships Were Far Superior ...   \n",
       "17635  17635                   Obama Ban: Religious Foreign Aid   \n",
       "14106  14106  Russia to beef up western defenses with S-400'...   \n",
       "16913  16913          Coming Ice Age/ Consciousness & Afterlife   \n",
       "19735  19735  National Data | October Jobs— Immigrant Workin...   \n",
       "14325  14325  Along the Autism Spectrum, a Path Through Camp...   \n",
       "19127  19127  Ferrero zu Kinderarbeitsvorwürfen: \"Aber das s...   \n",
       "18177  18177  Trump: Presidents Obama, Clinton Were ’Outplay...   \n",
       "19987  19987  BREAKING! — New shattering Wikileaks info impl...   \n",
       "10208  10208  Comment on Robert De Niro to Produce Documenta...   \n",
       "\n",
       "                                        author  \\\n",
       "13115  Arnold Monteverde (noreply@blogger.com)   \n",
       "17635                                      NaN   \n",
       "14106     Jafe Arnoldski (noreply@blogger.com)   \n",
       "16913                                      NaN   \n",
       "19735                      Edwin S. Rubenstein   \n",
       "14325                              Jan Hoffman   \n",
       "19127      noreply@blogger.com (Der Postillon)   \n",
       "18177                                  Pam Key   \n",
       "19987                                    Admin   \n",
       "10208                                 quietsch   \n",
       "\n",
       "                                                    text  label  \n",
       "13115  Everyone is familiar with the broadcast images...      1  \n",
       "17635  Obama Ban: Religious Foreign Aid November 01, ...      1  \n",
       "14106  November 21, 2016 - Fort Russ News -  RIANovos...      1  \n",
       "16913    Coming Ice Age/ Consciousness & Afterlife Co...      1  \n",
       "19735  - < National Data | October Jobs— Immigrant Wo...      1  \n",
       "14325  BOWLING GREEN, Ky.  —   Crosby J. Gardner has ...      0  \n",
       "19127  — The Sun (@TheSun) 23. November 2016 Laut Fer...      1  \n",
       "18177  In a preview clip of an interview set to air o...      0  \n",
       "19987  November 7, 2016 at 6:55 pm \\nFlopot, \\nYes, I...      1  \n",
       "10208  Home / #Solutions / Robert De Niro to Produce ...      1  "
      ]
     },
     "execution_count": 7,
     "metadata": {},
     "output_type": "execute_result"
    }
   ],
   "source": [
    "news_dataset.sample(10)"
   ]
  },
  {
   "cell_type": "code",
   "execution_count": 8,
   "id": "281b1ee0",
   "metadata": {
    "execution": {
     "iopub.execute_input": "2024-01-16T10:52:31.561277Z",
     "iopub.status.busy": "2024-01-16T10:52:31.559994Z",
     "iopub.status.idle": "2024-01-16T10:52:31.582712Z",
     "shell.execute_reply": "2024-01-16T10:52:31.581134Z"
    },
    "papermill": {
     "duration": 0.038874,
     "end_time": "2024-01-16T10:52:31.585399",
     "exception": false,
     "start_time": "2024-01-16T10:52:31.546525",
     "status": "completed"
    },
    "tags": []
   },
   "outputs": [
    {
     "data": {
      "text/plain": [
       "id           0\n",
       "title      558\n",
       "author    1957\n",
       "text        39\n",
       "label        0\n",
       "dtype: int64"
      ]
     },
     "execution_count": 8,
     "metadata": {},
     "output_type": "execute_result"
    }
   ],
   "source": [
    "news_dataset.isnull().sum()"
   ]
  },
  {
   "cell_type": "code",
   "execution_count": 9,
   "id": "894a2825",
   "metadata": {
    "execution": {
     "iopub.execute_input": "2024-01-16T10:52:31.610319Z",
     "iopub.status.busy": "2024-01-16T10:52:31.609765Z",
     "iopub.status.idle": "2024-01-16T10:52:31.634985Z",
     "shell.execute_reply": "2024-01-16T10:52:31.633483Z"
    },
    "papermill": {
     "duration": 0.041471,
     "end_time": "2024-01-16T10:52:31.638053",
     "exception": false,
     "start_time": "2024-01-16T10:52:31.596582",
     "status": "completed"
    },
    "tags": []
   },
   "outputs": [],
   "source": [
    "news_dataset=news_dataset.fillna('')"
   ]
  },
  {
   "cell_type": "code",
   "execution_count": 10,
   "id": "54fc31f7",
   "metadata": {
    "execution": {
     "iopub.execute_input": "2024-01-16T10:52:31.662935Z",
     "iopub.status.busy": "2024-01-16T10:52:31.662429Z",
     "iopub.status.idle": "2024-01-16T10:52:31.681407Z",
     "shell.execute_reply": "2024-01-16T10:52:31.679716Z"
    },
    "papermill": {
     "duration": 0.034744,
     "end_time": "2024-01-16T10:52:31.683951",
     "exception": false,
     "start_time": "2024-01-16T10:52:31.649207",
     "status": "completed"
    },
    "tags": []
   },
   "outputs": [
    {
     "data": {
      "text/html": [
       "<div>\n",
       "<style scoped>\n",
       "    .dataframe tbody tr th:only-of-type {\n",
       "        vertical-align: middle;\n",
       "    }\n",
       "\n",
       "    .dataframe tbody tr th {\n",
       "        vertical-align: top;\n",
       "    }\n",
       "\n",
       "    .dataframe thead th {\n",
       "        text-align: right;\n",
       "    }\n",
       "</style>\n",
       "<table border=\"1\" class=\"dataframe\">\n",
       "  <thead>\n",
       "    <tr style=\"text-align: right;\">\n",
       "      <th></th>\n",
       "      <th>id</th>\n",
       "      <th>title</th>\n",
       "      <th>author</th>\n",
       "      <th>text</th>\n",
       "      <th>label</th>\n",
       "    </tr>\n",
       "  </thead>\n",
       "  <tbody>\n",
       "    <tr>\n",
       "      <th>8508</th>\n",
       "      <td>8508</td>\n",
       "      <td>Trump Budget Guru, Long a Fiscal Hawk, Now Has...</td>\n",
       "      <td>Matt Flegenheimer and Alan Rappeport</td>\n",
       "      <td>WASHINGTON  —   Making the rounds at the Capit...</td>\n",
       "      <td>0</td>\n",
       "    </tr>\n",
       "    <tr>\n",
       "      <th>1751</th>\n",
       "      <td>1751</td>\n",
       "      <td>Life: Happy Halloween! Here Are 7 Thrilling Wa...</td>\n",
       "      <td></td>\n",
       "      <td>Email All Hallows’ Eve comes just once a year!...</td>\n",
       "      <td>1</td>\n",
       "    </tr>\n",
       "    <tr>\n",
       "      <th>3172</th>\n",
       "      <td>3172</td>\n",
       "      <td>Comment on 5 Ways You Can Start Feeling Better...</td>\n",
       "      <td>What are the harsh life lessons everyone shoul...</td>\n",
       "      <td>Share on Facebook Share on Twitter It’s a no b...</td>\n",
       "      <td>1</td>\n",
       "    </tr>\n",
       "    <tr>\n",
       "      <th>18739</th>\n",
       "      <td>18739</td>\n",
       "      <td>“Rigged To Deny Trump”: Are They Stealing Thes...</td>\n",
       "      <td>Mac Slavo</td>\n",
       "      <td>Will the 2016 election be rigged?\\nThat depend...</td>\n",
       "      <td>1</td>\n",
       "    </tr>\n",
       "    <tr>\n",
       "      <th>1929</th>\n",
       "      <td>1929</td>\n",
       "      <td>When Trouble Is on the Way</td>\n",
       "      <td>Gaye Levy</td>\n",
       "      <td>Backdoor Survival November 1, 2016 \\nBack in t...</td>\n",
       "      <td>1</td>\n",
       "    </tr>\n",
       "    <tr>\n",
       "      <th>4500</th>\n",
       "      <td>4500</td>\n",
       "      <td>EMP event forthcoming?</td>\n",
       "      <td>vlawde</td>\n",
       "      <td>You have a work bunker? What is it exactly tha...</td>\n",
       "      <td>1</td>\n",
       "    </tr>\n",
       "    <tr>\n",
       "      <th>14889</th>\n",
       "      <td>14889</td>\n",
       "      <td>A Transgender Student Won Her Battle. Now It’s...</td>\n",
       "      <td>Anemona Hartocollis</td>\n",
       "      <td>PALATINE, Ill.  —   Tall and sylphlike, an ath...</td>\n",
       "      <td>0</td>\n",
       "    </tr>\n",
       "    <tr>\n",
       "      <th>806</th>\n",
       "      <td>806</td>\n",
       "      <td>WAR ON THE STREETS OF PARIS: Armed migrants fi...</td>\n",
       "      <td>wmw_admin</td>\n",
       "      <td>By wmw_admin on November 3, 2016 Nick Gutterid...</td>\n",
       "      <td>1</td>\n",
       "    </tr>\n",
       "    <tr>\n",
       "      <th>4436</th>\n",
       "      <td>4436</td>\n",
       "      <td>Mainstream Media Totally Blows It On Retail Sales</td>\n",
       "      <td>Lee Adler</td>\n",
       "      <td>Mainstream Media Totally Blows It On Retail Sa...</td>\n",
       "      <td>1</td>\n",
       "    </tr>\n",
       "    <tr>\n",
       "      <th>7990</th>\n",
       "      <td>7990</td>\n",
       "      <td>‘Carrie’ Is Back. Like a Bloody Hand From the ...</td>\n",
       "      <td>Gilbert Cruz</td>\n",
       "      <td>Released a few days after Halloween in 1976, i...</td>\n",
       "      <td>0</td>\n",
       "    </tr>\n",
       "  </tbody>\n",
       "</table>\n",
       "</div>"
      ],
      "text/plain": [
       "          id                                              title  \\\n",
       "8508    8508  Trump Budget Guru, Long a Fiscal Hawk, Now Has...   \n",
       "1751    1751  Life: Happy Halloween! Here Are 7 Thrilling Wa...   \n",
       "3172    3172  Comment on 5 Ways You Can Start Feeling Better...   \n",
       "18739  18739  “Rigged To Deny Trump”: Are They Stealing Thes...   \n",
       "1929    1929                         When Trouble Is on the Way   \n",
       "4500    4500                             EMP event forthcoming?   \n",
       "14889  14889  A Transgender Student Won Her Battle. Now It’s...   \n",
       "806      806  WAR ON THE STREETS OF PARIS: Armed migrants fi...   \n",
       "4436    4436  Mainstream Media Totally Blows It On Retail Sales   \n",
       "7990    7990  ‘Carrie’ Is Back. Like a Bloody Hand From the ...   \n",
       "\n",
       "                                                  author  \\\n",
       "8508                Matt Flegenheimer and Alan Rappeport   \n",
       "1751                                                       \n",
       "3172   What are the harsh life lessons everyone shoul...   \n",
       "18739                                          Mac Slavo   \n",
       "1929                                           Gaye Levy   \n",
       "4500                                              vlawde   \n",
       "14889                                Anemona Hartocollis   \n",
       "806                                            wmw_admin   \n",
       "4436                                           Lee Adler   \n",
       "7990                                        Gilbert Cruz   \n",
       "\n",
       "                                                    text  label  \n",
       "8508   WASHINGTON  —   Making the rounds at the Capit...      0  \n",
       "1751   Email All Hallows’ Eve comes just once a year!...      1  \n",
       "3172   Share on Facebook Share on Twitter It’s a no b...      1  \n",
       "18739  Will the 2016 election be rigged?\\nThat depend...      1  \n",
       "1929   Backdoor Survival November 1, 2016 \\nBack in t...      1  \n",
       "4500   You have a work bunker? What is it exactly tha...      1  \n",
       "14889  PALATINE, Ill.  —   Tall and sylphlike, an ath...      0  \n",
       "806    By wmw_admin on November 3, 2016 Nick Gutterid...      1  \n",
       "4436   Mainstream Media Totally Blows It On Retail Sa...      1  \n",
       "7990   Released a few days after Halloween in 1976, i...      0  "
      ]
     },
     "execution_count": 10,
     "metadata": {},
     "output_type": "execute_result"
    }
   ],
   "source": [
    "news_dataset.sample(10)"
   ]
  },
  {
   "cell_type": "code",
   "execution_count": 11,
   "id": "0dae7a30",
   "metadata": {
    "execution": {
     "iopub.execute_input": "2024-01-16T10:52:31.711332Z",
     "iopub.status.busy": "2024-01-16T10:52:31.710808Z",
     "iopub.status.idle": "2024-01-16T10:52:31.733508Z",
     "shell.execute_reply": "2024-01-16T10:52:31.731730Z"
    },
    "papermill": {
     "duration": 0.040304,
     "end_time": "2024-01-16T10:52:31.736457",
     "exception": false,
     "start_time": "2024-01-16T10:52:31.696153",
     "status": "completed"
    },
    "tags": []
   },
   "outputs": [],
   "source": [
    "news_dataset['content']=news_dataset['author']+' '+news_dataset['title']"
   ]
  },
  {
   "cell_type": "code",
   "execution_count": 12,
   "id": "fb559bff",
   "metadata": {
    "execution": {
     "iopub.execute_input": "2024-01-16T10:52:31.761820Z",
     "iopub.status.busy": "2024-01-16T10:52:31.761309Z",
     "iopub.status.idle": "2024-01-16T10:52:31.781329Z",
     "shell.execute_reply": "2024-01-16T10:52:31.779815Z"
    },
    "papermill": {
     "duration": 0.035832,
     "end_time": "2024-01-16T10:52:31.783882",
     "exception": false,
     "start_time": "2024-01-16T10:52:31.748050",
     "status": "completed"
    },
    "tags": []
   },
   "outputs": [
    {
     "data": {
      "text/html": [
       "<div>\n",
       "<style scoped>\n",
       "    .dataframe tbody tr th:only-of-type {\n",
       "        vertical-align: middle;\n",
       "    }\n",
       "\n",
       "    .dataframe tbody tr th {\n",
       "        vertical-align: top;\n",
       "    }\n",
       "\n",
       "    .dataframe thead th {\n",
       "        text-align: right;\n",
       "    }\n",
       "</style>\n",
       "<table border=\"1\" class=\"dataframe\">\n",
       "  <thead>\n",
       "    <tr style=\"text-align: right;\">\n",
       "      <th></th>\n",
       "      <th>id</th>\n",
       "      <th>title</th>\n",
       "      <th>author</th>\n",
       "      <th>text</th>\n",
       "      <th>label</th>\n",
       "      <th>content</th>\n",
       "    </tr>\n",
       "  </thead>\n",
       "  <tbody>\n",
       "    <tr>\n",
       "      <th>15304</th>\n",
       "      <td>15304</td>\n",
       "      <td>Fewer Tomatoes in Ketchup? East Europeans Purs...</td>\n",
       "      <td>Rick Lyman</td>\n",
       "      <td>BRATISLAVA, Slovakia  —   When Simona Budinska...</td>\n",
       "      <td>0</td>\n",
       "      <td>Rick Lyman Fewer Tomatoes in Ketchup? East Eur...</td>\n",
       "    </tr>\n",
       "    <tr>\n",
       "      <th>16145</th>\n",
       "      <td>16145</td>\n",
       "      <td>Bangladeshi Troops Move to End Hostage Standof...</td>\n",
       "      <td>Julfikar Ali Manik, Geeta Anand and Russell Go...</td>\n",
       "      <td>DHAKA, Bangladesh  —   Bangladeshi Army troops...</td>\n",
       "      <td>0</td>\n",
       "      <td>Julfikar Ali Manik, Geeta Anand and Russell Go...</td>\n",
       "    </tr>\n",
       "    <tr>\n",
       "      <th>16391</th>\n",
       "      <td>16391</td>\n",
       "      <td>World War 3, Information War, and the End of P...</td>\n",
       "      <td>Jafe Arnoldski (noreply@blogger.com)</td>\n",
       "      <td>November 5, 2016 - Fort Russ Exclusive -  Inte...</td>\n",
       "      <td>1</td>\n",
       "      <td>Jafe Arnoldski (noreply@blogger.com) World War...</td>\n",
       "    </tr>\n",
       "    <tr>\n",
       "      <th>19847</th>\n",
       "      <td>19847</td>\n",
       "      <td>Dershowitz: Special Counsel Is Wrong Choice, E...</td>\n",
       "      <td>Joel B. Pollak</td>\n",
       "      <td>Harvard Law School emeritus professor, liberal...</td>\n",
       "      <td>0</td>\n",
       "      <td>Joel B. Pollak Dershowitz: Special Counsel Is ...</td>\n",
       "    </tr>\n",
       "    <tr>\n",
       "      <th>10262</th>\n",
       "      <td>10262</td>\n",
       "      <td>Study: Breitbart Dominated Right Wing Coverage...</td>\n",
       "      <td>Allum Bokhari</td>\n",
       "      <td>A study from the Columbia Journalism Review (C...</td>\n",
       "      <td>0</td>\n",
       "      <td>Allum Bokhari Study: Breitbart Dominated Right...</td>\n",
       "    </tr>\n",
       "    <tr>\n",
       "      <th>731</th>\n",
       "      <td>731</td>\n",
       "      <td>Russia may run out of patience and respond to ...</td>\n",
       "      <td></td>\n",
       "      <td>Russia may run out of patience and respond to ...</td>\n",
       "      <td>1</td>\n",
       "      <td>Russia may run out of patience and respond to...</td>\n",
       "    </tr>\n",
       "    <tr>\n",
       "      <th>573</th>\n",
       "      <td>573</td>\n",
       "      <td>Le top des recherches Google passe en top des ...</td>\n",
       "      <td></td>\n",
       "      <td></td>\n",
       "      <td>1</td>\n",
       "      <td>Le top des recherches Google passe en top des...</td>\n",
       "    </tr>\n",
       "    <tr>\n",
       "      <th>19357</th>\n",
       "      <td>19357</td>\n",
       "      <td>Nikonorova: Donbass' UN recognition will be Ki...</td>\n",
       "      <td>Jafe Arnoldski (noreply@blogger.com)</td>\n",
       "      <td>November 17, 2016 - Fort Russ -  Antifashist -...</td>\n",
       "      <td>1</td>\n",
       "      <td>Jafe Arnoldski (noreply@blogger.com) Nikonorov...</td>\n",
       "    </tr>\n",
       "    <tr>\n",
       "      <th>20676</th>\n",
       "      <td>20676</td>\n",
       "      <td>California Set to Let Public Schools Teach Pri...</td>\n",
       "      <td>Henry Wolff</td>\n",
       "      <td>California Set to Let Public Schools Teach Pri...</td>\n",
       "      <td>1</td>\n",
       "      <td>Henry Wolff California Set to Let Public Schoo...</td>\n",
       "    </tr>\n",
       "    <tr>\n",
       "      <th>19403</th>\n",
       "      <td>19403</td>\n",
       "      <td>The Best TV Shows of 2016 - The New York Times</td>\n",
       "      <td>James Poniewozik, Mike Hale and Neil Genzlinger</td>\n",
       "      <td>lists are stories: They tell the truth by ly...</td>\n",
       "      <td>0</td>\n",
       "      <td>James Poniewozik, Mike Hale and Neil Genzlinge...</td>\n",
       "    </tr>\n",
       "  </tbody>\n",
       "</table>\n",
       "</div>"
      ],
      "text/plain": [
       "          id                                              title  \\\n",
       "15304  15304  Fewer Tomatoes in Ketchup? East Europeans Purs...   \n",
       "16145  16145  Bangladeshi Troops Move to End Hostage Standof...   \n",
       "16391  16391  World War 3, Information War, and the End of P...   \n",
       "19847  19847  Dershowitz: Special Counsel Is Wrong Choice, E...   \n",
       "10262  10262  Study: Breitbart Dominated Right Wing Coverage...   \n",
       "731      731  Russia may run out of patience and respond to ...   \n",
       "573      573  Le top des recherches Google passe en top des ...   \n",
       "19357  19357  Nikonorova: Donbass' UN recognition will be Ki...   \n",
       "20676  20676  California Set to Let Public Schools Teach Pri...   \n",
       "19403  19403     The Best TV Shows of 2016 - The New York Times   \n",
       "\n",
       "                                                  author  \\\n",
       "15304                                         Rick Lyman   \n",
       "16145  Julfikar Ali Manik, Geeta Anand and Russell Go...   \n",
       "16391               Jafe Arnoldski (noreply@blogger.com)   \n",
       "19847                                     Joel B. Pollak   \n",
       "10262                                      Allum Bokhari   \n",
       "731                                                        \n",
       "573                                                        \n",
       "19357               Jafe Arnoldski (noreply@blogger.com)   \n",
       "20676                                        Henry Wolff   \n",
       "19403    James Poniewozik, Mike Hale and Neil Genzlinger   \n",
       "\n",
       "                                                    text  label  \\\n",
       "15304  BRATISLAVA, Slovakia  —   When Simona Budinska...      0   \n",
       "16145  DHAKA, Bangladesh  —   Bangladeshi Army troops...      0   \n",
       "16391  November 5, 2016 - Fort Russ Exclusive -  Inte...      1   \n",
       "19847  Harvard Law School emeritus professor, liberal...      0   \n",
       "10262  A study from the Columbia Journalism Review (C...      0   \n",
       "731    Russia may run out of patience and respond to ...      1   \n",
       "573                                                           1   \n",
       "19357  November 17, 2016 - Fort Russ -  Antifashist -...      1   \n",
       "20676  California Set to Let Public Schools Teach Pri...      1   \n",
       "19403    lists are stories: They tell the truth by ly...      0   \n",
       "\n",
       "                                                 content  \n",
       "15304  Rick Lyman Fewer Tomatoes in Ketchup? East Eur...  \n",
       "16145  Julfikar Ali Manik, Geeta Anand and Russell Go...  \n",
       "16391  Jafe Arnoldski (noreply@blogger.com) World War...  \n",
       "19847  Joel B. Pollak Dershowitz: Special Counsel Is ...  \n",
       "10262  Allum Bokhari Study: Breitbart Dominated Right...  \n",
       "731     Russia may run out of patience and respond to...  \n",
       "573     Le top des recherches Google passe en top des...  \n",
       "19357  Jafe Arnoldski (noreply@blogger.com) Nikonorov...  \n",
       "20676  Henry Wolff California Set to Let Public Schoo...  \n",
       "19403  James Poniewozik, Mike Hale and Neil Genzlinge...  "
      ]
     },
     "execution_count": 12,
     "metadata": {},
     "output_type": "execute_result"
    }
   ],
   "source": [
    "news_dataset.sample(10)"
   ]
  },
  {
   "cell_type": "code",
   "execution_count": 13,
   "id": "5f18f960",
   "metadata": {
    "execution": {
     "iopub.execute_input": "2024-01-16T10:52:31.810473Z",
     "iopub.status.busy": "2024-01-16T10:52:31.809940Z",
     "iopub.status.idle": "2024-01-16T10:52:31.819034Z",
     "shell.execute_reply": "2024-01-16T10:52:31.817996Z"
    },
    "papermill": {
     "duration": 0.025573,
     "end_time": "2024-01-16T10:52:31.821975",
     "exception": false,
     "start_time": "2024-01-16T10:52:31.796402",
     "status": "completed"
    },
    "tags": []
   },
   "outputs": [
    {
     "name": "stdout",
     "output_type": "stream",
     "text": [
      "0        Darrell Lucus House Dem Aide: We Didn’t Even S...\n",
      "1        Daniel J. Flynn FLYNN: Hillary Clinton, Big Wo...\n",
      "2        Consortiumnews.com Why the Truth Might Get You...\n",
      "3        Jessica Purkiss 15 Civilians Killed In Single ...\n",
      "4        Howard Portnoy Iranian woman jailed for fictio...\n",
      "                               ...                        \n",
      "20795    Jerome Hudson Rapper T.I.: Trump a ’Poster Chi...\n",
      "20796    Benjamin Hoffman N.F.L. Playoffs: Schedule, Ma...\n",
      "20797    Michael J. de la Merced and Rachel Abrams Macy...\n",
      "20798    Alex Ansary NATO, Russia To Hold Parallel Exer...\n",
      "20799              David Swanson What Keeps the F-35 Alive\n",
      "Name: content, Length: 20800, dtype: object\n"
     ]
    }
   ],
   "source": [
    "print(news_dataset['content'])\n",
    "     "
   ]
  },
  {
   "cell_type": "code",
   "execution_count": 14,
   "id": "c1c94f7a",
   "metadata": {
    "execution": {
     "iopub.execute_input": "2024-01-16T10:52:31.849067Z",
     "iopub.status.busy": "2024-01-16T10:52:31.848058Z",
     "iopub.status.idle": "2024-01-16T10:52:31.866256Z",
     "shell.execute_reply": "2024-01-16T10:52:31.864866Z"
    },
    "papermill": {
     "duration": 0.035643,
     "end_time": "2024-01-16T10:52:31.869617",
     "exception": false,
     "start_time": "2024-01-16T10:52:31.833974",
     "status": "completed"
    },
    "tags": []
   },
   "outputs": [],
   "source": [
    "# separating the data & label\n",
    "X = news_dataset.drop(columns='label', axis=1)\n",
    "Y = news_dataset['label']"
   ]
  },
  {
   "cell_type": "code",
   "execution_count": 15,
   "id": "7dfce6c5",
   "metadata": {
    "execution": {
     "iopub.execute_input": "2024-01-16T10:52:31.896091Z",
     "iopub.status.busy": "2024-01-16T10:52:31.895103Z",
     "iopub.status.idle": "2024-01-16T10:52:31.910834Z",
     "shell.execute_reply": "2024-01-16T10:52:31.908622Z"
    },
    "papermill": {
     "duration": 0.031981,
     "end_time": "2024-01-16T10:52:31.913554",
     "exception": false,
     "start_time": "2024-01-16T10:52:31.881573",
     "status": "completed"
    },
    "tags": []
   },
   "outputs": [
    {
     "name": "stdout",
     "output_type": "stream",
     "text": [
      "          id                                              title  \\\n",
      "0          0  House Dem Aide: We Didn’t Even See Comey’s Let...   \n",
      "1          1  FLYNN: Hillary Clinton, Big Woman on Campus - ...   \n",
      "2          2                  Why the Truth Might Get You Fired   \n",
      "3          3  15 Civilians Killed In Single US Airstrike Hav...   \n",
      "4          4  Iranian woman jailed for fictional unpublished...   \n",
      "...      ...                                                ...   \n",
      "20795  20795  Rapper T.I.: Trump a ’Poster Child For White S...   \n",
      "20796  20796  N.F.L. Playoffs: Schedule, Matchups and Odds -...   \n",
      "20797  20797  Macy’s Is Said to Receive Takeover Approach by...   \n",
      "20798  20798  NATO, Russia To Hold Parallel Exercises In Bal...   \n",
      "20799  20799                          What Keeps the F-35 Alive   \n",
      "\n",
      "                                          author  \\\n",
      "0                                  Darrell Lucus   \n",
      "1                                Daniel J. Flynn   \n",
      "2                             Consortiumnews.com   \n",
      "3                                Jessica Purkiss   \n",
      "4                                 Howard Portnoy   \n",
      "...                                          ...   \n",
      "20795                              Jerome Hudson   \n",
      "20796                           Benjamin Hoffman   \n",
      "20797  Michael J. de la Merced and Rachel Abrams   \n",
      "20798                                Alex Ansary   \n",
      "20799                              David Swanson   \n",
      "\n",
      "                                                    text  \\\n",
      "0      House Dem Aide: We Didn’t Even See Comey’s Let...   \n",
      "1      Ever get the feeling your life circles the rou...   \n",
      "2      Why the Truth Might Get You Fired October 29, ...   \n",
      "3      Videos 15 Civilians Killed In Single US Airstr...   \n",
      "4      Print \\nAn Iranian woman has been sentenced to...   \n",
      "...                                                  ...   \n",
      "20795  Rapper T. I. unloaded on black celebrities who...   \n",
      "20796  When the Green Bay Packers lost to the Washing...   \n",
      "20797  The Macy’s of today grew from the union of sev...   \n",
      "20798  NATO, Russia To Hold Parallel Exercises In Bal...   \n",
      "20799    David Swanson is an author, activist, journa...   \n",
      "\n",
      "                                                 content  \n",
      "0      Darrell Lucus House Dem Aide: We Didn’t Even S...  \n",
      "1      Daniel J. Flynn FLYNN: Hillary Clinton, Big Wo...  \n",
      "2      Consortiumnews.com Why the Truth Might Get You...  \n",
      "3      Jessica Purkiss 15 Civilians Killed In Single ...  \n",
      "4      Howard Portnoy Iranian woman jailed for fictio...  \n",
      "...                                                  ...  \n",
      "20795  Jerome Hudson Rapper T.I.: Trump a ’Poster Chi...  \n",
      "20796  Benjamin Hoffman N.F.L. Playoffs: Schedule, Ma...  \n",
      "20797  Michael J. de la Merced and Rachel Abrams Macy...  \n",
      "20798  Alex Ansary NATO, Russia To Hold Parallel Exer...  \n",
      "20799            David Swanson What Keeps the F-35 Alive  \n",
      "\n",
      "[20800 rows x 5 columns]\n",
      "0        1\n",
      "1        0\n",
      "2        1\n",
      "3        1\n",
      "4        1\n",
      "        ..\n",
      "20795    0\n",
      "20796    0\n",
      "20797    0\n",
      "20798    1\n",
      "20799    1\n",
      "Name: label, Length: 20800, dtype: int64\n"
     ]
    }
   ],
   "source": [
    "print(X)\n",
    "print(Y)"
   ]
  },
  {
   "cell_type": "markdown",
   "id": "e9f05e7d",
   "metadata": {
    "papermill": {
     "duration": 0.01181,
     "end_time": "2024-01-16T10:52:31.937540",
     "exception": false,
     "start_time": "2024-01-16T10:52:31.925730",
     "status": "completed"
    },
    "tags": []
   },
   "source": [
    "Stemming:\n",
    "\n",
    "Stemming is the process of reducing a word to its Root word\n",
    "\n",
    "example: actor, actress, acting --> act"
   ]
  },
  {
   "cell_type": "code",
   "execution_count": 16,
   "id": "9a056ee9",
   "metadata": {
    "execution": {
     "iopub.execute_input": "2024-01-16T10:52:31.964760Z",
     "iopub.status.busy": "2024-01-16T10:52:31.964347Z",
     "iopub.status.idle": "2024-01-16T10:52:31.970562Z",
     "shell.execute_reply": "2024-01-16T10:52:31.968772Z"
    },
    "papermill": {
     "duration": 0.023134,
     "end_time": "2024-01-16T10:52:31.973405",
     "exception": false,
     "start_time": "2024-01-16T10:52:31.950271",
     "status": "completed"
    },
    "tags": []
   },
   "outputs": [],
   "source": [
    "port_stem = PorterStemmer()"
   ]
  },
  {
   "cell_type": "code",
   "execution_count": 17,
   "id": "42d75b0c",
   "metadata": {
    "execution": {
     "iopub.execute_input": "2024-01-16T10:52:32.000248Z",
     "iopub.status.busy": "2024-01-16T10:52:31.999713Z",
     "iopub.status.idle": "2024-01-16T10:52:32.007897Z",
     "shell.execute_reply": "2024-01-16T10:52:32.006000Z"
    },
    "papermill": {
     "duration": 0.024943,
     "end_time": "2024-01-16T10:52:32.010632",
     "exception": false,
     "start_time": "2024-01-16T10:52:31.985689",
     "status": "completed"
    },
    "tags": []
   },
   "outputs": [],
   "source": [
    "def stemming(content):\n",
    "    stemmed_content = re.sub('[^a-zA-Z]',' ',content)\n",
    "    stemmed_content = stemmed_content.lower()\n",
    "    stemmed_content = stemmed_content.split()\n",
    "    stemmed_content = [port_stem.stem(word) for word in stemmed_content \n",
    "                       if not word in stopwords.words('english')]\n",
    "    stemmed_content = ' '.join(stemmed_content)\n",
    "    return stemmed_content"
   ]
  },
  {
   "cell_type": "code",
   "execution_count": 18,
   "id": "089cd780",
   "metadata": {
    "execution": {
     "iopub.execute_input": "2024-01-16T10:52:32.038818Z",
     "iopub.status.busy": "2024-01-16T10:52:32.038325Z",
     "iopub.status.idle": "2024-01-16T10:53:23.500619Z",
     "shell.execute_reply": "2024-01-16T10:53:23.499334Z"
    },
    "papermill": {
     "duration": 51.480342,
     "end_time": "2024-01-16T10:53:23.503718",
     "exception": false,
     "start_time": "2024-01-16T10:52:32.023376",
     "status": "completed"
    },
    "tags": []
   },
   "outputs": [],
   "source": [
    "news_dataset['content'] = news_dataset['content'].apply(stemming)"
   ]
  },
  {
   "cell_type": "code",
   "execution_count": 19,
   "id": "f36efed5",
   "metadata": {
    "execution": {
     "iopub.execute_input": "2024-01-16T10:53:23.530924Z",
     "iopub.status.busy": "2024-01-16T10:53:23.530387Z",
     "iopub.status.idle": "2024-01-16T10:53:23.540089Z",
     "shell.execute_reply": "2024-01-16T10:53:23.538381Z"
    },
    "papermill": {
     "duration": 0.026767,
     "end_time": "2024-01-16T10:53:23.543015",
     "exception": false,
     "start_time": "2024-01-16T10:53:23.516248",
     "status": "completed"
    },
    "tags": []
   },
   "outputs": [
    {
     "name": "stdout",
     "output_type": "stream",
     "text": [
      "0        darrel lucu hous dem aid even see comey letter...\n",
      "1        daniel j flynn flynn hillari clinton big woman...\n",
      "2                   consortiumnew com truth might get fire\n",
      "3        jessica purkiss civilian kill singl us airstri...\n",
      "4        howard portnoy iranian woman jail fiction unpu...\n",
      "                               ...                        \n",
      "20795    jerom hudson rapper trump poster child white s...\n",
      "20796    benjamin hoffman n f l playoff schedul matchup...\n",
      "20797    michael j de la merc rachel abram maci said re...\n",
      "20798    alex ansari nato russia hold parallel exercis ...\n",
      "20799                            david swanson keep f aliv\n",
      "Name: content, Length: 20800, dtype: object\n"
     ]
    }
   ],
   "source": [
    "print(news_dataset['content'])"
   ]
  },
  {
   "cell_type": "code",
   "execution_count": 20,
   "id": "ef7afb4c",
   "metadata": {
    "execution": {
     "iopub.execute_input": "2024-01-16T10:53:23.571010Z",
     "iopub.status.busy": "2024-01-16T10:53:23.570515Z",
     "iopub.status.idle": "2024-01-16T10:53:23.581100Z",
     "shell.execute_reply": "2024-01-16T10:53:23.579865Z"
    },
    "papermill": {
     "duration": 0.028097,
     "end_time": "2024-01-16T10:53:23.583471",
     "exception": false,
     "start_time": "2024-01-16T10:53:23.555374",
     "status": "completed"
    },
    "tags": []
   },
   "outputs": [],
   "source": [
    "#separating the data and label\n",
    "X = news_dataset['content'].values\n",
    "Y = news_dataset['label'].values"
   ]
  },
  {
   "cell_type": "code",
   "execution_count": 21,
   "id": "12f7246c",
   "metadata": {
    "execution": {
     "iopub.execute_input": "2024-01-16T10:53:23.610225Z",
     "iopub.status.busy": "2024-01-16T10:53:23.609758Z",
     "iopub.status.idle": "2024-01-16T10:53:23.615660Z",
     "shell.execute_reply": "2024-01-16T10:53:23.614713Z"
    },
    "papermill": {
     "duration": 0.022367,
     "end_time": "2024-01-16T10:53:23.618119",
     "exception": false,
     "start_time": "2024-01-16T10:53:23.595752",
     "status": "completed"
    },
    "tags": []
   },
   "outputs": [
    {
     "name": "stdout",
     "output_type": "stream",
     "text": [
      "['darrel lucu hous dem aid even see comey letter jason chaffetz tweet'\n",
      " 'daniel j flynn flynn hillari clinton big woman campu breitbart'\n",
      " 'consortiumnew com truth might get fire' ...\n",
      " 'michael j de la merc rachel abram maci said receiv takeov approach hudson bay new york time'\n",
      " 'alex ansari nato russia hold parallel exercis balkan'\n",
      " 'david swanson keep f aliv']\n"
     ]
    }
   ],
   "source": [
    "print(X)"
   ]
  },
  {
   "cell_type": "code",
   "execution_count": 22,
   "id": "c800109d",
   "metadata": {
    "execution": {
     "iopub.execute_input": "2024-01-16T10:53:23.645970Z",
     "iopub.status.busy": "2024-01-16T10:53:23.645428Z",
     "iopub.status.idle": "2024-01-16T10:53:23.652908Z",
     "shell.execute_reply": "2024-01-16T10:53:23.651321Z"
    },
    "papermill": {
     "duration": 0.024717,
     "end_time": "2024-01-16T10:53:23.655422",
     "exception": false,
     "start_time": "2024-01-16T10:53:23.630705",
     "status": "completed"
    },
    "tags": []
   },
   "outputs": [
    {
     "name": "stdout",
     "output_type": "stream",
     "text": [
      "[1 0 1 ... 0 1 1]\n"
     ]
    }
   ],
   "source": [
    "print(Y)"
   ]
  },
  {
   "cell_type": "code",
   "execution_count": 23,
   "id": "f57dcaf3",
   "metadata": {
    "execution": {
     "iopub.execute_input": "2024-01-16T10:53:23.683836Z",
     "iopub.status.busy": "2024-01-16T10:53:23.682314Z",
     "iopub.status.idle": "2024-01-16T10:53:23.689921Z",
     "shell.execute_reply": "2024-01-16T10:53:23.688778Z"
    },
    "papermill": {
     "duration": 0.02449,
     "end_time": "2024-01-16T10:53:23.692248",
     "exception": false,
     "start_time": "2024-01-16T10:53:23.667758",
     "status": "completed"
    },
    "tags": []
   },
   "outputs": [
    {
     "data": {
      "text/plain": [
       "(20800,)"
      ]
     },
     "execution_count": 23,
     "metadata": {},
     "output_type": "execute_result"
    }
   ],
   "source": [
    "Y.shape"
   ]
  },
  {
   "cell_type": "markdown",
   "id": "24190c8c",
   "metadata": {
    "papermill": {
     "duration": 0.012162,
     "end_time": "2024-01-16T10:53:23.717204",
     "exception": false,
     "start_time": "2024-01-16T10:53:23.705042",
     "status": "completed"
    },
    "tags": []
   },
   "source": [
    "Tf-Idf"
   ]
  },
  {
   "cell_type": "code",
   "execution_count": 24,
   "id": "5de8541f",
   "metadata": {
    "execution": {
     "iopub.execute_input": "2024-01-16T10:53:23.745571Z",
     "iopub.status.busy": "2024-01-16T10:53:23.744526Z",
     "iopub.status.idle": "2024-01-16T10:53:23.750744Z",
     "shell.execute_reply": "2024-01-16T10:53:23.749367Z"
    },
    "papermill": {
     "duration": 0.023163,
     "end_time": "2024-01-16T10:53:23.753329",
     "exception": false,
     "start_time": "2024-01-16T10:53:23.730166",
     "status": "completed"
    },
    "tags": []
   },
   "outputs": [],
   "source": [
    "# convert the textual data to Feature Vectors\n",
    "vectorizer = TfidfVectorizer()\n",
    "     "
   ]
  },
  {
   "cell_type": "code",
   "execution_count": 25,
   "id": "56adc4c6",
   "metadata": {
    "execution": {
     "iopub.execute_input": "2024-01-16T10:53:23.846349Z",
     "iopub.status.busy": "2024-01-16T10:53:23.845754Z",
     "iopub.status.idle": "2024-01-16T10:53:24.775981Z",
     "shell.execute_reply": "2024-01-16T10:53:24.774375Z"
    },
    "papermill": {
     "duration": 1.013234,
     "end_time": "2024-01-16T10:53:24.779593",
     "exception": false,
     "start_time": "2024-01-16T10:53:23.766359",
     "status": "completed"
    },
    "tags": []
   },
   "outputs": [],
   "source": [
    "vectorizer.fit(X)\n",
    "\n",
    "X = vectorizer.transform(X)"
   ]
  },
  {
   "cell_type": "code",
   "execution_count": 26,
   "id": "e589e81a",
   "metadata": {
    "execution": {
     "iopub.execute_input": "2024-01-16T10:53:24.811750Z",
     "iopub.status.busy": "2024-01-16T10:53:24.811260Z",
     "iopub.status.idle": "2024-01-16T10:53:24.821002Z",
     "shell.execute_reply": "2024-01-16T10:53:24.819790Z"
    },
    "papermill": {
     "duration": 0.030337,
     "end_time": "2024-01-16T10:53:24.824374",
     "exception": false,
     "start_time": "2024-01-16T10:53:24.794037",
     "status": "completed"
    },
    "tags": []
   },
   "outputs": [
    {
     "name": "stdout",
     "output_type": "stream",
     "text": [
      "  (0, 15686)\t0.28485063562728646\n",
      "  (0, 13473)\t0.2565896679337957\n",
      "  (0, 8909)\t0.3635963806326075\n",
      "  (0, 8630)\t0.29212514087043684\n",
      "  (0, 7692)\t0.24785219520671603\n",
      "  (0, 7005)\t0.21874169089359144\n",
      "  (0, 4973)\t0.233316966909351\n",
      "  (0, 3792)\t0.2705332480845492\n",
      "  (0, 3600)\t0.3598939188262559\n",
      "  (0, 2959)\t0.2468450128533713\n",
      "  (0, 2483)\t0.3676519686797209\n",
      "  (0, 267)\t0.27010124977708766\n",
      "  (1, 16799)\t0.30071745655510157\n",
      "  (1, 6816)\t0.1904660198296849\n",
      "  (1, 5503)\t0.7143299355715573\n",
      "  (1, 3568)\t0.26373768806048464\n",
      "  (1, 2813)\t0.19094574062359204\n",
      "  (1, 2223)\t0.3827320386859759\n",
      "  (1, 1894)\t0.15521974226349364\n",
      "  (1, 1497)\t0.2939891562094648\n",
      "  (2, 15611)\t0.41544962664721613\n",
      "  (2, 9620)\t0.49351492943649944\n",
      "  (2, 5968)\t0.3474613386728292\n",
      "  (2, 5389)\t0.3866530551182615\n",
      "  (2, 3103)\t0.46097489583229645\n",
      "  :\t:\n",
      "  (20797, 13122)\t0.2482526352197606\n",
      "  (20797, 12344)\t0.27263457663336677\n",
      "  (20797, 12138)\t0.24778257724396507\n",
      "  (20797, 10306)\t0.08038079000566466\n",
      "  (20797, 9588)\t0.174553480255222\n",
      "  (20797, 9518)\t0.2954204003420313\n",
      "  (20797, 8988)\t0.36160868928090795\n",
      "  (20797, 8364)\t0.22322585870464118\n",
      "  (20797, 7042)\t0.21799048897828688\n",
      "  (20797, 3643)\t0.21155500613623743\n",
      "  (20797, 1287)\t0.33538056804139865\n",
      "  (20797, 699)\t0.30685846079762347\n",
      "  (20797, 43)\t0.29710241860700626\n",
      "  (20798, 13046)\t0.22363267488270608\n",
      "  (20798, 11052)\t0.4460515589182236\n",
      "  (20798, 10177)\t0.3192496370187028\n",
      "  (20798, 6889)\t0.32496285694299426\n",
      "  (20798, 5032)\t0.4083701450239529\n",
      "  (20798, 1125)\t0.4460515589182236\n",
      "  (20798, 588)\t0.3112141524638974\n",
      "  (20798, 350)\t0.28446937819072576\n",
      "  (20799, 14852)\t0.5677577267055112\n",
      "  (20799, 8036)\t0.45983893273780013\n",
      "  (20799, 3623)\t0.37927626273066584\n",
      "  (20799, 377)\t0.5677577267055112\n"
     ]
    }
   ],
   "source": [
    "print(X)\n",
    "     "
   ]
  },
  {
   "cell_type": "code",
   "execution_count": null,
   "id": "fc79d1b8",
   "metadata": {
    "papermill": {
     "duration": 0.014356,
     "end_time": "2024-01-16T10:53:24.853867",
     "exception": false,
     "start_time": "2024-01-16T10:53:24.839511",
     "status": "completed"
    },
    "tags": []
   },
   "outputs": [],
   "source": []
  }
 ],
 "metadata": {
  "kaggle": {
   "accelerator": "none",
   "dataSources": [
    {
     "datasetId": 4309082,
     "sourceId": 7408842,
     "sourceType": "datasetVersion"
    }
   ],
   "dockerImageVersionId": 30635,
   "isGpuEnabled": false,
   "isInternetEnabled": true,
   "language": "python",
   "sourceType": "notebook"
  },
  "kernelspec": {
   "display_name": "Python 3",
   "language": "python",
   "name": "python3"
  },
  "language_info": {
   "codemirror_mode": {
    "name": "ipython",
    "version": 3
   },
   "file_extension": ".py",
   "mimetype": "text/x-python",
   "name": "python",
   "nbconvert_exporter": "python",
   "pygments_lexer": "ipython3",
   "version": "3.10.12"
  },
  "papermill": {
   "default_parameters": {},
   "duration": 64.120315,
   "end_time": "2024-01-16T10:53:25.593397",
   "environment_variables": {},
   "exception": null,
   "input_path": "__notebook__.ipynb",
   "output_path": "__notebook__.ipynb",
   "parameters": {},
   "start_time": "2024-01-16T10:52:21.473082",
   "version": "2.4.0"
  }
 },
 "nbformat": 4,
 "nbformat_minor": 5
}
