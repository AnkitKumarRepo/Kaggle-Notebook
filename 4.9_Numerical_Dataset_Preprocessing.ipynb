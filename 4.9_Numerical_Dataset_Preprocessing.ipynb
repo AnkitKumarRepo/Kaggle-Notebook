{
 "cells": [
  {
   "cell_type": "code",
   "execution_count": 1,
   "id": "06497e59",
   "metadata": {
    "_cell_guid": "b1076dfc-b9ad-4769-8c92-a6c4dae69d19",
    "_uuid": "8f2839f25d086af736a60e9eeb907d3b93b6e0e5",
    "execution": {
     "iopub.execute_input": "2024-01-16T11:17:24.197152Z",
     "iopub.status.busy": "2024-01-16T11:17:24.195948Z",
     "iopub.status.idle": "2024-01-16T11:17:24.583465Z",
     "shell.execute_reply": "2024-01-16T11:17:24.582443Z"
    },
    "papermill": {
     "duration": 0.397626,
     "end_time": "2024-01-16T11:17:24.586281",
     "exception": false,
     "start_time": "2024-01-16T11:17:24.188655",
     "status": "completed"
    },
    "tags": []
   },
   "outputs": [
    {
     "name": "stdout",
     "output_type": "stream",
     "text": [
      "/kaggle/input/diabetes/diabetes.csv\n"
     ]
    }
   ],
   "source": [
    "# This Python 3 environment comes with many helpful analytics libraries installed\n",
    "# It is defined by the kaggle/python Docker image: https://github.com/kaggle/docker-python\n",
    "# For example, here's several helpful packages to load\n",
    "\n",
    "import numpy as np # linear algebra\n",
    "import pandas as pd # data processing, CSV file I/O (e.g. pd.read_csv)\n",
    "\n",
    "# Input data files are available in the read-only \"../input/\" directory\n",
    "# For example, running this (by clicking run or pressing Shift+Enter) will list all files under the input directory\n",
    "\n",
    "import os\n",
    "for dirname, _, filenames in os.walk('/kaggle/input'):\n",
    "    for filename in filenames:\n",
    "        print(os.path.join(dirname, filename))\n",
    "\n",
    "# You can write up to 20GB to the current directory (/kaggle/working/) that gets preserved as output when you create a version using \"Save & Run All\" \n",
    "# You can also write temporary files to /kaggle/temp/, but they won't be saved outside of the current session"
   ]
  },
  {
   "cell_type": "code",
   "execution_count": 2,
   "id": "f820cbb2",
   "metadata": {
    "execution": {
     "iopub.execute_input": "2024-01-16T11:17:24.599057Z",
     "iopub.status.busy": "2024-01-16T11:17:24.598346Z",
     "iopub.status.idle": "2024-01-16T11:17:25.666459Z",
     "shell.execute_reply": "2024-01-16T11:17:25.665300Z"
    },
    "papermill": {
     "duration": 1.077315,
     "end_time": "2024-01-16T11:17:25.669011",
     "exception": false,
     "start_time": "2024-01-16T11:17:24.591696",
     "status": "completed"
    },
    "tags": []
   },
   "outputs": [],
   "source": [
    "import numpy as np\n",
    "import pandas as pd\n",
    "from sklearn.preprocessing import StandardScaler\n",
    "from sklearn.model_selection import train_test_split"
   ]
  },
  {
   "cell_type": "markdown",
   "id": "62a02aa1",
   "metadata": {
    "papermill": {
     "duration": 0.004814,
     "end_time": "2024-01-16T11:17:25.679074",
     "exception": false,
     "start_time": "2024-01-16T11:17:25.674260",
     "status": "completed"
    },
    "tags": []
   },
   "source": [
    "Data Collection & Pre-Processing"
   ]
  },
  {
   "cell_type": "code",
   "execution_count": 3,
   "id": "7cbd18bf",
   "metadata": {
    "execution": {
     "iopub.execute_input": "2024-01-16T11:17:25.690653Z",
     "iopub.status.busy": "2024-01-16T11:17:25.690275Z",
     "iopub.status.idle": "2024-01-16T11:17:25.712596Z",
     "shell.execute_reply": "2024-01-16T11:17:25.711708Z"
    },
    "papermill": {
     "duration": 0.030885,
     "end_time": "2024-01-16T11:17:25.714975",
     "exception": false,
     "start_time": "2024-01-16T11:17:25.684090",
     "status": "completed"
    },
    "tags": []
   },
   "outputs": [],
   "source": [
    "# loading the data from csv file to a pandas dataframe\n",
    "diabetes_data = pd.read_csv('/kaggle/input/diabetes/diabetes.csv')\n"
   ]
  },
  {
   "cell_type": "code",
   "execution_count": 4,
   "id": "114f6f97",
   "metadata": {
    "execution": {
     "iopub.execute_input": "2024-01-16T11:17:25.726917Z",
     "iopub.status.busy": "2024-01-16T11:17:25.726513Z",
     "iopub.status.idle": "2024-01-16T11:17:25.747869Z",
     "shell.execute_reply": "2024-01-16T11:17:25.746743Z"
    },
    "papermill": {
     "duration": 0.030044,
     "end_time": "2024-01-16T11:17:25.750177",
     "exception": false,
     "start_time": "2024-01-16T11:17:25.720133",
     "status": "completed"
    },
    "tags": []
   },
   "outputs": [
    {
     "data": {
      "text/html": [
       "<div>\n",
       "<style scoped>\n",
       "    .dataframe tbody tr th:only-of-type {\n",
       "        vertical-align: middle;\n",
       "    }\n",
       "\n",
       "    .dataframe tbody tr th {\n",
       "        vertical-align: top;\n",
       "    }\n",
       "\n",
       "    .dataframe thead th {\n",
       "        text-align: right;\n",
       "    }\n",
       "</style>\n",
       "<table border=\"1\" class=\"dataframe\">\n",
       "  <thead>\n",
       "    <tr style=\"text-align: right;\">\n",
       "      <th></th>\n",
       "      <th>Pregnancies</th>\n",
       "      <th>Glucose</th>\n",
       "      <th>BloodPressure</th>\n",
       "      <th>SkinThickness</th>\n",
       "      <th>Insulin</th>\n",
       "      <th>BMI</th>\n",
       "      <th>DiabetesPedigreeFunction</th>\n",
       "      <th>Age</th>\n",
       "      <th>Outcome</th>\n",
       "    </tr>\n",
       "  </thead>\n",
       "  <tbody>\n",
       "    <tr>\n",
       "      <th>0</th>\n",
       "      <td>6</td>\n",
       "      <td>148</td>\n",
       "      <td>72</td>\n",
       "      <td>35</td>\n",
       "      <td>0</td>\n",
       "      <td>33.6</td>\n",
       "      <td>0.627</td>\n",
       "      <td>50</td>\n",
       "      <td>1</td>\n",
       "    </tr>\n",
       "    <tr>\n",
       "      <th>1</th>\n",
       "      <td>1</td>\n",
       "      <td>85</td>\n",
       "      <td>66</td>\n",
       "      <td>29</td>\n",
       "      <td>0</td>\n",
       "      <td>26.6</td>\n",
       "      <td>0.351</td>\n",
       "      <td>31</td>\n",
       "      <td>0</td>\n",
       "    </tr>\n",
       "    <tr>\n",
       "      <th>2</th>\n",
       "      <td>8</td>\n",
       "      <td>183</td>\n",
       "      <td>64</td>\n",
       "      <td>0</td>\n",
       "      <td>0</td>\n",
       "      <td>23.3</td>\n",
       "      <td>0.672</td>\n",
       "      <td>32</td>\n",
       "      <td>1</td>\n",
       "    </tr>\n",
       "    <tr>\n",
       "      <th>3</th>\n",
       "      <td>1</td>\n",
       "      <td>89</td>\n",
       "      <td>66</td>\n",
       "      <td>23</td>\n",
       "      <td>94</td>\n",
       "      <td>28.1</td>\n",
       "      <td>0.167</td>\n",
       "      <td>21</td>\n",
       "      <td>0</td>\n",
       "    </tr>\n",
       "    <tr>\n",
       "      <th>4</th>\n",
       "      <td>0</td>\n",
       "      <td>137</td>\n",
       "      <td>40</td>\n",
       "      <td>35</td>\n",
       "      <td>168</td>\n",
       "      <td>43.1</td>\n",
       "      <td>2.288</td>\n",
       "      <td>33</td>\n",
       "      <td>1</td>\n",
       "    </tr>\n",
       "  </tbody>\n",
       "</table>\n",
       "</div>"
      ],
      "text/plain": [
       "   Pregnancies  Glucose  BloodPressure  SkinThickness  Insulin   BMI  \\\n",
       "0            6      148             72             35        0  33.6   \n",
       "1            1       85             66             29        0  26.6   \n",
       "2            8      183             64              0        0  23.3   \n",
       "3            1       89             66             23       94  28.1   \n",
       "4            0      137             40             35      168  43.1   \n",
       "\n",
       "   DiabetesPedigreeFunction  Age  Outcome  \n",
       "0                     0.627   50        1  \n",
       "1                     0.351   31        0  \n",
       "2                     0.672   32        1  \n",
       "3                     0.167   21        0  \n",
       "4                     2.288   33        1  "
      ]
     },
     "execution_count": 4,
     "metadata": {},
     "output_type": "execute_result"
    }
   ],
   "source": [
    "# first 5 rows of the dataframe\n",
    "diabetes_data.head()"
   ]
  },
  {
   "cell_type": "code",
   "execution_count": 5,
   "id": "a045488c",
   "metadata": {
    "execution": {
     "iopub.execute_input": "2024-01-16T11:17:25.763100Z",
     "iopub.status.busy": "2024-01-16T11:17:25.762120Z",
     "iopub.status.idle": "2024-01-16T11:17:25.768671Z",
     "shell.execute_reply": "2024-01-16T11:17:25.767798Z"
    },
    "papermill": {
     "duration": 0.01497,
     "end_time": "2024-01-16T11:17:25.770544",
     "exception": false,
     "start_time": "2024-01-16T11:17:25.755574",
     "status": "completed"
    },
    "tags": []
   },
   "outputs": [
    {
     "data": {
      "text/plain": [
       "(768, 9)"
      ]
     },
     "execution_count": 5,
     "metadata": {},
     "output_type": "execute_result"
    }
   ],
   "source": [
    "diabetes_data.shape"
   ]
  },
  {
   "cell_type": "code",
   "execution_count": 6,
   "id": "62f963a8",
   "metadata": {
    "execution": {
     "iopub.execute_input": "2024-01-16T11:17:25.783350Z",
     "iopub.status.busy": "2024-01-16T11:17:25.782563Z",
     "iopub.status.idle": "2024-01-16T11:17:25.818670Z",
     "shell.execute_reply": "2024-01-16T11:17:25.817485Z"
    },
    "papermill": {
     "duration": 0.044672,
     "end_time": "2024-01-16T11:17:25.820714",
     "exception": false,
     "start_time": "2024-01-16T11:17:25.776042",
     "status": "completed"
    },
    "tags": []
   },
   "outputs": [
    {
     "data": {
      "text/html": [
       "<div>\n",
       "<style scoped>\n",
       "    .dataframe tbody tr th:only-of-type {\n",
       "        vertical-align: middle;\n",
       "    }\n",
       "\n",
       "    .dataframe tbody tr th {\n",
       "        vertical-align: top;\n",
       "    }\n",
       "\n",
       "    .dataframe thead th {\n",
       "        text-align: right;\n",
       "    }\n",
       "</style>\n",
       "<table border=\"1\" class=\"dataframe\">\n",
       "  <thead>\n",
       "    <tr style=\"text-align: right;\">\n",
       "      <th></th>\n",
       "      <th>Pregnancies</th>\n",
       "      <th>Glucose</th>\n",
       "      <th>BloodPressure</th>\n",
       "      <th>SkinThickness</th>\n",
       "      <th>Insulin</th>\n",
       "      <th>BMI</th>\n",
       "      <th>DiabetesPedigreeFunction</th>\n",
       "      <th>Age</th>\n",
       "      <th>Outcome</th>\n",
       "    </tr>\n",
       "  </thead>\n",
       "  <tbody>\n",
       "    <tr>\n",
       "      <th>count</th>\n",
       "      <td>768.000000</td>\n",
       "      <td>768.000000</td>\n",
       "      <td>768.000000</td>\n",
       "      <td>768.000000</td>\n",
       "      <td>768.000000</td>\n",
       "      <td>768.000000</td>\n",
       "      <td>768.000000</td>\n",
       "      <td>768.000000</td>\n",
       "      <td>768.000000</td>\n",
       "    </tr>\n",
       "    <tr>\n",
       "      <th>mean</th>\n",
       "      <td>3.845052</td>\n",
       "      <td>120.894531</td>\n",
       "      <td>69.105469</td>\n",
       "      <td>20.536458</td>\n",
       "      <td>79.799479</td>\n",
       "      <td>31.992578</td>\n",
       "      <td>0.471876</td>\n",
       "      <td>33.240885</td>\n",
       "      <td>0.348958</td>\n",
       "    </tr>\n",
       "    <tr>\n",
       "      <th>std</th>\n",
       "      <td>3.369578</td>\n",
       "      <td>31.972618</td>\n",
       "      <td>19.355807</td>\n",
       "      <td>15.952218</td>\n",
       "      <td>115.244002</td>\n",
       "      <td>7.884160</td>\n",
       "      <td>0.331329</td>\n",
       "      <td>11.760232</td>\n",
       "      <td>0.476951</td>\n",
       "    </tr>\n",
       "    <tr>\n",
       "      <th>min</th>\n",
       "      <td>0.000000</td>\n",
       "      <td>0.000000</td>\n",
       "      <td>0.000000</td>\n",
       "      <td>0.000000</td>\n",
       "      <td>0.000000</td>\n",
       "      <td>0.000000</td>\n",
       "      <td>0.078000</td>\n",
       "      <td>21.000000</td>\n",
       "      <td>0.000000</td>\n",
       "    </tr>\n",
       "    <tr>\n",
       "      <th>25%</th>\n",
       "      <td>1.000000</td>\n",
       "      <td>99.000000</td>\n",
       "      <td>62.000000</td>\n",
       "      <td>0.000000</td>\n",
       "      <td>0.000000</td>\n",
       "      <td>27.300000</td>\n",
       "      <td>0.243750</td>\n",
       "      <td>24.000000</td>\n",
       "      <td>0.000000</td>\n",
       "    </tr>\n",
       "    <tr>\n",
       "      <th>50%</th>\n",
       "      <td>3.000000</td>\n",
       "      <td>117.000000</td>\n",
       "      <td>72.000000</td>\n",
       "      <td>23.000000</td>\n",
       "      <td>30.500000</td>\n",
       "      <td>32.000000</td>\n",
       "      <td>0.372500</td>\n",
       "      <td>29.000000</td>\n",
       "      <td>0.000000</td>\n",
       "    </tr>\n",
       "    <tr>\n",
       "      <th>75%</th>\n",
       "      <td>6.000000</td>\n",
       "      <td>140.250000</td>\n",
       "      <td>80.000000</td>\n",
       "      <td>32.000000</td>\n",
       "      <td>127.250000</td>\n",
       "      <td>36.600000</td>\n",
       "      <td>0.626250</td>\n",
       "      <td>41.000000</td>\n",
       "      <td>1.000000</td>\n",
       "    </tr>\n",
       "    <tr>\n",
       "      <th>max</th>\n",
       "      <td>17.000000</td>\n",
       "      <td>199.000000</td>\n",
       "      <td>122.000000</td>\n",
       "      <td>99.000000</td>\n",
       "      <td>846.000000</td>\n",
       "      <td>67.100000</td>\n",
       "      <td>2.420000</td>\n",
       "      <td>81.000000</td>\n",
       "      <td>1.000000</td>\n",
       "    </tr>\n",
       "  </tbody>\n",
       "</table>\n",
       "</div>"
      ],
      "text/plain": [
       "       Pregnancies     Glucose  BloodPressure  SkinThickness     Insulin  \\\n",
       "count   768.000000  768.000000     768.000000     768.000000  768.000000   \n",
       "mean      3.845052  120.894531      69.105469      20.536458   79.799479   \n",
       "std       3.369578   31.972618      19.355807      15.952218  115.244002   \n",
       "min       0.000000    0.000000       0.000000       0.000000    0.000000   \n",
       "25%       1.000000   99.000000      62.000000       0.000000    0.000000   \n",
       "50%       3.000000  117.000000      72.000000      23.000000   30.500000   \n",
       "75%       6.000000  140.250000      80.000000      32.000000  127.250000   \n",
       "max      17.000000  199.000000     122.000000      99.000000  846.000000   \n",
       "\n",
       "              BMI  DiabetesPedigreeFunction         Age     Outcome  \n",
       "count  768.000000                768.000000  768.000000  768.000000  \n",
       "mean    31.992578                  0.471876   33.240885    0.348958  \n",
       "std      7.884160                  0.331329   11.760232    0.476951  \n",
       "min      0.000000                  0.078000   21.000000    0.000000  \n",
       "25%     27.300000                  0.243750   24.000000    0.000000  \n",
       "50%     32.000000                  0.372500   29.000000    0.000000  \n",
       "75%     36.600000                  0.626250   41.000000    1.000000  \n",
       "max     67.100000                  2.420000   81.000000    1.000000  "
      ]
     },
     "execution_count": 6,
     "metadata": {},
     "output_type": "execute_result"
    }
   ],
   "source": [
    "diabetes_data.describe()"
   ]
  },
  {
   "cell_type": "markdown",
   "id": "25b5469d",
   "metadata": {
    "papermill": {
     "duration": 0.005564,
     "end_time": "2024-01-16T11:17:25.832092",
     "exception": false,
     "start_time": "2024-01-16T11:17:25.826528",
     "status": "completed"
    },
    "tags": []
   },
   "source": [
    "Separating Features and Target\n",
    "\n"
   ]
  },
  {
   "cell_type": "code",
   "execution_count": 7,
   "id": "51e70e9e",
   "metadata": {
    "execution": {
     "iopub.execute_input": "2024-01-16T11:17:25.845517Z",
     "iopub.status.busy": "2024-01-16T11:17:25.844748Z",
     "iopub.status.idle": "2024-01-16T11:17:25.856838Z",
     "shell.execute_reply": "2024-01-16T11:17:25.855970Z"
    },
    "papermill": {
     "duration": 0.021329,
     "end_time": "2024-01-16T11:17:25.859073",
     "exception": false,
     "start_time": "2024-01-16T11:17:25.837744",
     "status": "completed"
    },
    "tags": []
   },
   "outputs": [],
   "source": [
    "X = diabetes_data.drop(columns='Outcome', axis =1)\n",
    "Y = diabetes_data['Outcome']"
   ]
  },
  {
   "cell_type": "code",
   "execution_count": 8,
   "id": "46dddfe6",
   "metadata": {
    "execution": {
     "iopub.execute_input": "2024-01-16T11:17:25.872755Z",
     "iopub.status.busy": "2024-01-16T11:17:25.872069Z",
     "iopub.status.idle": "2024-01-16T11:17:25.881784Z",
     "shell.execute_reply": "2024-01-16T11:17:25.880871Z"
    },
    "papermill": {
     "duration": 0.01906,
     "end_time": "2024-01-16T11:17:25.884154",
     "exception": false,
     "start_time": "2024-01-16T11:17:25.865094",
     "status": "completed"
    },
    "tags": []
   },
   "outputs": [
    {
     "name": "stdout",
     "output_type": "stream",
     "text": [
      "     Pregnancies  Glucose  BloodPressure  SkinThickness  Insulin   BMI  \\\n",
      "0              6      148             72             35        0  33.6   \n",
      "1              1       85             66             29        0  26.6   \n",
      "2              8      183             64              0        0  23.3   \n",
      "3              1       89             66             23       94  28.1   \n",
      "4              0      137             40             35      168  43.1   \n",
      "..           ...      ...            ...            ...      ...   ...   \n",
      "763           10      101             76             48      180  32.9   \n",
      "764            2      122             70             27        0  36.8   \n",
      "765            5      121             72             23      112  26.2   \n",
      "766            1      126             60              0        0  30.1   \n",
      "767            1       93             70             31        0  30.4   \n",
      "\n",
      "     DiabetesPedigreeFunction  Age  \n",
      "0                       0.627   50  \n",
      "1                       0.351   31  \n",
      "2                       0.672   32  \n",
      "3                       0.167   21  \n",
      "4                       2.288   33  \n",
      "..                        ...  ...  \n",
      "763                     0.171   63  \n",
      "764                     0.340   27  \n",
      "765                     0.245   30  \n",
      "766                     0.349   47  \n",
      "767                     0.315   23  \n",
      "\n",
      "[768 rows x 8 columns]\n"
     ]
    }
   ],
   "source": [
    "print(X)"
   ]
  },
  {
   "cell_type": "code",
   "execution_count": 9,
   "id": "b55314aa",
   "metadata": {
    "execution": {
     "iopub.execute_input": "2024-01-16T11:17:25.898073Z",
     "iopub.status.busy": "2024-01-16T11:17:25.897411Z",
     "iopub.status.idle": "2024-01-16T11:17:25.903613Z",
     "shell.execute_reply": "2024-01-16T11:17:25.902396Z"
    },
    "papermill": {
     "duration": 0.01638,
     "end_time": "2024-01-16T11:17:25.906437",
     "exception": false,
     "start_time": "2024-01-16T11:17:25.890057",
     "status": "completed"
    },
    "tags": []
   },
   "outputs": [
    {
     "name": "stdout",
     "output_type": "stream",
     "text": [
      "0      1\n",
      "1      0\n",
      "2      1\n",
      "3      0\n",
      "4      1\n",
      "      ..\n",
      "763    0\n",
      "764    0\n",
      "765    0\n",
      "766    1\n",
      "767    0\n",
      "Name: Outcome, Length: 768, dtype: int64\n"
     ]
    }
   ],
   "source": [
    "print(Y)"
   ]
  },
  {
   "cell_type": "markdown",
   "id": "99b19d41",
   "metadata": {
    "papermill": {
     "duration": 0.005598,
     "end_time": "2024-01-16T11:17:25.918170",
     "exception": false,
     "start_time": "2024-01-16T11:17:25.912572",
     "status": "completed"
    },
    "tags": []
   },
   "source": [
    "Data Standardization"
   ]
  },
  {
   "cell_type": "code",
   "execution_count": 10,
   "id": "372cbbb2",
   "metadata": {
    "execution": {
     "iopub.execute_input": "2024-01-16T11:17:25.931403Z",
     "iopub.status.busy": "2024-01-16T11:17:25.931053Z",
     "iopub.status.idle": "2024-01-16T11:17:25.935081Z",
     "shell.execute_reply": "2024-01-16T11:17:25.934032Z"
    },
    "papermill": {
     "duration": 0.013208,
     "end_time": "2024-01-16T11:17:25.937157",
     "exception": false,
     "start_time": "2024-01-16T11:17:25.923949",
     "status": "completed"
    },
    "tags": []
   },
   "outputs": [],
   "source": [
    "scaler = StandardScaler()"
   ]
  },
  {
   "cell_type": "code",
   "execution_count": 11,
   "id": "ce24c062",
   "metadata": {
    "execution": {
     "iopub.execute_input": "2024-01-16T11:17:25.950947Z",
     "iopub.status.busy": "2024-01-16T11:17:25.950281Z",
     "iopub.status.idle": "2024-01-16T11:17:25.958101Z",
     "shell.execute_reply": "2024-01-16T11:17:25.957307Z"
    },
    "papermill": {
     "duration": 0.016917,
     "end_time": "2024-01-16T11:17:25.960145",
     "exception": false,
     "start_time": "2024-01-16T11:17:25.943228",
     "status": "completed"
    },
    "tags": []
   },
   "outputs": [],
   "source": [
    "standardized_data = scaler.fit_transform(X)\n",
    "     "
   ]
  },
  {
   "cell_type": "code",
   "execution_count": 12,
   "id": "5d4ef726",
   "metadata": {
    "execution": {
     "iopub.execute_input": "2024-01-16T11:17:25.974556Z",
     "iopub.status.busy": "2024-01-16T11:17:25.973885Z",
     "iopub.status.idle": "2024-01-16T11:17:25.979111Z",
     "shell.execute_reply": "2024-01-16T11:17:25.978274Z"
    },
    "papermill": {
     "duration": 0.014273,
     "end_time": "2024-01-16T11:17:25.980938",
     "exception": false,
     "start_time": "2024-01-16T11:17:25.966665",
     "status": "completed"
    },
    "tags": []
   },
   "outputs": [
    {
     "name": "stdout",
     "output_type": "stream",
     "text": [
      "[[ 0.63994726  0.84832379  0.14964075 ...  0.20401277  0.46849198\n",
      "   1.4259954 ]\n",
      " [-0.84488505 -1.12339636 -0.16054575 ... -0.68442195 -0.36506078\n",
      "  -0.19067191]\n",
      " [ 1.23388019  1.94372388 -0.26394125 ... -1.10325546  0.60439732\n",
      "  -0.10558415]\n",
      " ...\n",
      " [ 0.3429808   0.00330087  0.14964075 ... -0.73518964 -0.68519336\n",
      "  -0.27575966]\n",
      " [-0.84488505  0.1597866  -0.47073225 ... -0.24020459 -0.37110101\n",
      "   1.17073215]\n",
      " [-0.84488505 -0.8730192   0.04624525 ... -0.20212881 -0.47378505\n",
      "  -0.87137393]]\n"
     ]
    }
   ],
   "source": [
    "print(standardized_data)"
   ]
  },
  {
   "cell_type": "code",
   "execution_count": 13,
   "id": "2853eddf",
   "metadata": {
    "execution": {
     "iopub.execute_input": "2024-01-16T11:17:25.995209Z",
     "iopub.status.busy": "2024-01-16T11:17:25.994563Z",
     "iopub.status.idle": "2024-01-16T11:17:25.999689Z",
     "shell.execute_reply": "2024-01-16T11:17:25.998795Z"
    },
    "papermill": {
     "duration": 0.015297,
     "end_time": "2024-01-16T11:17:26.002145",
     "exception": false,
     "start_time": "2024-01-16T11:17:25.986848",
     "status": "completed"
    },
    "tags": []
   },
   "outputs": [],
   "source": [
    "X = standardized_data"
   ]
  },
  {
   "cell_type": "code",
   "execution_count": 14,
   "id": "afe6e521",
   "metadata": {
    "execution": {
     "iopub.execute_input": "2024-01-16T11:17:26.015879Z",
     "iopub.status.busy": "2024-01-16T11:17:26.015505Z",
     "iopub.status.idle": "2024-01-16T11:17:26.021379Z",
     "shell.execute_reply": "2024-01-16T11:17:26.020337Z"
    },
    "papermill": {
     "duration": 0.015643,
     "end_time": "2024-01-16T11:17:26.023844",
     "exception": false,
     "start_time": "2024-01-16T11:17:26.008201",
     "status": "completed"
    },
    "tags": []
   },
   "outputs": [
    {
     "name": "stdout",
     "output_type": "stream",
     "text": [
      "[[ 0.63994726  0.84832379  0.14964075 ...  0.20401277  0.46849198\n",
      "   1.4259954 ]\n",
      " [-0.84488505 -1.12339636 -0.16054575 ... -0.68442195 -0.36506078\n",
      "  -0.19067191]\n",
      " [ 1.23388019  1.94372388 -0.26394125 ... -1.10325546  0.60439732\n",
      "  -0.10558415]\n",
      " ...\n",
      " [ 0.3429808   0.00330087  0.14964075 ... -0.73518964 -0.68519336\n",
      "  -0.27575966]\n",
      " [-0.84488505  0.1597866  -0.47073225 ... -0.24020459 -0.37110101\n",
      "   1.17073215]\n",
      " [-0.84488505 -0.8730192   0.04624525 ... -0.20212881 -0.47378505\n",
      "  -0.87137393]]\n"
     ]
    }
   ],
   "source": [
    "print(X)"
   ]
  },
  {
   "cell_type": "code",
   "execution_count": 15,
   "id": "75a01c50",
   "metadata": {
    "execution": {
     "iopub.execute_input": "2024-01-16T11:17:26.038405Z",
     "iopub.status.busy": "2024-01-16T11:17:26.037243Z",
     "iopub.status.idle": "2024-01-16T11:17:26.043682Z",
     "shell.execute_reply": "2024-01-16T11:17:26.042947Z"
    },
    "papermill": {
     "duration": 0.01566,
     "end_time": "2024-01-16T11:17:26.045606",
     "exception": false,
     "start_time": "2024-01-16T11:17:26.029946",
     "status": "completed"
    },
    "tags": []
   },
   "outputs": [
    {
     "name": "stdout",
     "output_type": "stream",
     "text": [
      "0      1\n",
      "1      0\n",
      "2      1\n",
      "3      0\n",
      "4      1\n",
      "      ..\n",
      "763    0\n",
      "764    0\n",
      "765    0\n",
      "766    1\n",
      "767    0\n",
      "Name: Outcome, Length: 768, dtype: int64\n"
     ]
    }
   ],
   "source": [
    "print(Y)"
   ]
  },
  {
   "cell_type": "markdown",
   "id": "f7e950a5",
   "metadata": {
    "papermill": {
     "duration": 0.005747,
     "end_time": "2024-01-16T11:17:26.057539",
     "exception": false,
     "start_time": "2024-01-16T11:17:26.051792",
     "status": "completed"
    },
    "tags": []
   },
   "source": [
    "Splitting the dataset into Training data & Testing Data"
   ]
  },
  {
   "cell_type": "code",
   "execution_count": 16,
   "id": "35fb728d",
   "metadata": {
    "execution": {
     "iopub.execute_input": "2024-01-16T11:17:26.071148Z",
     "iopub.status.busy": "2024-01-16T11:17:26.070746Z",
     "iopub.status.idle": "2024-01-16T11:17:26.076685Z",
     "shell.execute_reply": "2024-01-16T11:17:26.075697Z"
    },
    "papermill": {
     "duration": 0.015436,
     "end_time": "2024-01-16T11:17:26.078930",
     "exception": false,
     "start_time": "2024-01-16T11:17:26.063494",
     "status": "completed"
    },
    "tags": []
   },
   "outputs": [],
   "source": [
    "X_train, X_test, Y_train, Y_test = train_test_split(X, Y, test_size=0.2, random_state=2)\n",
    "     "
   ]
  },
  {
   "cell_type": "code",
   "execution_count": 17,
   "id": "9dad0a55",
   "metadata": {
    "execution": {
     "iopub.execute_input": "2024-01-16T11:17:26.093267Z",
     "iopub.status.busy": "2024-01-16T11:17:26.092342Z",
     "iopub.status.idle": "2024-01-16T11:17:26.098406Z",
     "shell.execute_reply": "2024-01-16T11:17:26.097353Z"
    },
    "papermill": {
     "duration": 0.015564,
     "end_time": "2024-01-16T11:17:26.100603",
     "exception": false,
     "start_time": "2024-01-16T11:17:26.085039",
     "status": "completed"
    },
    "tags": []
   },
   "outputs": [
    {
     "name": "stdout",
     "output_type": "stream",
     "text": [
      "(768, 8) (614, 8) (154, 8)\n"
     ]
    }
   ],
   "source": [
    "print(X.shape, X_train.shape, X_test.shape)"
   ]
  },
  {
   "cell_type": "code",
   "execution_count": null,
   "id": "92e0d656",
   "metadata": {
    "papermill": {
     "duration": 0.00593,
     "end_time": "2024-01-16T11:17:26.112686",
     "exception": false,
     "start_time": "2024-01-16T11:17:26.106756",
     "status": "completed"
    },
    "tags": []
   },
   "outputs": [],
   "source": []
  }
 ],
 "metadata": {
  "kaggle": {
   "accelerator": "none",
   "dataSources": [
    {
     "datasetId": 4304405,
     "sourceId": 7402258,
     "sourceType": "datasetVersion"
    }
   ],
   "dockerImageVersionId": 30635,
   "isGpuEnabled": false,
   "isInternetEnabled": true,
   "language": "python",
   "sourceType": "notebook"
  },
  "kernelspec": {
   "display_name": "Python 3",
   "language": "python",
   "name": "python3"
  },
  "language_info": {
   "codemirror_mode": {
    "name": "ipython",
    "version": 3
   },
   "file_extension": ".py",
   "mimetype": "text/x-python",
   "name": "python",
   "nbconvert_exporter": "python",
   "pygments_lexer": "ipython3",
   "version": "3.10.12"
  },
  "papermill": {
   "default_parameters": {},
   "duration": 5.43221,
   "end_time": "2024-01-16T11:17:26.637960",
   "environment_variables": {},
   "exception": null,
   "input_path": "__notebook__.ipynb",
   "output_path": "__notebook__.ipynb",
   "parameters": {},
   "start_time": "2024-01-16T11:17:21.205750",
   "version": "2.4.0"
  }
 },
 "nbformat": 4,
 "nbformat_minor": 5
}
