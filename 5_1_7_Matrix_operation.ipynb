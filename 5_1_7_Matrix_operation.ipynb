{
 "cells": [
  {
   "cell_type": "code",
   "execution_count": 1,
   "id": "cf7ffe5e",
   "metadata": {
    "_cell_guid": "b1076dfc-b9ad-4769-8c92-a6c4dae69d19",
    "_uuid": "8f2839f25d086af736a60e9eeb907d3b93b6e0e5",
    "execution": {
     "iopub.execute_input": "2024-01-16T21:14:02.720337Z",
     "iopub.status.busy": "2024-01-16T21:14:02.719004Z",
     "iopub.status.idle": "2024-01-16T21:14:03.128951Z",
     "shell.execute_reply": "2024-01-16T21:14:03.127779Z"
    },
    "papermill": {
     "duration": 0.420339,
     "end_time": "2024-01-16T21:14:03.131872",
     "exception": false,
     "start_time": "2024-01-16T21:14:02.711533",
     "status": "completed"
    },
    "tags": []
   },
   "outputs": [],
   "source": [
    "# This Python 3 environment comes with many helpful analytics libraries installed\n",
    "# It is defined by the kaggle/python Docker image: https://github.com/kaggle/docker-python\n",
    "# For example, here's several helpful packages to load\n",
    "\n",
    "import numpy as np # linear algebra\n",
    "import pandas as pd # data processing, CSV file I/O (e.g. pd.read_csv)\n",
    "\n",
    "# Input data files are available in the read-only \"../input/\" directory\n",
    "# For example, running this (by clicking run or pressing Shift+Enter) will list all files under the input directory\n",
    "\n",
    "import os\n",
    "for dirname, _, filenames in os.walk('/kaggle/input'):\n",
    "    for filename in filenames:\n",
    "        print(os.path.join(dirname, filename))\n",
    "\n",
    "# You can write up to 20GB to the current directory (/kaggle/working/) that gets preserved as output when you create a version using \"Save & Run All\" \n",
    "# You can also write temporary files to /kaggle/temp/, but they won't be saved outside of the current session"
   ]
  },
  {
   "cell_type": "code",
   "execution_count": 2,
   "id": "8e78726d",
   "metadata": {
    "execution": {
     "iopub.execute_input": "2024-01-16T21:14:03.144681Z",
     "iopub.status.busy": "2024-01-16T21:14:03.143975Z",
     "iopub.status.idle": "2024-01-16T21:14:03.149204Z",
     "shell.execute_reply": "2024-01-16T21:14:03.148002Z"
    },
    "papermill": {
     "duration": 0.014346,
     "end_time": "2024-01-16T21:14:03.151738",
     "exception": false,
     "start_time": "2024-01-16T21:14:03.137392",
     "status": "completed"
    },
    "tags": []
   },
   "outputs": [],
   "source": [
    "import numpy as np"
   ]
  },
  {
   "cell_type": "code",
   "execution_count": 3,
   "id": "acca6e6e",
   "metadata": {
    "execution": {
     "iopub.execute_input": "2024-01-16T21:14:03.164490Z",
     "iopub.status.busy": "2024-01-16T21:14:03.163829Z",
     "iopub.status.idle": "2024-01-16T21:14:03.171503Z",
     "shell.execute_reply": "2024-01-16T21:14:03.170280Z"
    },
    "papermill": {
     "duration": 0.01714,
     "end_time": "2024-01-16T21:14:03.174277",
     "exception": false,
     "start_time": "2024-01-16T21:14:03.157137",
     "status": "completed"
    },
    "tags": []
   },
   "outputs": [
    {
     "name": "stdout",
     "output_type": "stream",
     "text": [
      "[[2 3]\n",
      " [6 7]]\n"
     ]
    }
   ],
   "source": [
    "matrix_1 = np.array([[2,3],[6,7]])\n",
    "print(matrix_1)"
   ]
  },
  {
   "cell_type": "code",
   "execution_count": 4,
   "id": "c30764b9",
   "metadata": {
    "execution": {
     "iopub.execute_input": "2024-01-16T21:14:03.187332Z",
     "iopub.status.busy": "2024-01-16T21:14:03.186925Z",
     "iopub.status.idle": "2024-01-16T21:14:03.194329Z",
     "shell.execute_reply": "2024-01-16T21:14:03.193083Z"
    },
    "papermill": {
     "duration": 0.016973,
     "end_time": "2024-01-16T21:14:03.196766",
     "exception": false,
     "start_time": "2024-01-16T21:14:03.179793",
     "status": "completed"
    },
    "tags": []
   },
   "outputs": [
    {
     "data": {
      "text/plain": [
       "(2, 2)"
      ]
     },
     "execution_count": 4,
     "metadata": {},
     "output_type": "execute_result"
    }
   ],
   "source": [
    "matrix_1.shape"
   ]
  },
  {
   "cell_type": "code",
   "execution_count": 5,
   "id": "197c1328",
   "metadata": {
    "execution": {
     "iopub.execute_input": "2024-01-16T21:14:03.210600Z",
     "iopub.status.busy": "2024-01-16T21:14:03.209917Z",
     "iopub.status.idle": "2024-01-16T21:14:03.216412Z",
     "shell.execute_reply": "2024-01-16T21:14:03.215264Z"
    },
    "papermill": {
     "duration": 0.016106,
     "end_time": "2024-01-16T21:14:03.218543",
     "exception": false,
     "start_time": "2024-01-16T21:14:03.202437",
     "status": "completed"
    },
    "tags": []
   },
   "outputs": [
    {
     "name": "stdout",
     "output_type": "stream",
     "text": [
      "[[10 35 45]\n",
      " [50 64 80]\n",
      " [20 15 90]]\n"
     ]
    }
   ],
   "source": [
    "matrix_2 = np.array([[10,35,45],[50,64,80],[20,15,90]])\n",
    "print(matrix_2)"
   ]
  },
  {
   "cell_type": "code",
   "execution_count": 6,
   "id": "45b8d37f",
   "metadata": {
    "execution": {
     "iopub.execute_input": "2024-01-16T21:14:03.231989Z",
     "iopub.status.busy": "2024-01-16T21:14:03.231276Z",
     "iopub.status.idle": "2024-01-16T21:14:03.238022Z",
     "shell.execute_reply": "2024-01-16T21:14:03.236813Z"
    },
    "papermill": {
     "duration": 0.016139,
     "end_time": "2024-01-16T21:14:03.240253",
     "exception": false,
     "start_time": "2024-01-16T21:14:03.224114",
     "status": "completed"
    },
    "tags": []
   },
   "outputs": [
    {
     "data": {
      "text/plain": [
       "(3, 3)"
      ]
     },
     "execution_count": 6,
     "metadata": {},
     "output_type": "execute_result"
    }
   ],
   "source": [
    "matrix_2.shape\n",
    "     "
   ]
  },
  {
   "cell_type": "markdown",
   "id": "89ea298e",
   "metadata": {
    "papermill": {
     "duration": 0.00537,
     "end_time": "2024-01-16T21:14:03.251340",
     "exception": false,
     "start_time": "2024-01-16T21:14:03.245970",
     "status": "completed"
    },
    "tags": []
   },
   "source": [
    "Creating Matrices with Random Values"
   ]
  },
  {
   "cell_type": "code",
   "execution_count": 7,
   "id": "d5fb0045",
   "metadata": {
    "execution": {
     "iopub.execute_input": "2024-01-16T21:14:03.264803Z",
     "iopub.status.busy": "2024-01-16T21:14:03.264157Z",
     "iopub.status.idle": "2024-01-16T21:14:03.270749Z",
     "shell.execute_reply": "2024-01-16T21:14:03.269378Z"
    },
    "papermill": {
     "duration": 0.016166,
     "end_time": "2024-01-16T21:14:03.273175",
     "exception": false,
     "start_time": "2024-01-16T21:14:03.257009",
     "status": "completed"
    },
    "tags": []
   },
   "outputs": [
    {
     "name": "stdout",
     "output_type": "stream",
     "text": [
      "[[0.5704352  0.27540359 0.12243701]\n",
      " [0.64566606 0.82795497 0.91579482]\n",
      " [0.04509407 0.11264582 0.75645648]]\n"
     ]
    }
   ],
   "source": [
    "random_matrix = np.random.rand(3,3)\n",
    "print(random_matrix)"
   ]
  },
  {
   "cell_type": "code",
   "execution_count": 8,
   "id": "05acab9a",
   "metadata": {
    "execution": {
     "iopub.execute_input": "2024-01-16T21:14:03.286717Z",
     "iopub.status.busy": "2024-01-16T21:14:03.286315Z",
     "iopub.status.idle": "2024-01-16T21:14:03.294138Z",
     "shell.execute_reply": "2024-01-16T21:14:03.293020Z"
    },
    "papermill": {
     "duration": 0.01775,
     "end_time": "2024-01-16T21:14:03.296866",
     "exception": false,
     "start_time": "2024-01-16T21:14:03.279116",
     "status": "completed"
    },
    "tags": []
   },
   "outputs": [
    {
     "name": "stdout",
     "output_type": "stream",
     "text": [
      "[[90 87 33 64 31]\n",
      " [35 39  9 20 61]\n",
      " [ 1 11 26 38 68]\n",
      " [48 59 80 69 43]]\n"
     ]
    }
   ],
   "source": [
    "# creating matrix with random integers\n",
    "random_integer_matrix = np.random.randint(100, size=(4,5))\n",
    "print(random_integer_matrix)"
   ]
  },
  {
   "cell_type": "markdown",
   "id": "27795e31",
   "metadata": {
    "papermill": {
     "duration": 0.005558,
     "end_time": "2024-01-16T21:14:03.308704",
     "exception": false,
     "start_time": "2024-01-16T21:14:03.303146",
     "status": "completed"
    },
    "tags": []
   },
   "source": [
    "Matrix with all the values as 1"
   ]
  },
  {
   "cell_type": "code",
   "execution_count": 9,
   "id": "88111368",
   "metadata": {
    "execution": {
     "iopub.execute_input": "2024-01-16T21:14:03.322785Z",
     "iopub.status.busy": "2024-01-16T21:14:03.321667Z",
     "iopub.status.idle": "2024-01-16T21:14:03.327521Z",
     "shell.execute_reply": "2024-01-16T21:14:03.326300Z"
    },
    "papermill": {
     "duration": 0.015058,
     "end_time": "2024-01-16T21:14:03.329600",
     "exception": false,
     "start_time": "2024-01-16T21:14:03.314542",
     "status": "completed"
    },
    "tags": []
   },
   "outputs": [
    {
     "name": "stdout",
     "output_type": "stream",
     "text": [
      "[[1. 1. 1.]\n",
      " [1. 1. 1.]]\n"
     ]
    }
   ],
   "source": [
    "matrix_3 = np.ones((2,3))\n",
    "print(matrix_3)"
   ]
  },
  {
   "cell_type": "code",
   "execution_count": 10,
   "id": "6b0b905a",
   "metadata": {
    "execution": {
     "iopub.execute_input": "2024-01-16T21:14:03.343829Z",
     "iopub.status.busy": "2024-01-16T21:14:03.343172Z",
     "iopub.status.idle": "2024-01-16T21:14:03.348666Z",
     "shell.execute_reply": "2024-01-16T21:14:03.347252Z"
    },
    "papermill": {
     "duration": 0.015266,
     "end_time": "2024-01-16T21:14:03.351033",
     "exception": false,
     "start_time": "2024-01-16T21:14:03.335767",
     "status": "completed"
    },
    "tags": []
   },
   "outputs": [
    {
     "name": "stdout",
     "output_type": "stream",
     "text": [
      "[[1 1 1]\n",
      " [1 1 1]]\n"
     ]
    }
   ],
   "source": [
    "matrix_3 = np.ones((2,3), dtype=int)\n",
    "print(matrix_3)"
   ]
  },
  {
   "cell_type": "code",
   "execution_count": 11,
   "id": "ffdd7b36",
   "metadata": {
    "execution": {
     "iopub.execute_input": "2024-01-16T21:14:03.365035Z",
     "iopub.status.busy": "2024-01-16T21:14:03.364644Z",
     "iopub.status.idle": "2024-01-16T21:14:03.370781Z",
     "shell.execute_reply": "2024-01-16T21:14:03.369419Z"
    },
    "papermill": {
     "duration": 0.016117,
     "end_time": "2024-01-16T21:14:03.373259",
     "exception": false,
     "start_time": "2024-01-16T21:14:03.357142",
     "status": "completed"
    },
    "tags": []
   },
   "outputs": [
    {
     "name": "stdout",
     "output_type": "stream",
     "text": [
      "[[1 1 1 1 1 1 1 1 1 1]\n",
      " [1 1 1 1 1 1 1 1 1 1]\n",
      " [1 1 1 1 1 1 1 1 1 1]\n",
      " [1 1 1 1 1 1 1 1 1 1]\n",
      " [1 1 1 1 1 1 1 1 1 1]\n",
      " [1 1 1 1 1 1 1 1 1 1]\n",
      " [1 1 1 1 1 1 1 1 1 1]\n",
      " [1 1 1 1 1 1 1 1 1 1]\n",
      " [1 1 1 1 1 1 1 1 1 1]\n",
      " [1 1 1 1 1 1 1 1 1 1]]\n"
     ]
    }
   ],
   "source": [
    "matrix_3 = np.ones((10,10), dtype=int)\n",
    "print(matrix_3)"
   ]
  },
  {
   "cell_type": "markdown",
   "id": "39eb91ed",
   "metadata": {
    "papermill": {
     "duration": 0.005778,
     "end_time": "2024-01-16T21:14:03.385300",
     "exception": false,
     "start_time": "2024-01-16T21:14:03.379522",
     "status": "completed"
    },
    "tags": []
   },
   "source": [
    "Null Matrix or Zero Matrix\n",
    "\n"
   ]
  },
  {
   "cell_type": "code",
   "execution_count": 12,
   "id": "a38e2016",
   "metadata": {
    "execution": {
     "iopub.execute_input": "2024-01-16T21:14:03.399513Z",
     "iopub.status.busy": "2024-01-16T21:14:03.398871Z",
     "iopub.status.idle": "2024-01-16T21:14:03.405516Z",
     "shell.execute_reply": "2024-01-16T21:14:03.404184Z"
    },
    "papermill": {
     "duration": 0.016501,
     "end_time": "2024-01-16T21:14:03.407821",
     "exception": false,
     "start_time": "2024-01-16T21:14:03.391320",
     "status": "completed"
    },
    "tags": []
   },
   "outputs": [
    {
     "name": "stdout",
     "output_type": "stream",
     "text": [
      "[[0. 0. 0. 0.]\n",
      " [0. 0. 0. 0.]\n",
      " [0. 0. 0. 0.]\n",
      " [0. 0. 0. 0.]]\n"
     ]
    }
   ],
   "source": [
    "null_matrix = np.zeros((4,4))\n",
    "print(null_matrix)"
   ]
  },
  {
   "cell_type": "code",
   "execution_count": 13,
   "id": "98297e0e",
   "metadata": {
    "execution": {
     "iopub.execute_input": "2024-01-16T21:14:03.423558Z",
     "iopub.status.busy": "2024-01-16T21:14:03.423148Z",
     "iopub.status.idle": "2024-01-16T21:14:03.428437Z",
     "shell.execute_reply": "2024-01-16T21:14:03.427242Z"
    },
    "papermill": {
     "duration": 0.017831,
     "end_time": "2024-01-16T21:14:03.431811",
     "exception": false,
     "start_time": "2024-01-16T21:14:03.413980",
     "status": "completed"
    },
    "tags": []
   },
   "outputs": [
    {
     "name": "stdout",
     "output_type": "stream",
     "text": [
      "[[0. 0. 0. 0. 0. 0. 0.]\n",
      " [0. 0. 0. 0. 0. 0. 0.]\n",
      " [0. 0. 0. 0. 0. 0. 0.]\n",
      " [0. 0. 0. 0. 0. 0. 0.]\n",
      " [0. 0. 0. 0. 0. 0. 0.]\n",
      " [0. 0. 0. 0. 0. 0. 0.]\n",
      " [0. 0. 0. 0. 0. 0. 0.]]\n"
     ]
    }
   ],
   "source": [
    "null_matrix = np.zeros((7,7))\n",
    "print(null_matrix)"
   ]
  },
  {
   "cell_type": "markdown",
   "id": "e65f6bdd",
   "metadata": {
    "papermill": {
     "duration": 0.00608,
     "end_time": "2024-01-16T21:14:03.444116",
     "exception": false,
     "start_time": "2024-01-16T21:14:03.438036",
     "status": "completed"
    },
    "tags": []
   },
   "source": [
    "Identity Matrix"
   ]
  },
  {
   "cell_type": "code",
   "execution_count": 14,
   "id": "b0d41922",
   "metadata": {
    "execution": {
     "iopub.execute_input": "2024-01-16T21:14:03.459157Z",
     "iopub.status.busy": "2024-01-16T21:14:03.458161Z",
     "iopub.status.idle": "2024-01-16T21:14:03.464399Z",
     "shell.execute_reply": "2024-01-16T21:14:03.463194Z"
    },
    "papermill": {
     "duration": 0.016336,
     "end_time": "2024-01-16T21:14:03.466677",
     "exception": false,
     "start_time": "2024-01-16T21:14:03.450341",
     "status": "completed"
    },
    "tags": []
   },
   "outputs": [
    {
     "name": "stdout",
     "output_type": "stream",
     "text": [
      "[[1. 0. 0.]\n",
      " [0. 1. 0.]\n",
      " [0. 0. 1.]]\n"
     ]
    }
   ],
   "source": [
    "identity_matrix = np.eye(3,3)\n",
    "print(identity_matrix)"
   ]
  },
  {
   "cell_type": "code",
   "execution_count": 15,
   "id": "2849c29a",
   "metadata": {
    "execution": {
     "iopub.execute_input": "2024-01-16T21:14:03.482042Z",
     "iopub.status.busy": "2024-01-16T21:14:03.481052Z",
     "iopub.status.idle": "2024-01-16T21:14:03.487828Z",
     "shell.execute_reply": "2024-01-16T21:14:03.486444Z"
    },
    "papermill": {
     "duration": 0.017155,
     "end_time": "2024-01-16T21:14:03.490607",
     "exception": false,
     "start_time": "2024-01-16T21:14:03.473452",
     "status": "completed"
    },
    "tags": []
   },
   "outputs": [
    {
     "name": "stdout",
     "output_type": "stream",
     "text": [
      "[[1. 0. 0. 0. 0.]\n",
      " [0. 1. 0. 0. 0.]\n",
      " [0. 0. 1. 0. 0.]\n",
      " [0. 0. 0. 1. 0.]\n",
      " [0. 0. 0. 0. 1.]]\n"
     ]
    }
   ],
   "source": [
    "identity_matrix = np.eye(5,5)\n",
    "print(identity_matrix)\n",
    "     "
   ]
  },
  {
   "cell_type": "markdown",
   "id": "dc8471b9",
   "metadata": {
    "papermill": {
     "duration": 0.006222,
     "end_time": "2024-01-16T21:14:03.503682",
     "exception": false,
     "start_time": "2024-01-16T21:14:03.497460",
     "status": "completed"
    },
    "tags": []
   },
   "source": [
    "Transpose of a Matrix\n",
    "\n"
   ]
  },
  {
   "cell_type": "code",
   "execution_count": 16,
   "id": "7d8aa13a",
   "metadata": {
    "execution": {
     "iopub.execute_input": "2024-01-16T21:14:03.518598Z",
     "iopub.status.busy": "2024-01-16T21:14:03.517892Z",
     "iopub.status.idle": "2024-01-16T21:14:03.524540Z",
     "shell.execute_reply": "2024-01-16T21:14:03.523447Z"
    },
    "papermill": {
     "duration": 0.016607,
     "end_time": "2024-01-16T21:14:03.526668",
     "exception": false,
     "start_time": "2024-01-16T21:14:03.510061",
     "status": "completed"
    },
    "tags": []
   },
   "outputs": [
    {
     "name": "stdout",
     "output_type": "stream",
     "text": [
      "[[78 66 56 66 97]\n",
      " [67 14 63 60 16]\n",
      " [32 25 11 39 23]\n",
      " [26 64 33 99 62]]\n"
     ]
    }
   ],
   "source": [
    "# matrix with random integer values\n",
    "a = np.random.randint(100, size=(4,5))\n",
    "print(a)"
   ]
  },
  {
   "cell_type": "code",
   "execution_count": 17,
   "id": "dc59a3bd",
   "metadata": {
    "execution": {
     "iopub.execute_input": "2024-01-16T21:14:03.541792Z",
     "iopub.status.busy": "2024-01-16T21:14:03.540741Z",
     "iopub.status.idle": "2024-01-16T21:14:03.547520Z",
     "shell.execute_reply": "2024-01-16T21:14:03.546448Z"
    },
    "papermill": {
     "duration": 0.016629,
     "end_time": "2024-01-16T21:14:03.549751",
     "exception": false,
     "start_time": "2024-01-16T21:14:03.533122",
     "status": "completed"
    },
    "tags": []
   },
   "outputs": [
    {
     "name": "stdout",
     "output_type": "stream",
     "text": [
      "[[78 67 32 26]\n",
      " [66 14 25 64]\n",
      " [56 63 11 33]\n",
      " [66 60 39 99]\n",
      " [97 16 23 62]]\n"
     ]
    }
   ],
   "source": [
    "transpose_of_a = np.transpose(a)\n",
    "print(transpose_of_a)"
   ]
  },
  {
   "cell_type": "code",
   "execution_count": null,
   "id": "d20b6529",
   "metadata": {
    "papermill": {
     "duration": 0.006662,
     "end_time": "2024-01-16T21:14:03.563307",
     "exception": false,
     "start_time": "2024-01-16T21:14:03.556645",
     "status": "completed"
    },
    "tags": []
   },
   "outputs": [],
   "source": []
  }
 ],
 "metadata": {
  "kaggle": {
   "accelerator": "none",
   "dataSources": [],
   "dockerImageVersionId": 30635,
   "isGpuEnabled": false,
   "isInternetEnabled": true,
   "language": "python",
   "sourceType": "notebook"
  },
  "kernelspec": {
   "display_name": "Python 3",
   "language": "python",
   "name": "python3"
  },
  "language_info": {
   "codemirror_mode": {
    "name": "ipython",
    "version": 3
   },
   "file_extension": ".py",
   "mimetype": "text/x-python",
   "name": "python",
   "nbconvert_exporter": "python",
   "pygments_lexer": "ipython3",
   "version": "3.10.12"
  },
  "papermill": {
   "default_parameters": {},
   "duration": 4.6578,
   "end_time": "2024-01-16T21:14:04.090166",
   "environment_variables": {},
   "exception": null,
   "input_path": "__notebook__.ipynb",
   "output_path": "__notebook__.ipynb",
   "parameters": {},
   "start_time": "2024-01-16T21:13:59.432366",
   "version": "2.4.0"
  }
 },
 "nbformat": 4,
 "nbformat_minor": 5
}
