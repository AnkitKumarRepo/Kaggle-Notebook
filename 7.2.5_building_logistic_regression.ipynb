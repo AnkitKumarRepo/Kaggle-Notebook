{
 "cells": [
  {
   "cell_type": "code",
   "execution_count": 1,
   "id": "4eb3d15e",
   "metadata": {
    "_cell_guid": "b1076dfc-b9ad-4769-8c92-a6c4dae69d19",
    "_uuid": "8f2839f25d086af736a60e9eeb907d3b93b6e0e5",
    "execution": {
     "iopub.execute_input": "2024-01-17T14:18:27.900730Z",
     "iopub.status.busy": "2024-01-17T14:18:27.900220Z",
     "iopub.status.idle": "2024-01-17T14:18:28.439199Z",
     "shell.execute_reply": "2024-01-17T14:18:28.437702Z"
    },
    "papermill": {
     "duration": 0.550721,
     "end_time": "2024-01-17T14:18:28.443145",
     "exception": false,
     "start_time": "2024-01-17T14:18:27.892424",
     "status": "completed"
    },
    "tags": []
   },
   "outputs": [],
   "source": [
    "# This Python 3 environment comes with many helpful analytics libraries installed\n",
    "# It is defined by the kaggle/python Docker image: https://github.com/kaggle/docker-python\n",
    "# For example, here's several helpful packages to load\n",
    "\n",
    "import numpy as np # linear algebra\n",
    "import pandas as pd # data processing, CSV file I/O (e.g. pd.read_csv)\n",
    "\n",
    "# Input data files are available in the read-only \"../input/\" directory\n",
    "# For example, running this (by clicking run or pressing Shift+Enter) will list all files under the input directory\n",
    "\n",
    "import os\n",
    "for dirname, _, filenames in os.walk('/kaggle/input'):\n",
    "    for filename in filenames:\n",
    "        print(os.path.join(dirname, filename))\n",
    "\n",
    "# You can write up to 20GB to the current directory (/kaggle/working/) that gets preserved as output when you create a version using \"Save & Run All\" \n",
    "# You can also write temporary files to /kaggle/temp/, but they won't be saved outside of the current session"
   ]
  },
  {
   "cell_type": "markdown",
   "id": "0a6ada5a",
   "metadata": {
    "papermill": {
     "duration": 0.00455,
     "end_time": "2024-01-17T14:18:28.453449",
     "exception": false,
     "start_time": "2024-01-17T14:18:28.448899",
     "status": "completed"
    },
    "tags": []
   },
   "source": []
  },
  {
   "cell_type": "markdown",
   "id": "4b9d530e",
   "metadata": {
    "papermill": {
     "duration": 0.004539,
     "end_time": "2024-01-17T14:18:28.462928",
     "exception": false,
     "start_time": "2024-01-17T14:18:28.458389",
     "status": "completed"
    },
    "tags": []
   },
   "source": [
    "**Logistic Regression:**"
   ]
  },
  {
   "attachments": {
    "0b6b32e9-05a8-46da-8bdc-eb547da273ee.png": {
     "image/png": "[encoded data removed]"
    }
   },
   "cell_type": "markdown",
   "id": "1ee80195",
   "metadata": {
    "papermill": {
     "duration": 0.004255,
     "end_time": "2024-01-17T14:18:28.471991",
     "exception": false,
     "start_time": "2024-01-17T14:18:28.467736",
     "status": "completed"
    },
    "tags": []
   },
   "source": [
    "![image.png](attachment:0b6b32e9-05a8-46da-8bdc-eb547da273ee.png)!"
   ]
  },
  {
   "cell_type": "markdown",
   "id": "46c75d59",
   "metadata": {
    "papermill": {
     "duration": 0.004271,
     "end_time": "2024-01-17T14:18:28.481071",
     "exception": false,
     "start_time": "2024-01-17T14:18:28.476800",
     "status": "completed"
    },
    "tags": []
   },
   "source": [
    "Y_hat --> predicted value\n",
    "\n",
    "X --> Input Variable\n",
    "\n",
    "w --> weight\n",
    "\n",
    "b --> bias\n",
    "\n",
    "Gradient Descent:\n",
    "\n",
    "Gradient Descent is an optimization algorithm used for minimizing the loss function in various machine learning algorithms. It is used for updating the parameters of the learning model.\n",
    "\n",
    "w = w - α*dw\n",
    "\n",
    "b = b - α*db\n",
    "\n",
    "Learning Rate:\n",
    "\n",
    "Learning rate is a tuning parameter in an optimization algorithm that determines the step size at each iteration while moving toward a minimum of a loss function."
   ]
  },
  {
   "cell_type": "markdown",
   "id": "73a27b0e",
   "metadata": {
    "papermill": {
     "duration": 0.004325,
     "end_time": "2024-01-17T14:18:28.490083",
     "exception": false,
     "start_time": "2024-01-17T14:18:28.485758",
     "status": "completed"
    },
    "tags": []
   },
   "source": [
    "Derivatives:"
   ]
  },
  {
   "attachments": {
    "8bb95ff5-9d80-46cb-9b1f-ecae1fe67027.png": {
     "image/png": "[encoded data removed]"
    }
   },
   "cell_type": "markdown",
   "id": "d22ecb3b",
   "metadata": {
    "papermill": {
     "duration": 0.004482,
     "end_time": "2024-01-17T14:18:28.499528",
     "exception": false,
     "start_time": "2024-01-17T14:18:28.495046",
     "status": "completed"
    },
    "tags": []
   },
   "source": [
    "![image.png](attachment:8bb95ff5-9d80-46cb-9b1f-ecae1fe67027.png)!"
   ]
  },
  {
   "cell_type": "code",
   "execution_count": 2,
   "id": "4aaf2895",
   "metadata": {
    "execution": {
     "iopub.execute_input": "2024-01-17T14:18:28.513108Z",
     "iopub.status.busy": "2024-01-17T14:18:28.512160Z",
     "iopub.status.idle": "2024-01-17T14:18:28.517762Z",
     "shell.execute_reply": "2024-01-17T14:18:28.516660Z"
    },
    "papermill": {
     "duration": 0.016296,
     "end_time": "2024-01-17T14:18:28.521288",
     "exception": false,
     "start_time": "2024-01-17T14:18:28.504992",
     "status": "completed"
    },
    "tags": []
   },
   "outputs": [],
   "source": [
    "# importing numpy library\n",
    "import numpy as np"
   ]
  },
  {
   "cell_type": "markdown",
   "id": "15e7f488",
   "metadata": {
    "papermill": {
     "duration": 0.004656,
     "end_time": "2024-01-17T14:18:28.531975",
     "exception": false,
     "start_time": "2024-01-17T14:18:28.527319",
     "status": "completed"
    },
    "tags": []
   },
   "source": [
    "Logistic Regression"
   ]
  },
  {
   "cell_type": "code",
   "execution_count": 3,
   "id": "8f6b3e81",
   "metadata": {
    "execution": {
     "iopub.execute_input": "2024-01-17T14:18:28.545440Z",
     "iopub.status.busy": "2024-01-17T14:18:28.543861Z",
     "iopub.status.idle": "2024-01-17T14:18:28.559622Z",
     "shell.execute_reply": "2024-01-17T14:18:28.557438Z"
    },
    "papermill": {
     "duration": 0.025769,
     "end_time": "2024-01-17T14:18:28.563130",
     "exception": false,
     "start_time": "2024-01-17T14:18:28.537361",
     "status": "completed"
    },
    "tags": []
   },
   "outputs": [],
   "source": [
    "class Logistic_Regression():\n",
    "\n",
    "\n",
    "  # declaring learning rate & number of iterations (Hyperparametes)\n",
    "  def __init__(self, learning_rate, no_of_iterations):\n",
    "\n",
    "    self.learning_rate = learning_rate\n",
    "    self.no_of_iterations = no_of_iterations\n",
    "\n",
    "\n",
    "\n",
    "  # fit function to train the model with dataset\n",
    "  def fit(self, X, Y):\n",
    "\n",
    "    # number of data points in the dataset (number of rows)  -->  m\n",
    "    # number of input features in the dataset (number of columns)  --> n\n",
    "    self.m, self.n = X.shape\n",
    "\n",
    "\n",
    "    #initiating weight & bias value\n",
    "\n",
    "    self.w = np.zeros(self.n)\n",
    "    \n",
    "    self.b = 0\n",
    "\n",
    "    self.X = X\n",
    "\n",
    "    self.Y = Y\n",
    "    \n",
    "    \n",
    "     # implementing Gradient Descent for Optimization\n",
    "\n",
    "    for i in range(self.no_of_iterations):\n",
    "      self.update_weights()\n",
    "    \n",
    "def update_weights(self):\n",
    "\n",
    "    # Y_hat formula (sigmoid function)\n",
    "\n",
    "    Y_hat = 1 / (1 + np.exp( - (self.X.dot(self.w) + self.b ) ))    \n",
    "\n",
    "\n",
    "    # derivaties\n",
    "\n",
    "    dw = (1/self.m)*np.dot(self.X.T, (Y_hat - self.Y))\n",
    "\n",
    "    db = (1/self.m)*np.sum(Y_hat - self.Y)\n",
    "\n",
    "\n",
    "    # updating the weights & bias using gradient descent\n",
    "\n",
    "    self.w = self.w - self.learning_rate * dw\n",
    "\n",
    "    self.b = self.b - self.learning_rate * db\n",
    "    \n",
    "    \n",
    "# Sigmoid Equation & Decision Boundary\n",
    "\n",
    "def predict(self, X):\n",
    "\n",
    "    Y_pred = 1 / (1 + np.exp( - (X.dot(self.w) + self.b ) )) \n",
    "    Y_pred = np.where( Y_pred > 0.5, 1, 0)\n",
    "    return Y_pred"
   ]
  },
  {
   "cell_type": "code",
   "execution_count": null,
   "id": "0384054d",
   "metadata": {
    "papermill": {
     "duration": 0.004305,
     "end_time": "2024-01-17T14:18:28.572766",
     "exception": false,
     "start_time": "2024-01-17T14:18:28.568461",
     "status": "completed"
    },
    "tags": []
   },
   "outputs": [],
   "source": []
  }
 ],
 "metadata": {
  "kaggle": {
   "accelerator": "none",
   "dataSources": [],
   "dockerImageVersionId": 30635,
   "isGpuEnabled": false,
   "isInternetEnabled": true,
   "language": "python",
   "sourceType": "notebook"
  },
  "kernelspec": {
   "display_name": "Python 3",
   "language": "python",
   "name": "python3"
  },
  "language_info": {
   "codemirror_mode": {
    "name": "ipython",
    "version": 3
   },
   "file_extension": ".py",
   "mimetype": "text/x-python",
   "name": "python",
   "nbconvert_exporter": "python",
   "pygments_lexer": "ipython3",
   "version": "3.10.12"
  },
  "papermill": {
   "default_parameters": {},
   "duration": 5.493674,
   "end_time": "2024-01-17T14:18:29.302645",
   "environment_variables": {},
   "exception": null,
   "input_path": "__notebook__.ipynb",
   "output_path": "__notebook__.ipynb",
   "parameters": {},
   "start_time": "2024-01-17T14:18:23.808971",
   "version": "2.4.0"
  }
 },
 "nbformat": 4,
 "nbformat_minor": 5
}
